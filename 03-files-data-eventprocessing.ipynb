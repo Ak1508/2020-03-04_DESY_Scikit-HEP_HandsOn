{
 "cells": [
  {
   "cell_type": "markdown",
   "metadata": {},
   "source": [
    "<center><h1><b><span style=\"color:blue\">Files, data, event processing</span></b></h1></center>\n",
    "\n",
    "#### **Quick intro to the following packages**\n",
    "- `uproot`.\n",
    "- `awkward-array`."
   ]
  },
  {
   "cell_type": "markdown",
   "metadata": {},
   "source": [
    "&nbsp;\n",
    "<center>\n",
    "    <img src=\"images/logo_uproot.png\" alt=\"uproot package logo\" style=\"width: 200px;\"/>\n",
    "    <h2><b><span style=\"color:green\">ROOT I/O in pure Python and NumPy</span></b></h2>\n",
    "</center>"
   ]
  },
  {
   "cell_type": "markdown",
   "metadata": {},
   "source": [
    "**What is ``uproot``?**\n",
    "\n",
    "`uproot` provides very fast, efficient, and convenient access to ROOT trees.\n",
    "\n",
    "- Pure Python + NumPy implementation of ROOT I/O (until recently, only “input”)\n",
    "- An array-centric view of ROOT TTree data:\n",
    "  - branches of simple types are simple arrays\n",
    "  - branches of complex types are “jagged arrays”\n",
    "-  High performance for large baskets, despite Python’s slowness (because all per-entry operations are performed in Numpy)\n",
    "- Greatest benefits: simplicity, minimal installation, set-up, and affinity with machine learning interfaces"
   ]
  },
  {
   "cell_type": "markdown",
   "metadata": {},
   "source": [
    "<center><img src=\"images/uproot_performance.png\" alt=\"uproot package performance\" width = \"75%\"/></center>"
   ]
  },
  {
   "cell_type": "markdown",
   "metadata": {},
   "source": [
    "### **1. Getting data from a ROOT TTree**"
   ]
  },
  {
   "cell_type": "code",
   "execution_count": 1,
   "metadata": {},
   "outputs": [],
   "source": [
    "import uproot"
   ]
  },
  {
   "cell_type": "code",
   "execution_count": 2,
   "metadata": {},
   "outputs": [
    {
     "data": {
      "text/plain": [
       "<ROOTDirectory b'Zmumu.root' at 0x7fa57860ced0>"
      ]
     },
     "execution_count": 2,
     "metadata": {},
     "output_type": "execute_result"
    }
   ],
   "source": [
    "f = uproot.open('data/toy-Z2mumu.root')\n",
    "\n",
    "f"
   ]
  },
  {
   "cell_type": "code",
   "execution_count": 3,
   "metadata": {},
   "outputs": [
    {
     "data": {
      "text/plain": [
       "[b'events;1']"
      ]
     },
     "execution_count": 3,
     "metadata": {},
     "output_type": "execute_result"
    }
   ],
   "source": [
    "f.keys()"
   ]
  },
  {
   "cell_type": "code",
   "execution_count": 4,
   "metadata": {},
   "outputs": [
    {
     "data": {
      "text/plain": [
       "[b'Type',\n",
       " b'Run',\n",
       " b'Event',\n",
       " b'E1',\n",
       " b'px1',\n",
       " b'py1',\n",
       " b'pz1',\n",
       " b'pt1',\n",
       " b'eta1',\n",
       " b'phi1',\n",
       " b'Q1',\n",
       " b'E2',\n",
       " b'px2',\n",
       " b'py2',\n",
       " b'pz2',\n",
       " b'pt2',\n",
       " b'eta2',\n",
       " b'phi2',\n",
       " b'Q2',\n",
       " b'M']"
      ]
     },
     "execution_count": 4,
     "metadata": {},
     "output_type": "execute_result"
    }
   ],
   "source": [
    "t = f[b'events']\n",
    "t.keys()"
   ]
  },
  {
   "cell_type": "code",
   "execution_count": 5,
   "metadata": {},
   "outputs": [
    {
     "data": {
      "text/plain": [
       "<TBranch b'M' at 0x7fa5786666d0>"
      ]
     },
     "execution_count": 5,
     "metadata": {},
     "output_type": "execute_result"
    }
   ],
   "source": [
    "t['M']"
   ]
  },
  {
   "cell_type": "code",
   "execution_count": 6,
   "metadata": {},
   "outputs": [
    {
     "data": {
      "text/plain": [
       "array([82.46269156, 83.62620401, 83.30846467, ..., 95.96547966,\n",
       "       96.49594381, 96.65672765])"
      ]
     },
     "execution_count": 6,
     "metadata": {},
     "output_type": "execute_result"
    }
   ],
   "source": [
    "t['M'].array()"
   ]
  },
  {
   "cell_type": "code",
   "execution_count": 7,
   "metadata": {},
   "outputs": [
    {
     "data": {
      "text/plain": [
       "{b'Type': <ObjectArray [b'GT' b'TT' b'GT' ... b'TT' b'GT' b'GG'] at 0x7fa5785fc950>,\n",
       " b'Run': array([148031, 148031, 148031, ..., 148029, 148029, 148029], dtype=int32),\n",
       " b'Event': array([10507008, 10507008, 10507008, ..., 99991333, 99991333, 99991333],\n",
       "       dtype=int32),\n",
       " b'E1': array([82.20186639, 62.34492895, 62.34492895, ..., 81.27013558,\n",
       "        81.27013558, 81.56621735]),\n",
       " b'px1': array([-41.19528764,  35.11804977,  35.11804977, ...,  32.37749196,\n",
       "         32.37749196,  32.48539387]),\n",
       " b'py1': array([ 17.4332439 , -16.57036233, -16.57036233, ...,   1.19940578,\n",
       "          1.19940578,   1.2013503 ]),\n",
       " b'pz1': array([-68.96496181, -48.77524654, -48.77524654, ..., -74.53243061,\n",
       "        -74.53243061, -74.80837247]),\n",
       " b'pt1': array([44.7322, 38.8311, 38.8311, ..., 32.3997, 32.3997, 32.3997]),\n",
       " b'eta1': array([-1.21769, -1.05139, -1.05139, ..., -1.57044, -1.57044, -1.57044]),\n",
       " b'phi1': array([ 2.74126  , -0.440873 , -0.440873 , ...,  0.0370275,  0.0370275,\n",
       "         0.0370275]),\n",
       " b'Q1': array([ 1, -1, -1, ...,  1,  1,  1], dtype=int32),\n",
       " b'E2': array([ 60.62187459,  82.20186639,  81.58277833, ..., 168.78012134,\n",
       "        170.58313243, 170.58313243]),\n",
       " b'px2': array([ 34.14443725, -41.19528764, -40.88332344, ..., -68.04191497,\n",
       "        -68.79413604, -68.79413604]),\n",
       " b'py2': array([-16.11952457,  17.4332439 ,  17.29929704, ..., -26.10584737,\n",
       "        -26.39840043, -26.39840043]),\n",
       " b'pz2': array([ -47.42698439,  -68.96496181,  -68.44725519, ..., -152.2350181 ,\n",
       "        -153.84760383, -153.84760383]),\n",
       " b'pt2': array([38.8311, 44.7322, 44.7322, ..., 72.8781, 72.8781, 72.8781]),\n",
       " b'eta2': array([-1.05139, -1.21769, -1.21769, ..., -1.4827 , -1.4827 , -1.4827 ]),\n",
       " b'phi2': array([-0.440873,  2.74126 ,  2.74126 , ..., -2.77524 , -2.77524 ,\n",
       "        -2.77524 ]),\n",
       " b'Q2': array([-1,  1,  1, ..., -1, -1, -1], dtype=int32),\n",
       " b'M': array([82.46269156, 83.62620401, 83.30846467, ..., 95.96547966,\n",
       "        96.49594381, 96.65672765])}"
      ]
     },
     "execution_count": 7,
     "metadata": {},
     "output_type": "execute_result"
    }
   ],
   "source": [
    "t.arrays()"
   ]
  },
  {
   "cell_type": "code",
   "execution_count": 8,
   "metadata": {},
   "outputs": [
    {
     "data": {
      "text/plain": [
       "{b'Run': array([148031, 148031, 148031, ..., 148029, 148029, 148029], dtype=int32),\n",
       " b'Event': array([10507008, 10507008, 10507008, ..., 99991333, 99991333, 99991333],\n",
       "       dtype=int32)}"
      ]
     },
     "execution_count": 8,
     "metadata": {},
     "output_type": "execute_result"
    }
   ],
   "source": [
    "t.arrays(['Run', 'Event'])"
   ]
  },
  {
   "cell_type": "markdown",
   "metadata": {},
   "source": [
    "All branches can be looked at with `t.arrays()` ..."
   ]
  },
  {
   "cell_type": "markdown",
   "metadata": {},
   "source": [
    "You can now start performing calculations, e.g. (not necessary the best way, think NumPy type of operations ;-))."
   ]
  },
  {
   "cell_type": "code",
   "execution_count": 9,
   "metadata": {},
   "outputs": [
    {
     "name": "stdout",
     "output_type": "stream",
     "text": [
      "[44.7322 38.8311 38.8311 ... 32.3997 32.3997 32.5076]\n",
      "[-1.21769 -1.05139 -1.05139 ... -1.57044 -1.57044 -1.57078]\n",
      "[ 2.74126   -0.440873  -0.440873  ...  0.0370275  0.0370275  0.0369644]\n"
     ]
    }
   ],
   "source": [
    "import numpy\n",
    "\n",
    "for px,py,pz in t.iterate([\"px1\",\"py1\",\"pz1\"], outputtype=tuple):\n",
    "    pt = numpy.sqrt(px**2 + py**2)\n",
    "    eta = numpy.arctanh(pz / numpy.sqrt(px**2 + py**2 + pz**2))\n",
    "    phi = numpy.arctan2(py, px)\n",
    "    print(pt)\n",
    "    print(eta)\n",
    "    print(phi)"
   ]
  },
  {
   "cell_type": "code",
   "execution_count": 10,
   "metadata": {},
   "outputs": [
    {
     "data": {
      "text/html": [
       "<div>\n",
       "<style scoped>\n",
       "    .dataframe tbody tr th:only-of-type {\n",
       "        vertical-align: middle;\n",
       "    }\n",
       "\n",
       "    .dataframe tbody tr th {\n",
       "        vertical-align: top;\n",
       "    }\n",
       "\n",
       "    .dataframe thead th {\n",
       "        text-align: right;\n",
       "    }\n",
       "</style>\n",
       "<table border=\"1\" class=\"dataframe\">\n",
       "  <thead>\n",
       "    <tr style=\"text-align: right;\">\n",
       "      <th></th>\n",
       "      <th>Type</th>\n",
       "      <th>Run</th>\n",
       "      <th>Event</th>\n",
       "      <th>E1</th>\n",
       "      <th>px1</th>\n",
       "      <th>py1</th>\n",
       "      <th>pz1</th>\n",
       "      <th>pt1</th>\n",
       "      <th>eta1</th>\n",
       "      <th>phi1</th>\n",
       "      <th>Q1</th>\n",
       "      <th>E2</th>\n",
       "      <th>px2</th>\n",
       "      <th>py2</th>\n",
       "      <th>pz2</th>\n",
       "      <th>pt2</th>\n",
       "      <th>eta2</th>\n",
       "      <th>phi2</th>\n",
       "      <th>Q2</th>\n",
       "      <th>M</th>\n",
       "    </tr>\n",
       "    <tr>\n",
       "      <th>entry</th>\n",
       "      <th></th>\n",
       "      <th></th>\n",
       "      <th></th>\n",
       "      <th></th>\n",
       "      <th></th>\n",
       "      <th></th>\n",
       "      <th></th>\n",
       "      <th></th>\n",
       "      <th></th>\n",
       "      <th></th>\n",
       "      <th></th>\n",
       "      <th></th>\n",
       "      <th></th>\n",
       "      <th></th>\n",
       "      <th></th>\n",
       "      <th></th>\n",
       "      <th></th>\n",
       "      <th></th>\n",
       "      <th></th>\n",
       "      <th></th>\n",
       "    </tr>\n",
       "  </thead>\n",
       "  <tbody>\n",
       "    <tr>\n",
       "      <th>0</th>\n",
       "      <td>b'GT'</td>\n",
       "      <td>148031</td>\n",
       "      <td>10507008</td>\n",
       "      <td>82.201866</td>\n",
       "      <td>-41.195288</td>\n",
       "      <td>17.433244</td>\n",
       "      <td>-68.964962</td>\n",
       "      <td>44.7322</td>\n",
       "      <td>-1.217690</td>\n",
       "      <td>2.741260</td>\n",
       "      <td>1</td>\n",
       "      <td>60.621875</td>\n",
       "      <td>34.144437</td>\n",
       "      <td>-16.119525</td>\n",
       "      <td>-47.426984</td>\n",
       "      <td>38.8311</td>\n",
       "      <td>-1.051390</td>\n",
       "      <td>-0.440873</td>\n",
       "      <td>-1</td>\n",
       "      <td>82.462692</td>\n",
       "    </tr>\n",
       "    <tr>\n",
       "      <th>1</th>\n",
       "      <td>b'TT'</td>\n",
       "      <td>148031</td>\n",
       "      <td>10507008</td>\n",
       "      <td>62.344929</td>\n",
       "      <td>35.118050</td>\n",
       "      <td>-16.570362</td>\n",
       "      <td>-48.775247</td>\n",
       "      <td>38.8311</td>\n",
       "      <td>-1.051390</td>\n",
       "      <td>-0.440873</td>\n",
       "      <td>-1</td>\n",
       "      <td>82.201866</td>\n",
       "      <td>-41.195288</td>\n",
       "      <td>17.433244</td>\n",
       "      <td>-68.964962</td>\n",
       "      <td>44.7322</td>\n",
       "      <td>-1.217690</td>\n",
       "      <td>2.741260</td>\n",
       "      <td>1</td>\n",
       "      <td>83.626204</td>\n",
       "    </tr>\n",
       "    <tr>\n",
       "      <th>2</th>\n",
       "      <td>b'GT'</td>\n",
       "      <td>148031</td>\n",
       "      <td>10507008</td>\n",
       "      <td>62.344929</td>\n",
       "      <td>35.118050</td>\n",
       "      <td>-16.570362</td>\n",
       "      <td>-48.775247</td>\n",
       "      <td>38.8311</td>\n",
       "      <td>-1.051390</td>\n",
       "      <td>-0.440873</td>\n",
       "      <td>-1</td>\n",
       "      <td>81.582778</td>\n",
       "      <td>-40.883323</td>\n",
       "      <td>17.299297</td>\n",
       "      <td>-68.447255</td>\n",
       "      <td>44.7322</td>\n",
       "      <td>-1.217690</td>\n",
       "      <td>2.741260</td>\n",
       "      <td>1</td>\n",
       "      <td>83.308465</td>\n",
       "    </tr>\n",
       "    <tr>\n",
       "      <th>3</th>\n",
       "      <td>b'GG'</td>\n",
       "      <td>148031</td>\n",
       "      <td>10507008</td>\n",
       "      <td>60.621875</td>\n",
       "      <td>34.144437</td>\n",
       "      <td>-16.119525</td>\n",
       "      <td>-47.426984</td>\n",
       "      <td>38.8311</td>\n",
       "      <td>-1.051390</td>\n",
       "      <td>-0.440873</td>\n",
       "      <td>-1</td>\n",
       "      <td>81.582778</td>\n",
       "      <td>-40.883323</td>\n",
       "      <td>17.299297</td>\n",
       "      <td>-68.447255</td>\n",
       "      <td>44.7322</td>\n",
       "      <td>-1.217690</td>\n",
       "      <td>2.741260</td>\n",
       "      <td>1</td>\n",
       "      <td>82.149373</td>\n",
       "    </tr>\n",
       "    <tr>\n",
       "      <th>4</th>\n",
       "      <td>b'GT'</td>\n",
       "      <td>148031</td>\n",
       "      <td>105238546</td>\n",
       "      <td>41.826389</td>\n",
       "      <td>22.783582</td>\n",
       "      <td>15.036444</td>\n",
       "      <td>-31.689894</td>\n",
       "      <td>27.2981</td>\n",
       "      <td>-0.990688</td>\n",
       "      <td>0.583351</td>\n",
       "      <td>1</td>\n",
       "      <td>49.760726</td>\n",
       "      <td>-20.177373</td>\n",
       "      <td>-9.354149</td>\n",
       "      <td>44.513955</td>\n",
       "      <td>21.8913</td>\n",
       "      <td>1.444340</td>\n",
       "      <td>-2.707650</td>\n",
       "      <td>-1</td>\n",
       "      <td>90.469123</td>\n",
       "    </tr>\n",
       "    <tr>\n",
       "      <th>...</th>\n",
       "      <td>...</td>\n",
       "      <td>...</td>\n",
       "      <td>...</td>\n",
       "      <td>...</td>\n",
       "      <td>...</td>\n",
       "      <td>...</td>\n",
       "      <td>...</td>\n",
       "      <td>...</td>\n",
       "      <td>...</td>\n",
       "      <td>...</td>\n",
       "      <td>...</td>\n",
       "      <td>...</td>\n",
       "      <td>...</td>\n",
       "      <td>...</td>\n",
       "      <td>...</td>\n",
       "      <td>...</td>\n",
       "      <td>...</td>\n",
       "      <td>...</td>\n",
       "      <td>...</td>\n",
       "      <td>...</td>\n",
       "    </tr>\n",
       "    <tr>\n",
       "      <th>2299</th>\n",
       "      <td>b'GG'</td>\n",
       "      <td>148029</td>\n",
       "      <td>99768888</td>\n",
       "      <td>32.701650</td>\n",
       "      <td>19.054651</td>\n",
       "      <td>14.833954</td>\n",
       "      <td>22.051323</td>\n",
       "      <td>24.1264</td>\n",
       "      <td>0.818806</td>\n",
       "      <td>0.661492</td>\n",
       "      <td>1</td>\n",
       "      <td>27.714554</td>\n",
       "      <td>-16.874052</td>\n",
       "      <td>-15.319644</td>\n",
       "      <td>-15.768964</td>\n",
       "      <td>22.8145</td>\n",
       "      <td>-0.645971</td>\n",
       "      <td>-2.404430</td>\n",
       "      <td>-1</td>\n",
       "      <td>60.047138</td>\n",
       "    </tr>\n",
       "    <tr>\n",
       "      <th>2300</th>\n",
       "      <td>b'GT'</td>\n",
       "      <td>148029</td>\n",
       "      <td>99991333</td>\n",
       "      <td>168.780121</td>\n",
       "      <td>-68.041915</td>\n",
       "      <td>-26.105847</td>\n",
       "      <td>-152.235018</td>\n",
       "      <td>72.8781</td>\n",
       "      <td>-1.482700</td>\n",
       "      <td>-2.775240</td>\n",
       "      <td>-1</td>\n",
       "      <td>81.566217</td>\n",
       "      <td>32.485394</td>\n",
       "      <td>1.201350</td>\n",
       "      <td>-74.808372</td>\n",
       "      <td>32.3997</td>\n",
       "      <td>-1.570440</td>\n",
       "      <td>0.037027</td>\n",
       "      <td>1</td>\n",
       "      <td>96.125376</td>\n",
       "    </tr>\n",
       "    <tr>\n",
       "      <th>2301</th>\n",
       "      <td>b'TT'</td>\n",
       "      <td>148029</td>\n",
       "      <td>99991333</td>\n",
       "      <td>81.270136</td>\n",
       "      <td>32.377492</td>\n",
       "      <td>1.199406</td>\n",
       "      <td>-74.532431</td>\n",
       "      <td>32.3997</td>\n",
       "      <td>-1.570440</td>\n",
       "      <td>0.037027</td>\n",
       "      <td>1</td>\n",
       "      <td>168.780121</td>\n",
       "      <td>-68.041915</td>\n",
       "      <td>-26.105847</td>\n",
       "      <td>-152.235018</td>\n",
       "      <td>72.8781</td>\n",
       "      <td>-1.482700</td>\n",
       "      <td>-2.775240</td>\n",
       "      <td>-1</td>\n",
       "      <td>95.965480</td>\n",
       "    </tr>\n",
       "    <tr>\n",
       "      <th>2302</th>\n",
       "      <td>b'GT'</td>\n",
       "      <td>148029</td>\n",
       "      <td>99991333</td>\n",
       "      <td>81.270136</td>\n",
       "      <td>32.377492</td>\n",
       "      <td>1.199406</td>\n",
       "      <td>-74.532431</td>\n",
       "      <td>32.3997</td>\n",
       "      <td>-1.570440</td>\n",
       "      <td>0.037027</td>\n",
       "      <td>1</td>\n",
       "      <td>170.583132</td>\n",
       "      <td>-68.794136</td>\n",
       "      <td>-26.398400</td>\n",
       "      <td>-153.847604</td>\n",
       "      <td>72.8781</td>\n",
       "      <td>-1.482700</td>\n",
       "      <td>-2.775240</td>\n",
       "      <td>-1</td>\n",
       "      <td>96.495944</td>\n",
       "    </tr>\n",
       "    <tr>\n",
       "      <th>2303</th>\n",
       "      <td>b'GG'</td>\n",
       "      <td>148029</td>\n",
       "      <td>99991333</td>\n",
       "      <td>81.566217</td>\n",
       "      <td>32.485394</td>\n",
       "      <td>1.201350</td>\n",
       "      <td>-74.808372</td>\n",
       "      <td>32.3997</td>\n",
       "      <td>-1.570440</td>\n",
       "      <td>0.037027</td>\n",
       "      <td>1</td>\n",
       "      <td>170.583132</td>\n",
       "      <td>-68.794136</td>\n",
       "      <td>-26.398400</td>\n",
       "      <td>-153.847604</td>\n",
       "      <td>72.8781</td>\n",
       "      <td>-1.482700</td>\n",
       "      <td>-2.775240</td>\n",
       "      <td>-1</td>\n",
       "      <td>96.656728</td>\n",
       "    </tr>\n",
       "  </tbody>\n",
       "</table>\n",
       "<p>2304 rows × 20 columns</p>\n",
       "</div>"
      ],
      "text/plain": [
       "        Type     Run      Event          E1        px1        py1         pz1  \\\n",
       "entry                                                                           \n",
       "0      b'GT'  148031   10507008   82.201866 -41.195288  17.433244  -68.964962   \n",
       "1      b'TT'  148031   10507008   62.344929  35.118050 -16.570362  -48.775247   \n",
       "2      b'GT'  148031   10507008   62.344929  35.118050 -16.570362  -48.775247   \n",
       "3      b'GG'  148031   10507008   60.621875  34.144437 -16.119525  -47.426984   \n",
       "4      b'GT'  148031  105238546   41.826389  22.783582  15.036444  -31.689894   \n",
       "...      ...     ...        ...         ...        ...        ...         ...   \n",
       "2299   b'GG'  148029   99768888   32.701650  19.054651  14.833954   22.051323   \n",
       "2300   b'GT'  148029   99991333  168.780121 -68.041915 -26.105847 -152.235018   \n",
       "2301   b'TT'  148029   99991333   81.270136  32.377492   1.199406  -74.532431   \n",
       "2302   b'GT'  148029   99991333   81.270136  32.377492   1.199406  -74.532431   \n",
       "2303   b'GG'  148029   99991333   81.566217  32.485394   1.201350  -74.808372   \n",
       "\n",
       "           pt1      eta1      phi1  Q1          E2        px2        py2  \\\n",
       "entry                                                                      \n",
       "0      44.7322 -1.217690  2.741260   1   60.621875  34.144437 -16.119525   \n",
       "1      38.8311 -1.051390 -0.440873  -1   82.201866 -41.195288  17.433244   \n",
       "2      38.8311 -1.051390 -0.440873  -1   81.582778 -40.883323  17.299297   \n",
       "3      38.8311 -1.051390 -0.440873  -1   81.582778 -40.883323  17.299297   \n",
       "4      27.2981 -0.990688  0.583351   1   49.760726 -20.177373  -9.354149   \n",
       "...        ...       ...       ...  ..         ...        ...        ...   \n",
       "2299   24.1264  0.818806  0.661492   1   27.714554 -16.874052 -15.319644   \n",
       "2300   72.8781 -1.482700 -2.775240  -1   81.566217  32.485394   1.201350   \n",
       "2301   32.3997 -1.570440  0.037027   1  168.780121 -68.041915 -26.105847   \n",
       "2302   32.3997 -1.570440  0.037027   1  170.583132 -68.794136 -26.398400   \n",
       "2303   32.3997 -1.570440  0.037027   1  170.583132 -68.794136 -26.398400   \n",
       "\n",
       "              pz2      pt2      eta2      phi2  Q2          M  \n",
       "entry                                                          \n",
       "0      -47.426984  38.8311 -1.051390 -0.440873  -1  82.462692  \n",
       "1      -68.964962  44.7322 -1.217690  2.741260   1  83.626204  \n",
       "2      -68.447255  44.7322 -1.217690  2.741260   1  83.308465  \n",
       "3      -68.447255  44.7322 -1.217690  2.741260   1  82.149373  \n",
       "4       44.513955  21.8913  1.444340 -2.707650  -1  90.469123  \n",
       "...           ...      ...       ...       ...  ..        ...  \n",
       "2299   -15.768964  22.8145 -0.645971 -2.404430  -1  60.047138  \n",
       "2300   -74.808372  32.3997 -1.570440  0.037027   1  96.125376  \n",
       "2301  -152.235018  72.8781 -1.482700 -2.775240  -1  95.965480  \n",
       "2302  -153.847604  72.8781 -1.482700 -2.775240  -1  96.495944  \n",
       "2303  -153.847604  72.8781 -1.482700 -2.775240  -1  96.656728  \n",
       "\n",
       "[2304 rows x 20 columns]"
      ]
     },
     "execution_count": 10,
     "metadata": {},
     "output_type": "execute_result"
    }
   ],
   "source": [
    "import pandas\n",
    "\n",
    "df = t.pandas.df()\n",
    "df"
   ]
  },
  {
   "cell_type": "code",
   "execution_count": 11,
   "metadata": {},
   "outputs": [
    {
     "data": {
      "text/html": [
       "<div>\n",
       "<style scoped>\n",
       "    .dataframe tbody tr th:only-of-type {\n",
       "        vertical-align: middle;\n",
       "    }\n",
       "\n",
       "    .dataframe tbody tr th {\n",
       "        vertical-align: top;\n",
       "    }\n",
       "\n",
       "    .dataframe thead th {\n",
       "        text-align: right;\n",
       "    }\n",
       "</style>\n",
       "<table border=\"1\" class=\"dataframe\">\n",
       "  <thead>\n",
       "    <tr style=\"text-align: right;\">\n",
       "      <th></th>\n",
       "      <th>Run</th>\n",
       "      <th>Event</th>\n",
       "      <th>pt1</th>\n",
       "      <th>pt2</th>\n",
       "    </tr>\n",
       "    <tr>\n",
       "      <th>entry</th>\n",
       "      <th></th>\n",
       "      <th></th>\n",
       "      <th></th>\n",
       "      <th></th>\n",
       "    </tr>\n",
       "  </thead>\n",
       "  <tbody>\n",
       "    <tr>\n",
       "      <th>0</th>\n",
       "      <td>148031</td>\n",
       "      <td>10507008</td>\n",
       "      <td>44.7322</td>\n",
       "      <td>38.8311</td>\n",
       "    </tr>\n",
       "    <tr>\n",
       "      <th>1</th>\n",
       "      <td>148031</td>\n",
       "      <td>10507008</td>\n",
       "      <td>38.8311</td>\n",
       "      <td>44.7322</td>\n",
       "    </tr>\n",
       "    <tr>\n",
       "      <th>2</th>\n",
       "      <td>148031</td>\n",
       "      <td>10507008</td>\n",
       "      <td>38.8311</td>\n",
       "      <td>44.7322</td>\n",
       "    </tr>\n",
       "    <tr>\n",
       "      <th>3</th>\n",
       "      <td>148031</td>\n",
       "      <td>10507008</td>\n",
       "      <td>38.8311</td>\n",
       "      <td>44.7322</td>\n",
       "    </tr>\n",
       "    <tr>\n",
       "      <th>4</th>\n",
       "      <td>148031</td>\n",
       "      <td>105238546</td>\n",
       "      <td>27.2981</td>\n",
       "      <td>21.8913</td>\n",
       "    </tr>\n",
       "  </tbody>\n",
       "</table>\n",
       "</div>"
      ],
      "text/plain": [
       "          Run      Event      pt1      pt2\n",
       "entry                                     \n",
       "0      148031   10507008  44.7322  38.8311\n",
       "1      148031   10507008  38.8311  44.7322\n",
       "2      148031   10507008  38.8311  44.7322\n",
       "3      148031   10507008  38.8311  44.7322\n",
       "4      148031  105238546  27.2981  21.8913"
      ]
     },
     "execution_count": 11,
     "metadata": {},
     "output_type": "execute_result"
    }
   ],
   "source": [
    "t.pandas.df(['Run', 'Event', 'pt1', 'pt2']).head()"
   ]
  },
  {
   "cell_type": "markdown",
   "metadata": {},
   "source": [
    "### **2. Data with jagged structure**"
   ]
  },
  {
   "cell_type": "code",
   "execution_count": 12,
   "metadata": {},
   "outputs": [
    {
     "data": {
      "text/plain": [
       "[b'Events;1']"
      ]
     },
     "execution_count": 12,
     "metadata": {},
     "output_type": "execute_result"
    }
   ],
   "source": [
    "f = uproot.open('data/uproot-tutorial-file.root')\n",
    "\n",
    "f.keys()"
   ]
  },
  {
   "cell_type": "code",
   "execution_count": 13,
   "metadata": {},
   "outputs": [
    {
     "data": {
      "text/plain": [
       "{'nMuon': array([2, 2, 1, ..., 3, 2, 3], dtype=uint32),\n",
       " 'Muon_pt': <JaggedArray [[10.763697 15.736523] [10.53849 16.327097] [3.2753265] ... [6.343258 6.9803934 5.0852466] [3.3099499 15.68049] [11.444268 3.082721 4.9692106]] at 0x7fa5769c75d0>,\n",
       " 'Muon_eta': <JaggedArray [[1.0668273 -0.5637865] [-0.42778006 0.34922507] [2.2108555] ... [-0.59949154 -0.0495256 -0.9052992] [1.6359439 0.4766063] [0.44437575 -1.6943384 0.7640488]] at 0x7fa5769e0510>,\n",
       " 'Muon_phi': <JaggedArray [[-0.034272723 2.5426154] [-0.2747921 2.5397813] [-1.2234136] ... [-2.9530895 0.26560423 -3.1138406] [0.87988055 -1.7524908] [-0.47927496 2.2850282 0.5623152]] at 0x7fa5769c7590>,\n",
       " 'Muon_mass': <JaggedArray [[0.10565837 0.10565837] [0.10565837 0.10565837] [0.10565837] ... [0.10565837 0.10565837 0.10565837] [0.10565837 0.10565837] [0.10565837 0.10565837 0.10565837]] at 0x7fa5769c7490>,\n",
       " 'Muon_charge': <JaggedArray [[-1 -1] [1 -1] [1] ... [-1 1 1] [1 -1] [1 -1 1]] at 0x7fa5769c7450>}"
      ]
     },
     "execution_count": 13,
     "metadata": {},
     "output_type": "execute_result"
    }
   ],
   "source": [
    "branches = f[b'Events'].arrays(namedecode='utf-8')\n",
    "                               \n",
    "branches"
   ]
  },
  {
   "cell_type": "code",
   "execution_count": 14,
   "metadata": {},
   "outputs": [
    {
     "data": {
      "text/plain": [
       "array([2, 2, 1, ..., 3, 2, 3], dtype=uint32)"
      ]
     },
     "execution_count": 14,
     "metadata": {},
     "output_type": "execute_result"
    }
   ],
   "source": [
    "branches['nMuon']"
   ]
  },
  {
   "cell_type": "code",
   "execution_count": 15,
   "metadata": {},
   "outputs": [
    {
     "data": {
      "text/plain": [
       "<JaggedArray [[10.763697 15.736523] [10.53849 16.327097] [3.2753265] ... [6.343258 6.9803934 5.0852466] [3.3099499 15.68049] [11.444268 3.082721 4.9692106]] at 0x7fa5769c75d0>"
      ]
     },
     "execution_count": 15,
     "metadata": {},
     "output_type": "execute_result"
    }
   ],
   "source": [
    "branches['Muon_pt']"
   ]
  },
  {
   "cell_type": "code",
   "execution_count": 16,
   "metadata": {},
   "outputs": [
    {
     "name": "stdout",
     "output_type": "stream",
     "text": [
      "[10.763697 15.736523] \n",
      "[10.53849  16.327097] \n",
      "[3.2753265] \n",
      "[11.429154  17.634033   9.624728   3.5022252] \n",
      "[ 3.2834418  3.6440058 32.911224  23.721754 ] \n",
      "[3.566528 4.572504 4.371863] \n",
      "[57.6067  53.04508] \n",
      "[11.319675 23.906353] \n",
      "[10.193569 14.204061] \n",
      "[11.470704   3.4690065]\n"
     ]
    }
   ],
   "source": [
    "print(' \\n'.join([str(elm) for elm in branches['Muon_pt'][:10]]))"
   ]
  },
  {
   "cell_type": "markdown",
   "metadata": {},
   "source": [
    "We will get back to jagged arrays in a sec. Let's first show that `uproot` also has (limited) writing functionality."
   ]
  },
  {
   "cell_type": "markdown",
   "metadata": {},
   "source": [
    "### **3. Interoperability - writing files with uproot**"
   ]
  },
  {
   "cell_type": "markdown",
   "metadata": {},
   "source": [
    "`uproot` version 3 started support for writing files!"
   ]
  },
  {
   "cell_type": "code",
   "execution_count": 17,
   "metadata": {},
   "outputs": [],
   "source": [
    "f = uproot.recreate(\"tmp.root\")"
   ]
  },
  {
   "cell_type": "code",
   "execution_count": 18,
   "metadata": {},
   "outputs": [],
   "source": [
    "f[\"name\"] = numpy.histogram(numpy.random.normal(0, 1, 100000), bins=20)"
   ]
  },
  {
   "cell_type": "code",
   "execution_count": 19,
   "metadata": {},
   "outputs": [
    {
     "data": {
      "text/plain": [
       "False"
      ]
     },
     "execution_count": 19,
     "metadata": {},
     "output_type": "execute_result"
    }
   ],
   "source": [
    "f.closed"
   ]
  },
  {
   "cell_type": "code",
   "execution_count": 20,
   "metadata": {},
   "outputs": [
    {
     "data": {
      "text/plain": [
       "[b'name;1']"
      ]
     },
     "execution_count": 20,
     "metadata": {},
     "output_type": "execute_result"
    }
   ],
   "source": [
    "f.keys()"
   ]
  },
  {
   "cell_type": "code",
   "execution_count": 21,
   "metadata": {},
   "outputs": [
    {
     "name": "stdout",
     "output_type": "stream",
     "text": [
      "                           0                                               18457\n",
      "                           +---------------------------------------------------+\n",
      "[-inf, -4.5935)      0     |                                                   |\n",
      "[-4.5935, -4.1497)   1     |                                                   |\n",
      "[-4.1497, -3.7059)   6     |                                                   |\n",
      "[-3.7059, -3.2622)   58    |                                                   |\n",
      "[-3.2622, -2.8184)   196   |*                                                  |\n",
      "[-2.8184, -2.3746)   650   |**                                                 |\n",
      "[-2.3746, -1.9309)   1798  |*****                                              |\n",
      "[-1.9309, -1.4871)   4234  |************                                       |\n",
      "[-1.4871, -1.0433)   7890  |**********************                             |\n",
      "[-1.0433, -0.59953)  12754 |***********************************                |\n",
      "[-0.59953, -0.15576) 16076 |********************************************       |\n",
      "[-0.15576, 0.28801)  17578 |*************************************************  |\n",
      "[0.28801, 0.73179)   15609 |*******************************************        |\n",
      "[0.73179, 1.1756)    11292 |*******************************                    |\n",
      "[1.1756, 1.6193)     6707  |*******************                                |\n",
      "[1.6193, 2.0631)     3178  |*********                                          |\n",
      "[2.0631, 2.5069)     1343  |****                                               |\n",
      "[2.5069, 2.9507)     458   |*                                                  |\n",
      "[2.9507, 3.3944)     132   |                                                   |\n",
      "[3.3944, 3.8382)     34    |                                                   |\n",
      "[3.8382, 4.282)      6     |                                                   |\n",
      "[4.282, inf]         0     |                                                   |\n",
      "                           +---------------------------------------------------+\n"
     ]
    }
   ],
   "source": [
    "ar = f[\"name\"]\n",
    "\n",
    "ar.show()"
   ]
  },
  {
   "cell_type": "markdown",
   "metadata": {},
   "source": [
    "But ... can the file actually be read back in ROOT ...?"
   ]
  },
  {
   "cell_type": "code",
   "execution_count": 22,
   "metadata": {},
   "outputs": [
    {
     "name": "stdout",
     "output_type": "stream",
     "text": [
      "Welcome to JupyROOT 6.20/00\n"
     ]
    },
    {
     "data": {
      "image/png": "[encoded data removed]",
      "text/plain": [
       "<IPython.core.display.Image object>"
      ]
     },
     "metadata": {},
     "output_type": "display_data"
    }
   ],
   "source": [
    "import ROOT\n",
    "\n",
    "f = ROOT.TFile(\"tmp.root\")\n",
    "h = f.Get(\"name\")\n",
    "\n",
    "c = ROOT.TCanvas(\"myCanvasName\",\"The Canvas Title\",800,600)\n",
    "h.Draw('hist')\n",
    "c.Draw()"
   ]
  },
  {
   "cell_type": "markdown",
   "metadata": {},
   "source": [
    "Yes it can!"
   ]
  },
  {
   "cell_type": "markdown",
   "metadata": {},
   "source": [
    "&nbsp;<br><center><img src=\"images/logo_awkward_array.png\" alt=\"awkward-array package logo\" style=\"width: 200px;\"/></center>\n",
    "\n",
    "<center><h2><b><span style=\"color:green\">Manipulate arrays of complex data structures as easily as Numpy</span></b></h2></center>"
   ]
  },
  {
   "cell_type": "code",
   "execution_count": 23,
   "metadata": {},
   "outputs": [],
   "source": [
    "import awkward"
   ]
  },
  {
   "cell_type": "code",
   "execution_count": 24,
   "metadata": {},
   "outputs": [
    {
     "data": {
      "text/plain": [
       "{'nMuon': array([2, 2, 1, ..., 3, 2, 3], dtype=uint32),\n",
       " 'Muon_pt': <JaggedArray [[10.763697 15.736523] [10.53849 16.327097] [3.2753265] ... [6.343258 6.9803934 5.0852466] [3.3099499 15.68049] [11.444268 3.082721 4.9692106]] at 0x7fa5769c75d0>,\n",
       " 'Muon_eta': <JaggedArray [[1.0668273 -0.5637865] [-0.42778006 0.34922507] [2.2108555] ... [-0.59949154 -0.0495256 -0.9052992] [1.6359439 0.4766063] [0.44437575 -1.6943384 0.7640488]] at 0x7fa5769e0510>,\n",
       " 'Muon_phi': <JaggedArray [[-0.034272723 2.5426154] [-0.2747921 2.5397813] [-1.2234136] ... [-2.9530895 0.26560423 -3.1138406] [0.87988055 -1.7524908] [-0.47927496 2.2850282 0.5623152]] at 0x7fa5769c7590>,\n",
       " 'Muon_mass': <JaggedArray [[0.10565837 0.10565837] [0.10565837 0.10565837] [0.10565837] ... [0.10565837 0.10565837 0.10565837] [0.10565837 0.10565837] [0.10565837 0.10565837 0.10565837]] at 0x7fa5769c7490>,\n",
       " 'Muon_charge': <JaggedArray [[-1 -1] [1 -1] [1] ... [-1 1 1] [1 -1] [1 -1 1]] at 0x7fa5769c7450>}"
      ]
     },
     "execution_count": 24,
     "metadata": {},
     "output_type": "execute_result"
    }
   ],
   "source": [
    "branches"
   ]
  },
  {
   "cell_type": "code",
   "execution_count": 25,
   "metadata": {},
   "outputs": [
    {
     "data": {
      "text/plain": [
       "<Table [<Row 0> <Row 1> <Row 2> ... <Row 99997> <Row 99998> <Row 99999>] at 0x7fa59873bd90>"
      ]
     },
     "execution_count": 25,
     "metadata": {},
     "output_type": "execute_result"
    }
   ],
   "source": [
    "table = awkward.Table(branches)\n",
    "\n",
    "table"
   ]
  },
  {
   "cell_type": "code",
   "execution_count": 26,
   "metadata": {},
   "outputs": [
    {
     "data": {
      "text/plain": [
       "2"
      ]
     },
     "execution_count": 26,
     "metadata": {},
     "output_type": "execute_result"
    }
   ],
   "source": [
    "table.nMuon[0]"
   ]
  },
  {
   "cell_type": "code",
   "execution_count": 27,
   "metadata": {},
   "outputs": [
    {
     "data": {
      "text/plain": [
       "2"
      ]
     },
     "execution_count": 27,
     "metadata": {},
     "output_type": "execute_result"
    }
   ],
   "source": [
    "branches['nMuon'][0]"
   ]
  },
  {
   "cell_type": "code",
   "execution_count": 28,
   "metadata": {},
   "outputs": [],
   "source": [
    "import matplotlib.pyplot as plt"
   ]
  },
  {
   "cell_type": "code",
   "execution_count": 29,
   "metadata": {},
   "outputs": [
    {
     "data": {
      "image/png": "[encoded data removed]",
      "text/plain": [
       "<Figure size 432x288 with 1 Axes>"
      ]
     },
     "metadata": {
      "needs_background": "light"
     },
     "output_type": "display_data"
    }
   ],
   "source": [
    "plt.hist(table.nMuon, bins=10, range=(0, 10))\n",
    "plt.xlabel('Number of muons in event')\n",
    "plt.ylabel('Number of events');"
   ]
  },
  {
   "cell_type": "code",
   "execution_count": 30,
   "metadata": {},
   "outputs": [
    {
     "data": {
      "text/plain": [
       "235286"
      ]
     },
     "execution_count": 30,
     "metadata": {},
     "output_type": "execute_result"
    }
   ],
   "source": [
    "branches['nMuon'].sum()"
   ]
  },
  {
   "cell_type": "code",
   "execution_count": 31,
   "metadata": {},
   "outputs": [
    {
     "data": {
      "text/plain": [
       "235286"
      ]
     },
     "execution_count": 31,
     "metadata": {},
     "output_type": "execute_result"
    }
   ],
   "source": [
    "len(branches['Muon_pt'].flatten())"
   ]
  },
  {
   "cell_type": "code",
   "execution_count": 32,
   "metadata": {},
   "outputs": [
    {
     "data": {
      "image/png": "[encoded data removed]",
      "text/plain": [
       "<Figure size 432x288 with 1 Axes>"
      ]
     },
     "metadata": {
      "needs_background": "light"
     },
     "output_type": "display_data"
    }
   ],
   "source": [
    "plt.hist(table.Muon_pt.flatten(), bins=100, range=(0, 100))\n",
    "plt.xlabel('Muon pT')\n",
    "plt.ylabel('Number of events')\n",
    "plt.yscale('log');"
   ]
  },
  {
   "cell_type": "code",
   "execution_count": 33,
   "metadata": {},
   "outputs": [
    {
     "data": {
      "image/png": "[encoded data removed]",
      "text/plain": [
       "<Figure size 432x288 with 1 Axes>"
      ]
     },
     "metadata": {
      "needs_background": "light"
     },
     "output_type": "display_data"
    }
   ],
   "source": [
    "plt.hist(table.Muon_eta.flatten(), bins=100, range=(-2.5, 2.5))\n",
    "plt.xlabel('Muon $\\eta$')\n",
    "plt.ylabel('Number of events');"
   ]
  },
  {
   "cell_type": "code",
   "execution_count": 34,
   "metadata": {},
   "outputs": [
    {
     "name": "stdout",
     "output_type": "stream",
     "text": [
      "2304\n",
      "100000\n",
      "100000\n",
      "100000\n"
     ]
    }
   ],
   "source": [
    "print(len(t))\n",
    "print(len(table))\n",
    "print(len(branches['nMuon']))\n",
    "print(len(branches['Muon_pt'])) # or any of the other branches..."
   ]
  },
  {
   "cell_type": "code",
   "execution_count": 35,
   "metadata": {},
   "outputs": [
    {
     "name": "stdout",
     "output_type": "stream",
     "text": [
      "19.2 µs ± 1.24 µs per loop (mean ± std. dev. of 7 runs, 100000 loops each)\n"
     ]
    }
   ],
   "source": [
    "%%timeit\n",
    "len(branches['Muon_pt'].flatten())"
   ]
  },
  {
   "cell_type": "code",
   "execution_count": 36,
   "metadata": {},
   "outputs": [
    {
     "name": "stdout",
     "output_type": "stream",
     "text": [
      "116 µs ± 6.03 µs per loop (mean ± std. dev. of 7 runs, 10000 loops each)\n"
     ]
    }
   ],
   "source": [
    "%%timeit\n",
    "branches['nMuon'].sum()"
   ]
  },
  {
   "cell_type": "code",
   "execution_count": 37,
   "metadata": {},
   "outputs": [
    {
     "data": {
      "text/plain": [
       "array([False, False,  True, ..., False, False, False])"
      ]
     },
     "execution_count": 37,
     "metadata": {},
     "output_type": "execute_result"
    }
   ],
   "source": [
    "branches['nMuon'] == 1"
   ]
  },
  {
   "cell_type": "code",
   "execution_count": 38,
   "metadata": {},
   "outputs": [
    {
     "data": {
      "text/plain": [
       "13447"
      ]
     },
     "execution_count": 38,
     "metadata": {},
     "output_type": "execute_result"
    }
   ],
   "source": [
    "single_muon_mask = branches['nMuon'] == 1\n",
    "single_muon_mask.sum()"
   ]
  },
  {
   "cell_type": "code",
   "execution_count": 39,
   "metadata": {},
   "outputs": [
    {
     "data": {
      "text/plain": [
       "<JaggedArray [[3.2753265] [3.837803] [16.145521] ... [8.18912] [13.272973] [9.484549]] at 0x7fa576547290>"
      ]
     },
     "execution_count": 39,
     "metadata": {},
     "output_type": "execute_result"
    }
   ],
   "source": [
    "branches['Muon_pt'][single_muon_mask]"
   ]
  },
  {
   "cell_type": "code",
   "execution_count": 40,
   "metadata": {},
   "outputs": [
    {
     "data": {
      "image/png": "[encoded data removed]",
      "text/plain": [
       "<Figure size 432x288 with 1 Axes>"
      ]
     },
     "metadata": {
      "needs_background": "light"
     },
     "output_type": "display_data"
    }
   ],
   "source": [
    "plt.hist(branches['Muon_pt'][single_muon_mask].flatten(), bins=100, range=(0, 100))\n",
    "plt.xlabel('Muon $p_{\\mathrm{T}}$ [MeV]')\n",
    "plt.ylabel('Number of single muons / 1 MeV')\n",
    "plt.yscale('log')\n",
    "plt.show()"
   ]
  },
  {
   "cell_type": "code",
   "execution_count": 41,
   "metadata": {},
   "outputs": [
    {
     "data": {
      "text/plain": [
       "<JaggedArray [[True True] [True True] [False] ... [True True True] [True True] [True True True]] at 0x7fa5762d4b50>"
      ]
     },
     "execution_count": 41,
     "metadata": {},
     "output_type": "execute_result"
    }
   ],
   "source": [
    "eta_mask = abs(branches['Muon_eta']) < 2\n",
    "eta_mask"
   ]
  },
  {
   "cell_type": "code",
   "execution_count": 42,
   "metadata": {},
   "outputs": [
    {
     "data": {
      "text/plain": [
       "204564"
      ]
     },
     "execution_count": 42,
     "metadata": {},
     "output_type": "execute_result"
    }
   ],
   "source": [
    "eta_mask.flatten().sum()"
   ]
  },
  {
   "cell_type": "code",
   "execution_count": 43,
   "metadata": {},
   "outputs": [
    {
     "data": {
      "text/plain": [
       "array([2, 2, 0, ..., 3, 2, 3])"
      ]
     },
     "execution_count": 43,
     "metadata": {},
     "output_type": "execute_result"
    }
   ],
   "source": [
    "eta_mask.sum()"
   ]
  },
  {
   "cell_type": "code",
   "execution_count": 44,
   "metadata": {},
   "outputs": [
    {
     "data": {
      "text/plain": [
       "204564"
      ]
     },
     "execution_count": 44,
     "metadata": {},
     "output_type": "execute_result"
    }
   ],
   "source": [
    "eta_mask.sum().sum()"
   ]
  },
  {
   "cell_type": "code",
   "execution_count": 45,
   "metadata": {},
   "outputs": [
    {
     "data": {
      "image/png": "[encoded data removed]",
      "text/plain": [
       "<Figure size 432x288 with 1 Axes>"
      ]
     },
     "metadata": {
      "needs_background": "light"
     },
     "output_type": "display_data"
    },
    {
     "data": {
      "image/png": "[encoded data removed]",
      "text/plain": [
       "<Figure size 432x288 with 1 Axes>"
      ]
     },
     "metadata": {
      "needs_background": "light"
     },
     "output_type": "display_data"
    }
   ],
   "source": [
    "plt.hist(branches['Muon_eta'].flatten(), bins=50, range=(-2.5, 2.5))\n",
    "plt.title('No selection')\n",
    "plt.xlabel('Muon $\\eta$')\n",
    "plt.ylabel('Number of muons')\n",
    "plt.show()\n",
    "\n",
    "plt.hist(branches['Muon_eta'][eta_mask].flatten(), bins=50, range=(-2.5, 2.5))\n",
    "plt.title('With $|\\eta| < 2$ selection')\n",
    "plt.xlabel('Muon $\\eta$')\n",
    "plt.ylabel('Number of muons')\n",
    "plt.show()"
   ]
  },
  {
   "cell_type": "code",
   "execution_count": 46,
   "metadata": {},
   "outputs": [
    {
     "data": {
      "text/plain": [
       "100000"
      ]
     },
     "execution_count": 46,
     "metadata": {},
     "output_type": "execute_result"
    }
   ],
   "source": [
    "len(single_muon_mask & eta_mask)"
   ]
  },
  {
   "cell_type": "code",
   "execution_count": 47,
   "metadata": {},
   "outputs": [
    {
     "data": {
      "image/png": "[encoded data removed]",
      "text/plain": [
       "<Figure size 432x288 with 1 Axes>"
      ]
     },
     "metadata": {
      "needs_background": "light"
     },
     "output_type": "display_data"
    }
   ],
   "source": [
    "plt.hist([branches['Muon_pt'][single_muon_mask & eta_mask].flatten(),\n",
    "          branches['Muon_pt'][single_muon_mask & ~eta_mask].flatten()],\n",
    "         label=['$|\\eta| < 2$', '$|\\eta| \\geq 2$'],\n",
    "         density=True,\n",
    "         bins=25, range=(0, 50))\n",
    "plt.xlabel('Muon $p_{\\mathrm{T}}$ [GeV]')\n",
    "plt.ylabel('Number of single muons / 2 GeV')\n",
    "plt.legend()\n",
    "plt.show()"
   ]
  },
  {
   "cell_type": "code",
   "execution_count": 48,
   "metadata": {},
   "outputs": [],
   "source": [
    "two_muons_mask = branches['nMuon'] == 2\n",
    "two_muons_table = table[two_muons_mask]"
   ]
  },
  {
   "cell_type": "code",
   "execution_count": 49,
   "metadata": {},
   "outputs": [
    {
     "data": {
      "text/plain": [
       "<JaggedArrayMethods [[PtEtaPhiMassLorentzVector(pt=10.764, eta=1.0668, phi=-0.034273, mass=0.10566) PtEtaPhiMassLorentzVector(pt=15.737, eta=-0.56379, phi=2.5426, mass=0.10566)] [PtEtaPhiMassLorentzVector(pt=10.538, eta=-0.42778, phi=-0.27479, mass=0.10566) PtEtaPhiMassLorentzVector(pt=16.327, eta=0.34923, phi=2.5398, mass=0.10566)] [PtEtaPhiMassLorentzVector(pt=57.607, eta=-0.53209, phi=-0.071798, mass=0.10566) PtEtaPhiMassLorentzVector(pt=53.045, eta=-1.0042, phi=3.0895, mass=0.10566)] ... [PtEtaPhiMassLorentzVector(pt=9.5837, eta=-1.5126, phi=-0.22681, mass=0.10566) PtEtaPhiMassLorentzVector(pt=3.3317, eta=2.1995, phi=-2.7097, mass=0.10566)] [PtEtaPhiMassLorentzVector(pt=46.362, eta=-1.9284, phi=-2.3773, mass=0.10566) PtEtaPhiMassLorentzVector(pt=43.904, eta=-2.2734, phi=0.86049, mass=0.10566)] [PtEtaPhiMassLorentzVector(pt=3.3099, eta=1.6359, phi=0.87988, mass=0.10566) PtEtaPhiMassLorentzVector(pt=15.68, eta=0.47661, phi=-1.7525, mass=0.10566)]] at 0x7fa5766ff890>"
      ]
     },
     "execution_count": 49,
     "metadata": {},
     "output_type": "execute_result"
    }
   ],
   "source": [
    "import uproot_methods\n",
    "\n",
    "two_muons_p4 = uproot_methods.TLorentzVectorArray.from_ptetaphim(two_muons_table['Muon_pt'],\n",
    "                                                                 two_muons_table['Muon_eta'],\n",
    "                                                                 two_muons_table['Muon_phi'],\n",
    "                                                                 two_muons_table['Muon_mass'])\n",
    "two_muons_p4"
   ]
  },
  {
   "cell_type": "code",
   "execution_count": 50,
   "metadata": {},
   "outputs": [
    {
     "data": {
      "text/plain": [
       "48976"
      ]
     },
     "execution_count": 50,
     "metadata": {},
     "output_type": "execute_result"
    }
   ],
   "source": [
    "len(two_muons_p4)"
   ]
  },
  {
   "cell_type": "code",
   "execution_count": 51,
   "metadata": {},
   "outputs": [],
   "source": [
    "first_muon_p4 = two_muons_p4[:, 0]\n",
    "second_muon_p4 = two_muons_p4[:, 1]"
   ]
  },
  {
   "cell_type": "code",
   "execution_count": 52,
   "metadata": {},
   "outputs": [
    {
     "data": {
      "text/plain": [
       "array([3.0494678, 2.9198563, 3.1573637, ..., 4.465935 , 3.0649128,\n",
       "       2.876359 ], dtype=float32)"
      ]
     },
     "execution_count": 52,
     "metadata": {},
     "output_type": "execute_result"
    }
   ],
   "source": [
    "first_muon_p4.delta_r(second_muon_p4)"
   ]
  },
  {
   "cell_type": "code",
   "execution_count": 53,
   "metadata": {},
   "outputs": [
    {
     "data": {
      "image/png": "[encoded data removed]",
      "text/plain": [
       "<Figure size 432x288 with 1 Axes>"
      ]
     },
     "metadata": {
      "needs_background": "light"
     },
     "output_type": "display_data"
    }
   ],
   "source": [
    "plt.hist(first_muon_p4.delta_r(second_muon_p4), bins=100)\n",
    "plt.xlabel('$\\Delta R$ between muons')\n",
    "plt.ylabel('Number of two-muon events')\n",
    "plt.show()"
   ]
  },
  {
   "cell_type": "code",
   "execution_count": 54,
   "metadata": {},
   "outputs": [
    {
     "data": {
      "text/plain": [
       "<TLorentzVectorArray [TLorentzVector(x=-3.3155, y=6.3838, z=1.1715, t=28.851) TLorentzVector(x=4.4851, y=-1.3713, z=-94.799, t=148.07) TLorentzVector(x=-20.767, y=-28.434, z=-27.793, t=44.886) ... TLorentzVector(x=-10.946, y=28.573, z=234.5, t=254.62) TLorentzVector(x=-4.838, y=1.2011, z=-367.02, t=378.28) TLorentzVector(x=-0.72416, y=-12.872, z=15.934, t=26.316)] at 0x7fa576261c90>"
      ]
     },
     "execution_count": 54,
     "metadata": {},
     "output_type": "execute_result"
    }
   ],
   "source": [
    "sum_p4 = first_muon_p4 + second_muon_p4\n",
    "opposite_sign_muons_mask = two_muons_table['Muon_charge'][:, 0] != two_muons_table['Muon_charge'][:, 1]\n",
    "dimuon_p4 = sum_p4[opposite_sign_muons_mask]\n",
    "dimuon_p4"
   ]
  },
  {
   "cell_type": "code",
   "execution_count": 55,
   "metadata": {},
   "outputs": [
    {
     "data": {
      "image/png": "[encoded data removed]",
      "text/plain": [
       "<Figure size 1080x864 with 1 Axes>"
      ]
     },
     "metadata": {
      "needs_background": "light"
     },
     "output_type": "display_data"
    }
   ],
   "source": [
    "import numpy as np\n",
    "\n",
    "figsize_l, figsize_h = plt.rcParams[\"figure.figsize\"]\n",
    "plt.figure(figsize=(figsize_l*2.5, figsize_h*3.))\n",
    "\n",
    "(yvals, binedges, patches) = plt.hist(dimuon_p4.mass, bins=np.logspace(np.log10(0.1), np.log10(1000), 200))\n",
    "\n",
    "plt.xlabel('Dimuon invariant mass [GeV]')\n",
    "plt.ylabel('Number of dimuon events')\n",
    "plt.xscale('log')\n",
    "plt.yscale('log')\n",
    "\n",
    "import particle.particle.literals as lpart\n",
    "from hepunits import GeV\n",
    "    \n",
    "list_particles = [getattr(lpart,name) for name in ('eta', 'rho_770_0', 'omega_782','phi_1020','Jpsi_1S', 'Z_0')]\n",
    "\n",
    "for p in list_particles:\n",
    "    binnumber = np.searchsorted(binedges, p.mass/GeV)\n",
    "    plt.text(p.mass/GeV, yvals[binnumber-1]*1.02, '${}$'.format(p.latex_name), horizontalalignment='center', fontsize=16)\n",
    "\n",
    "plt.show()"
   ]
  },
  {
   "cell_type": "markdown",
   "metadata": {},
   "source": [
    "&nbsp;\n",
    "<div class=\"alert alert-warning\">\n",
    "\n",
    "<b>Important note:</b>\n",
    "\n",
    "These 2 packages are currently under a major overhaul!\n",
    "</div>\n",
    "\n",
    "- `awkward-array` will soon-ish be replaced by an improved packaged nicknamed `awkward-1.0` for now. Developments are happening on [this GitHub repository](https://github.com/scikit-hep/awkward-1.0).\n",
    "- `uproot` version 4 will be the upgrade version of `uproot` version 3 built atop `awkward-1.0`."
   ]
  }
 ],
 "metadata": {
  "kernelspec": {
   "display_name": "Python 3",
   "language": "python",
   "name": "python3"
  },
  "language_info": {
   "codemirror_mode": {
    "name": "ipython",
    "version": 3
   },
   "file_extension": ".py",
   "mimetype": "text/x-python",
   "name": "python",
   "nbconvert_exporter": "python",
   "pygments_lexer": "ipython3",
   "version": "3.7.6"
  }
 },
 "nbformat": 4,
 "nbformat_minor": 4
}
