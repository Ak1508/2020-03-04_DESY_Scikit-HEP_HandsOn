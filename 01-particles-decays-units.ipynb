{
 "cells": [
  {
   "cell_type": "markdown",
   "metadata": {},
   "source": [
    "<center><h1><b><span style=\"color:blue\">Particles, decays, HEP units</span></b></h1></center>\n",
    "\n",
    "### **Quick intro to the following packages**\n",
    "- `hepunits`.\n",
    "- `Particle`.\n",
    "- `DecayLanguage`."
   ]
  },
  {
   "cell_type": "markdown",
   "metadata": {},
   "source": [
    "<center><h2><b><span style=\"color:green\">hepunits - The HEP system of units</span></b></h2></center>\n",
    "\n",
    "The package ``hepunits`` collects the most commonly used units and constants in the\n",
    "HEP System of Units, which are *not* the same as the international system of units (aka SI units).\n",
    "The HEP system of units is based on the following:\n",
    "\n",
    "| Quantity            | Name               | Unit|\n",
    "| ------------------ :| ----------------- :| -- :|\n",
    "|  Length             |  millimeter        | mm  |\n",
    "|  Time               |  nanosecond        | ns  |\n",
    "|  Energy             |  Mega electron Volt| MeV |\n",
    "|  Positron charge    |  eplus             |     |\n",
    "|  Temperature        |  kelvin            | K   |\n",
    "|  Amount of substance|  mole              | mol |\n",
    "|  Luminous intensity |  candela           | cd  |\n",
    "| Plane angle         |  radian            | rad |\n",
    "|  Solid angle        |  steradian         | sr  |\n",
    "\n",
    "Note: no need to make use of sophisticated packages (e.g. as in AstroPy) since we basically never need to change systems of units (we never use ergs as energy, for example ;-))."
   ]
  },
  {
   "cell_type": "markdown",
   "metadata": {},
   "source": [
    "**Basic usage is straightforward, though it may be confusing at first. Remember, all variables are written wrt to the units:**"
   ]
  },
  {
   "cell_type": "code",
   "execution_count": 1,
   "metadata": {},
   "outputs": [
    {
     "data": {
      "text/plain": [
       "True"
      ]
     },
     "execution_count": 1,
     "metadata": {},
     "output_type": "execute_result"
    }
   ],
   "source": [
    "from hepunits import mm, ns, MeV, eplus, GeV, kelvin, mol, cd, rad, sr\n",
    "\n",
    "mm == ns == MeV == eplus == kelvin == mol == cd == rad == sr == 1"
   ]
  },
  {
   "cell_type": "code",
   "execution_count": 2,
   "metadata": {},
   "outputs": [
    {
     "data": {
      "text/plain": [
       "True"
      ]
     },
     "execution_count": 2,
     "metadata": {},
     "output_type": "execute_result"
    }
   ],
   "source": [
    "GeV == 1000*MeV"
   ]
  },
  {
   "cell_type": "markdown",
   "metadata": {},
   "source": [
    "Add two quantities with different length units:"
   ]
  },
  {
   "cell_type": "code",
   "execution_count": 3,
   "metadata": {},
   "outputs": [
    {
     "data": {
      "text/plain": [
       "1050.0"
      ]
     },
     "execution_count": 3,
     "metadata": {},
     "output_type": "execute_result"
    }
   ],
   "source": [
    "from hepunits import units as u\n",
    "\n",
    "1*u.meter + 5*u.cm"
   ]
  },
  {
   "cell_type": "markdown",
   "metadata": {},
   "source": [
    "Indeed, the result is in HEP units, so mm.\n",
    "\n",
    "Rather obtain the result in meters:"
   ]
  },
  {
   "cell_type": "code",
   "execution_count": 4,
   "metadata": {},
   "outputs": [
    {
     "data": {
      "text/plain": [
       "1.05"
      ]
     },
     "execution_count": 4,
     "metadata": {},
     "output_type": "execute_result"
    }
   ],
   "source": [
    "(1*u.meter + 5*u.cm) / u.meter"
   ]
  },
  {
   "cell_type": "markdown",
   "metadata": {},
   "source": [
    "Do you need to play a bit more to get a proper feeling? This next (non-academic) exercise should help you ..."
   ]
  },
  {
   "cell_type": "markdown",
   "metadata": {},
   "source": [
    "### **Quick time-of-flight study**\n",
    "\n",
    "Let's try to play with units in a meaningful way, in a kind of exercise that physicists encounter. Imagine you are investigating time-of-flight (ToF) detectors for particle identification. The time it takes a particle of velocity $\\beta = v/c= pc/E$ to travel a distance $L$ is given by\n",
    "\n",
    "$$\\mathrm{ToF} = \\frac{L}{c \\beta}$$\n",
    "\n",
    "It results that the mass $m$ of the particle can be determined from\n",
    "\n",
    "$$m = \\frac{p}{c}\\sqrt{\\frac{c^2 \\mathrm{ToF}^2}{L^2}-1}$$\n",
    "\n",
    "provided the path length and the momentum can be measured, say, by a tracking system."
   ]
  },
  {
   "cell_type": "markdown",
   "metadata": {},
   "source": [
    "What are typical ToF differences say for (charged) kaons and pions?\n",
    "It is practical to perform the calculation as\n",
    "\n",
    "$$\\Delta \\mathrm{ToF} = \\frac{L}{c}(\\frac{1}{\\beta_1} - \\frac{1}{\\beta_2})\\,,$$\n",
    "\n",
    "with $\\frac{1}{\\beta} = \\sqrt{1+m^2c^2/p^2}$."
   ]
  },
  {
   "cell_type": "code",
   "execution_count": 5,
   "metadata": {},
   "outputs": [],
   "source": [
    "from hepunits import c_light, GeV, meter, ps, ns\n",
    "\n",
    "import numpy as np\n",
    "\n",
    "def ToF(m, p, L):\n",
    "    \"\"\"Time-of-Flight = particle path length L / (c * beta)\"\"\"\n",
    "    one_over_beta = np.sqrt(1 + m*m/(p*p))  # no c factors here because m and p given without them, hence c's cancel out ;-)\n",
    "    return (L * one_over_beta /c_light)"
   ]
  },
  {
   "cell_type": "markdown",
   "metadata": {},
   "source": [
    "For convenience, get hold of data information for the proton, K+ and pi+ (see `Particle`package down this notebook):"
   ]
  },
  {
   "cell_type": "code",
   "execution_count": 6,
   "metadata": {},
   "outputs": [],
   "source": [
    "from particle.particle.literals import proton, pi_plus, K_plus  # particle name literals"
   ]
  },
  {
   "cell_type": "markdown",
   "metadata": {},
   "source": [
    "Calculate the difference in ToF between 10 GeV kaons and pions travelling over 10 meters:"
   ]
  },
  {
   "cell_type": "code",
   "execution_count": 7,
   "metadata": {},
   "outputs": [
    {
     "name": "stdout",
     "output_type": "stream",
     "text": [
      "At 10 GeV, Delta-TOF(K-pi) over 10 meters = 37.374 ps\n"
     ]
    }
   ],
   "source": [
    "delta = ( ToF(K_plus.mass, 10*GeV, 10*meter) - ToF(pi_plus.mass, 10*GeV, 10*meter) ) / ps\n",
    "print(\"At 10 GeV, Delta-TOF(K-pi) over 10 meters = {:.5} ps\".format(delta))"
   ]
  },
  {
   "cell_type": "markdown",
   "metadata": {},
   "source": [
    "Let's get a bit fancier:\n",
    "- Compare protons, kaons and pions.\n",
    "- Look at the ToF difference versus momentum."
   ]
  },
  {
   "cell_type": "code",
   "execution_count": 8,
   "metadata": {},
   "outputs": [
    {
     "data": {
      "image/png": "[encoded data removed]",
      "text/plain": [
       "<Figure size 432x288 with 1 Axes>"
      ]
     },
     "metadata": {
      "needs_background": "light"
     },
     "output_type": "display_data"
    }
   ],
   "source": [
    "%matplotlib inline\n",
    "import matplotlib.pyplot as plt\n",
    "\n",
    "p = np.arange(0.5, 5.1, 0.05) * GeV\n",
    "\n",
    "delta1 = ( ToF(K_plus.mass, p, 1.*meter) - ToF(pi_plus.mass, p, 1.*meter) ) / ps\n",
    "delta2 = ( ToF(proton.mass, p, 1.*meter) - ToF(K_plus.mass, p, 1.*meter) ) / ps\n",
    "delta3 = ( ToF(proton.mass, p, 1.*meter) - ToF(pi_plus.mass, p, 1.*meter) ) / ps\n",
    "\n",
    "fig, ax = plt.subplots()\n",
    "ax.plot(p/GeV, delta1, label='K-$\\pi$')\n",
    "ax.plot(p/GeV, delta2, label='p-K')\n",
    "ax.plot(p/GeV, delta3, label='p-$\\pi$')\n",
    "\n",
    "ax.set(xlabel='p [GeV]', ylabel='$\\Delta$ ToF [ps]',\n",
    "       title='Time-of-flight difference for a 1 meter path')\n",
    "ax.grid()\n",
    "\n",
    "plt.legend()\n",
    "plt.ylim(bottom=0, top=500)\n",
    "plt.show()"
   ]
  },
  {
   "cell_type": "markdown",
   "metadata": {},
   "source": [
    "An example more relevant to LHCb - detector timing resolution requirement is getting tough!:"
   ]
  },
  {
   "cell_type": "code",
   "execution_count": 9,
   "metadata": {},
   "outputs": [
    {
     "data": {
      "image/png": "[encoded data removed]",
      "text/plain": [
       "<Figure size 432x288 with 1 Axes>"
      ]
     },
     "metadata": {
      "needs_background": "light"
     },
     "output_type": "display_data"
    }
   ],
   "source": [
    "p = np.arange(5., 10.1, 0.1) * GeV\n",
    "delta = ( ToF(K_plus.mass, p, 10*meter) - ToF(pi_plus.mass, p, 10*meter) ) / ps\n",
    "\n",
    "fig, ax = plt.subplots()\n",
    "ax.plot(p/GeV, delta)\n",
    "\n",
    "ax.set(xlabel='p [GeV]', ylabel='$\\Delta$ ToF [ps]',\n",
    "       title='Time-of-flight difference for a 10 meter path')\n",
    "ax.grid()\n",
    "\n",
    "plt.show()"
   ]
  },
  {
   "cell_type": "code",
   "execution_count": 10,
   "metadata": {},
   "outputs": [
    {
     "data": {
      "image/png": "[encoded data removed]",
      "text/plain": [
       "<Figure size 432x288 with 1 Axes>"
      ]
     },
     "metadata": {
      "needs_background": "light"
     },
     "output_type": "display_data"
    }
   ],
   "source": [
    "p = np.arange(0.5, 5.1, 0.05) * GeV\n",
    "s1 = ( ToF(K_plus.mass, p, 1.38*meter) / ToF(pi_plus.mass, p, 1.38*meter) )\n",
    "s3 = ( ToF(proton.mass, p, 1.38*meter) / ToF(pi_plus.mass, p, 1.38*meter) )\n",
    "\n",
    "fig, ax = plt.subplots()\n",
    "ax.plot(p/GeV, s1, label='K-$\\pi$')\n",
    "ax.plot(p/GeV, s3, label='p-$\\pi$')\n",
    "\n",
    "ax.set(xlabel='p [GeV]', ylabel='ToF/ToF($\\pi$)',\n",
    "       title='Relative Time-of-flight for a 1 meter flight')\n",
    "ax.grid()\n",
    "\n",
    "plt.ylim(bottom=1, top=2.2)\n",
    "plt.legend()\n",
    "plt.show()"
   ]
  },
  {
   "cell_type": "markdown",
   "metadata": {},
   "source": [
    "&nbsp;\n",
    "<center><img src=\"images/logo_Particle.png\" alt=\"Particle package logo\" style=\"width: 200px;\"/></center>\n",
    "\n",
    "<center><h2><b><span style=\"color:green\">PDG particle data, MC identification codes</span></b></h2></center>"
   ]
  },
  {
   "cell_type": "markdown",
   "metadata": {},
   "source": [
    "### **Pythonic interface to**\n",
    "- Particle Data Group (PDG) particle data table.\n",
    "- Particle MC identification codes, with inter-MC converters.\n",
    "- With various extra goodies."
   ]
  },
  {
   "cell_type": "markdown",
   "metadata": {
    "slideshow": {
     "slide_type": "slide"
    }
   },
   "source": [
    "### Package motivation - particle data\n",
    "\n",
    "- The [PDG](http://pdg.lbl.gov/) provides a <span style=\"color:green\">downloadable table of particle masses, widths, charges and Monte Carlo particle ID numbers</span> (PDG IDs).\n",
    "  - Most recent file [here](http://pdg.lbl.gov/2019/html/computer_read.html).\n",
    "- It <span style=\"color:green\">also provided an experimental file with extended information</span>\n",
    "(spin, quark content, P and C parities, etc.) until 2008 only, see [here](http://pdg.lbl.gov/2008/html/computer_read.html) (not widely known!).\n",
    "\n",
    "- But <span style=\"color:green\"><i>anyone</i> wanting to use these data</span>, the only readily available,\n",
    "<span style=\"color:green\">has to parse the file programmatically</span>.\n",
    "- Why not make a Python package to deal with all these data, for everyone?"
   ]
  },
  {
   "cell_type": "markdown",
   "metadata": {
    "slideshow": {
     "slide_type": "subslide"
    }
   },
   "source": [
    "### Package motivation - MC identification codes\n",
    "\n",
    "- The <span style=\"color:green\">C++ HepPID and HepPDT libraries provide functions for processing particle ID codes</apan>\n",
    "in the standard particle (aka PDG) numbering scheme.\n",
    "- Different event generators may have their separate set of particle IDs: Geant3, etc.\n",
    "- Again, why not make a package providing all functionality/conversions, Python-ically, for everyone?"
   ]
  },
  {
   "cell_type": "markdown",
   "metadata": {
    "slideshow": {
     "slide_type": "slide"
    }
   },
   "source": [
    "### Package, in short\n",
    "\n",
    "- <span style=\"color:green\">Particle</span> - loads extended <b>PDG data tables</b> and implements search and manipulations / display.\n",
    "- <span style=\"color:green\">PDGID</span> - find out as much as possible from the PDG ID number. <b>No table lookup</b>.\n",
    "- <span style=\"color:green\">Converters for MC IDs</span> used in Pythia and Geant.\n",
    "\n",
    "\n",
    "- Basic usage via the command line.\n",
    "- Fexible / advanced usage programmatically."
   ]
  },
  {
   "cell_type": "markdown",
   "metadata": {
    "slideshow": {
     "slide_type": "slide"
    }
   },
   "source": [
    "### **1. Command line usage**\n",
    "\n",
    "Search and query ..."
   ]
  },
  {
   "cell_type": "code",
   "execution_count": 11,
   "metadata": {
    "scrolled": true
   },
   "outputs": [
    {
     "name": "stdout",
     "output_type": "stream",
     "text": [
      "particle 0.9.2\n"
     ]
    }
   ],
   "source": [
    "!python -m particle --version"
   ]
  },
  {
   "cell_type": "code",
   "execution_count": 12,
   "metadata": {
    "slideshow": {
     "slide_type": "subslide"
    }
   },
   "outputs": [
    {
     "name": "stdout",
     "output_type": "stream",
     "text": [
      "usage: particle [-h] [--version] {search,pdgid} ...\n",
      "\n",
      "Particle command line display utility. Has two modes.\n",
      "\n",
      "positional arguments:\n",
      "  {search,pdgid}  Subcommands\n",
      "    search        Look up particles by PID or name (Ex.: python -m particle\n",
      "                  search D+ D-)\n",
      "    pdgid         Print info from PID (Ex.: python -m particle pdgid 11 13)\n",
      "\n",
      "optional arguments:\n",
      "  -h, --help      show this help message and exit\n",
      "  --version       show program's version number and exit\n"
     ]
    }
   ],
   "source": [
    "!python -m particle -h"
   ]
  },
  {
   "cell_type": "markdown",
   "metadata": {
    "slideshow": {
     "slide_type": "subslide"
    }
   },
   "source": [
    "#### PDGID"
   ]
  },
  {
   "cell_type": "markdown",
   "metadata": {},
   "source": [
    "Print all information from a PDG ID:"
   ]
  },
  {
   "cell_type": "code",
   "execution_count": 13,
   "metadata": {
    "scrolled": true
   },
   "outputs": [
    {
     "name": "stdout",
     "output_type": "stream",
     "text": [
      "<PDGID: 211>\n",
      "A              None\n",
      "J              0.0\n",
      "L              0\n",
      "S              0\n",
      "Z              None\n",
      "abspid         211\n",
      "charge         1.0\n",
      "has_bottom     False\n",
      "has_charm      False\n",
      "has_down       True\n",
      "has_fundamental_anti False\n",
      "has_strange    False\n",
      "has_top        False\n",
      "has_up         True\n",
      "is_Qball       False\n",
      "is_Rhadron     False\n",
      "is_SUSY        False\n",
      "is_baryon      False\n",
      "is_diquark     False\n",
      "is_dyon        False\n",
      "is_hadron      True\n",
      "is_lepton      False\n",
      "is_meson       True\n",
      "is_nucleus     False\n",
      "is_pentaquark  False\n",
      "is_valid       True\n",
      "j_spin         1\n",
      "l_spin         1\n",
      "s_spin         1\n",
      "three_charge   3\n",
      "\n"
     ]
    }
   ],
   "source": [
    "!python -m particle pdgid 211"
   ]
  },
  {
   "cell_type": "markdown",
   "metadata": {
    "slideshow": {
     "slide_type": "subslide"
    }
   },
   "source": [
    "#### Particle"
   ]
  },
  {
   "cell_type": "markdown",
   "metadata": {},
   "source": [
    "Search a particle by its PDG ID - return description summary of particle:"
   ]
  },
  {
   "cell_type": "code",
   "execution_count": 14,
   "metadata": {},
   "outputs": [
    {
     "name": "stdout",
     "output_type": "stream",
     "text": [
      "Name: pi+            ID: 211          Latex: $\\pi^{+}$\n",
      "Mass  = 139.57061 ± 0.00024 MeV\n",
      "Lifetime = 26.033 ± 0.005 ns\n",
      "Q (charge)        = +       J (total angular) = 0.0      P (space parity) = -\n",
      "C (charge parity) = ?       I (isospin)       = 1.0      G (G-parity)     = -\n",
      "    SpinType: SpinType.PseudoScalar\n",
      "    Quarks: uD\n",
      "    Antiparticle name: pi- (antiparticle status: ChargeInv)\n",
      "\n"
     ]
    }
   ],
   "source": [
    "!python -m particle search 211"
   ]
  },
  {
   "cell_type": "markdown",
   "metadata": {
    "slideshow": {
     "slide_type": "subslide"
    }
   },
   "source": [
    "Search a particle by its name - either return the description summary of matching particle ..."
   ]
  },
  {
   "cell_type": "code",
   "execution_count": 15,
   "metadata": {},
   "outputs": [
    {
     "name": "stdout",
     "output_type": "stream",
     "text": [
      "Name: pi(1)(1400)+   ID: 9000213      Latex: $\\pi_{1}(1400)^{+}$\n",
      "Mass  = 1354 ± 25 MeV\n",
      "Width = 330 ± 35 MeV\n",
      "Q (charge)        = +       J (total angular) = 1.0      P (space parity) = -\n",
      "C (charge parity) = ?       I (isospin)       = 1.0      G (G-parity)     = -\n",
      "    SpinType: SpinType.Vector\n",
      "    Quarks: Maybe non-qQ\n",
      "    Antiparticle name: pi(1)(1400)- (antiparticle status: ChargeInv)\n",
      "\n"
     ]
    }
   ],
   "source": [
    "!python -m particle search \"pi(1400)+\""
   ]
  },
  {
   "cell_type": "markdown",
   "metadata": {
    "slideshow": {
     "slide_type": "subslide"
    }
   },
   "source": [
    "... or a list of particles matching the keyword in their names:"
   ]
  },
  {
   "cell_type": "code",
   "execution_count": 16,
   "metadata": {},
   "outputs": [
    {
     "name": "stdout",
     "output_type": "stream",
     "text": [
      "Name: pi+            ID: 211          Latex: $\\pi^{+}$\n",
      "Mass  = 139.57061 ± 0.00024 MeV\n",
      "Lifetime = 26.033 ± 0.005 ns\n",
      "Q (charge)        = +       J (total angular) = 0.0      P (space parity) = -\n",
      "C (charge parity) = ?       I (isospin)       = 1.0      G (G-parity)     = -\n",
      "    SpinType: SpinType.PseudoScalar\n",
      "    Quarks: uD\n",
      "    Antiparticle name: pi- (antiparticle status: ChargeInv)\n",
      "\n"
     ]
    }
   ],
   "source": [
    "!python -m particle search \"pi+\""
   ]
  },
  {
   "cell_type": "markdown",
   "metadata": {
    "slideshow": {
     "slide_type": "subslide"
    }
   },
   "source": [
    "#### Bonus feature: zipapp\n",
    "\n",
    "Package provides a [zipapp](https://docs.python.org/3/library/zipapp.html) version - **one file** that runs on **any computer with Python**, no other dependencies! Find it [attached to releases](https://github.com/scikit-hep/particle/releases)."
   ]
  },
  {
   "cell_type": "markdown",
   "metadata": {},
   "source": [
    "Example:\n",
    "\n",
    "```bash\n",
    "./particle.pyz search gamma\n",
    "```"
   ]
  },
  {
   "cell_type": "markdown",
   "metadata": {},
   "source": [
    "All dependencies are installed inside the zipapp, and the data lookup is handled in a zip-safe way inside particle. Python 3 is used to make the zipapp, but including the backports makes it work on Python 2 as well."
   ]
  },
  {
   "cell_type": "markdown",
   "metadata": {
    "slideshow": {
     "slide_type": "slide"
    }
   },
   "source": [
    "### **2. `PDGID` class and MC ID classes**\n",
    "\n",
    "\n",
    "- Classes `PDGID`, `PythiaID`, `Geant3ID`.\n",
    "- Converters in module `particle.converters`: `Geant2PDGIDBiMap`, etc."
   ]
  },
  {
   "cell_type": "markdown",
   "metadata": {
    "slideshow": {
     "slide_type": "subslide"
    }
   },
   "source": [
    "#### PDG IDs module overview\n",
    "\n",
    "- <span style=\"color:green\">Process and query PDG IDs</span>, and more – no look-up table needed.\n",
    "  - Current version of package reflects the latest version of the\n",
    "    <span style=\"color:green\">HepPID & HepPDT utility functions</span> defined in the C++ HepPID and HepPDT versions 3.04.01\n",
    "  - It contains more functionality than that available in the C++ code … and minor fixes too.\n",
    "- Definition of a <span style=\"color:green\">PDGID class, PDG ID literals</span>,\n",
    "and set of standalone HepPID <span style=\"color:green\">functions to query PDG IDs</span>\n",
    "(is_meson, has_bottom, j_spin, charge, etc.).\n",
    "   - All PDGID class functions are available standalone."
   ]
  },
  {
   "cell_type": "markdown",
   "metadata": {
    "slideshow": {
     "slide_type": "subslide"
    }
   },
   "source": [
    "#### PDGID class\n",
    "- Wrapper class `PDGID` for PDG IDs.\n",
    "- Behaves like an int, with extra goodies.\n",
    "- Large spectrum of properties and methods, with a Pythonic interface, and yet more!"
   ]
  },
  {
   "cell_type": "code",
   "execution_count": 17,
   "metadata": {
    "slideshow": {
     "slide_type": "subslide"
    }
   },
   "outputs": [],
   "source": [
    "from particle import PDGID"
   ]
  },
  {
   "cell_type": "code",
   "execution_count": 18,
   "metadata": {},
   "outputs": [
    {
     "data": {
      "text/plain": [
       "<PDGID: 211>"
      ]
     },
     "execution_count": 18,
     "metadata": {},
     "output_type": "execute_result"
    }
   ],
   "source": [
    "pid = PDGID(211)\n",
    "pid"
   ]
  },
  {
   "cell_type": "code",
   "execution_count": 19,
   "metadata": {},
   "outputs": [
    {
     "data": {
      "text/plain": [
       "<PDGID: 99999999 (is_valid==False)>"
      ]
     },
     "execution_count": 19,
     "metadata": {},
     "output_type": "execute_result"
    }
   ],
   "source": [
    "PDGID(99999999)"
   ]
  },
  {
   "cell_type": "code",
   "execution_count": 20,
   "metadata": {
    "slideshow": {
     "slide_type": "subslide"
    }
   },
   "outputs": [
    {
     "data": {
      "text/plain": [
       "(True, True)"
      ]
     },
     "execution_count": 20,
     "metadata": {},
     "output_type": "execute_result"
    }
   ],
   "source": [
    "from particle.pdgid import is_meson\n",
    "\n",
    "pid.is_meson, is_meson(pid)"
   ]
  },
  {
   "cell_type": "markdown",
   "metadata": {
    "slideshow": {
     "slide_type": "subslide"
    }
   },
   "source": [
    "To print all `PDGID` properties:"
   ]
  },
  {
   "cell_type": "code",
   "execution_count": 21,
   "metadata": {},
   "outputs": [
    {
     "name": "stdout",
     "output_type": "stream",
     "text": [
      "A              None\n",
      "J              0.0\n",
      "L              0\n",
      "S              0\n",
      "Z              None\n",
      "abspid         211\n",
      "charge         1.0\n",
      "has_bottom     False\n",
      "has_charm      False\n",
      "has_down       True\n",
      "has_fundamental_anti False\n",
      "has_strange    False\n",
      "has_top        False\n",
      "has_up         True\n",
      "is_Qball       False\n",
      "is_Rhadron     False\n",
      "is_SUSY        False\n",
      "is_baryon      False\n",
      "is_diquark     False\n",
      "is_dyon        False\n",
      "is_hadron      True\n",
      "is_lepton      False\n",
      "is_meson       True\n",
      "is_nucleus     False\n",
      "is_pentaquark  False\n",
      "is_valid       True\n",
      "j_spin         1\n",
      "l_spin         1\n",
      "s_spin         1\n",
      "three_charge   3\n",
      "\n"
     ]
    }
   ],
   "source": [
    "print(pid.info())"
   ]
  },
  {
   "cell_type": "markdown",
   "metadata": {
    "slideshow": {
     "slide_type": "subslide"
    }
   },
   "source": [
    "#### MC ID classes and converters\n",
    "\n",
    "- <span style=\"color:green\">Classes for MC IDs</span> used in Pythia and Geant: `PythiaID` and `Geant3ID`.\n",
    "- <span style=\"color:green\">ID converters</span> in module `particle.converters`: `Geant2PDGIDBiMap`, etc."
   ]
  },
  {
   "cell_type": "code",
   "execution_count": 22,
   "metadata": {},
   "outputs": [
    {
     "data": {
      "text/plain": [
       "<PDGID: 9010221>"
      ]
     },
     "execution_count": 22,
     "metadata": {},
     "output_type": "execute_result"
    }
   ],
   "source": [
    "from particle import PythiaID, Geant3ID\n",
    "\n",
    "pyid = PythiaID(10221)\n",
    "\n",
    "pyid.to_pdgid()"
   ]
  },
  {
   "cell_type": "markdown",
   "metadata": {
    "slideshow": {
     "slide_type": "subslide"
    }
   },
   "source": [
    "Conversions are directly available via mapping classes.\n",
    "\n",
    "E.g., bi-directional map Pythia ID - PDG ID:"
   ]
  },
  {
   "cell_type": "code",
   "execution_count": 23,
   "metadata": {},
   "outputs": [
    {
     "data": {
      "text/plain": [
       "<PythiaID: 10221>"
      ]
     },
     "execution_count": 23,
     "metadata": {},
     "output_type": "execute_result"
    }
   ],
   "source": [
    "from particle.converters import Pythia2PDGIDBiMap\n",
    "\n",
    "Pythia2PDGIDBiMap[PDGID(9010221)]"
   ]
  },
  {
   "cell_type": "code",
   "execution_count": 24,
   "metadata": {},
   "outputs": [
    {
     "data": {
      "text/plain": [
       "<PDGID: 9010221>"
      ]
     },
     "execution_count": 24,
     "metadata": {},
     "output_type": "execute_result"
    }
   ],
   "source": [
    "Pythia2PDGIDBiMap[PythiaID(10221)]"
   ]
  },
  {
   "cell_type": "markdown",
   "metadata": {
    "slideshow": {
     "slide_type": "slide"
    }
   },
   "source": [
    "### **3. `Particle` class**\n",
    "\n",
    "There are lots of ways to create a particle."
   ]
  },
  {
   "cell_type": "code",
   "execution_count": 25,
   "metadata": {},
   "outputs": [],
   "source": [
    "from particle import Particle"
   ]
  },
  {
   "cell_type": "markdown",
   "metadata": {
    "slideshow": {
     "slide_type": "subslide"
    }
   },
   "source": [
    "#### From a PDG ID"
   ]
  },
  {
   "cell_type": "code",
   "execution_count": 26,
   "metadata": {},
   "outputs": [
    {
     "data": {
      "text/latex": [
       "$\\pi^{+}$"
      ],
      "text/plain": [
       "<Particle: name=\"pi+\", pdgid=211, mass=139.57061 ± 0.00024 MeV>"
      ]
     },
     "execution_count": 26,
     "metadata": {},
     "output_type": "execute_result"
    }
   ],
   "source": [
    "Particle.from_pdgid(211)"
   ]
  },
  {
   "cell_type": "markdown",
   "metadata": {
    "slideshow": {
     "slide_type": "subslide"
    }
   },
   "source": [
    "#### From a name"
   ]
  },
  {
   "cell_type": "code",
   "execution_count": 27,
   "metadata": {},
   "outputs": [
    {
     "data": {
      "text/latex": [
       "$\\pi^{+}$"
      ],
      "text/plain": [
       "<Particle: name=\"pi+\", pdgid=211, mass=139.57061 ± 0.00024 MeV>"
      ]
     },
     "execution_count": 27,
     "metadata": {},
     "output_type": "execute_result"
    }
   ],
   "source": [
    "Particle.from_string('pi+')"
   ]
  },
  {
   "cell_type": "markdown",
   "metadata": {
    "slideshow": {
     "slide_type": "subslide"
    }
   },
   "source": [
    "#### Searching\n",
    "\n",
    "<span style=\"color:green\">Simple and natural API</span> to deal with the PDG particle data table,<br>with <span style=\"color:green\">powerful 1-line search and look-up utilities!</span>\n",
    "\n",
    "- `Particle.find(…)` – search a single match (exception raised if multiple particles match the search specifications).\n",
    "- `Particle.findall(…)` – search a list of candidates.\n",
    "\n",
    "- Search methods that can query any particle property!"
   ]
  },
  {
   "cell_type": "code",
   "execution_count": 28,
   "metadata": {
    "slideshow": {
     "slide_type": "subslide"
    }
   },
   "outputs": [
    {
     "data": {
      "text/latex": [
       "$J/\\psi(1S)$"
      ],
      "text/plain": [
       "<Particle: name=\"J/psi(1S)\", pdgid=443, mass=3096.900 ± 0.006 MeV>"
      ]
     },
     "execution_count": 28,
     "metadata": {},
     "output_type": "execute_result"
    }
   ],
   "source": [
    "Particle.find('J/psi')"
   ]
  },
  {
   "cell_type": "markdown",
   "metadata": {
    "slideshow": {
     "slide_type": "subslide"
    }
   },
   "source": [
    "You can specify search terms as keywords - _any particle property_:"
   ]
  },
  {
   "cell_type": "code",
   "execution_count": 29,
   "metadata": {},
   "outputs": [
    {
     "data": {
      "text/latex": [
       "$\\phi(1020)$"
      ],
      "text/plain": [
       "<Particle: name=\"phi(1020)\", pdgid=333, mass=1019.461 ± 0.016 MeV>"
      ]
     },
     "execution_count": 29,
     "metadata": {},
     "output_type": "execute_result"
    }
   ],
   "source": [
    "Particle.find(latex_name=r'\\phi(1020)')"
   ]
  },
  {
   "cell_type": "markdown",
   "metadata": {
    "slideshow": {
     "slide_type": "subslide"
    }
   },
   "source": [
    "Some properties have enums available. For example, you can directly check the numeric charge:"
   ]
  },
  {
   "cell_type": "code",
   "execution_count": 30,
   "metadata": {},
   "outputs": [
    {
     "data": {
      "text/plain": [
       "[<Particle: name=\"pi-\", pdgid=-211, mass=139.57061 ± 0.00024 MeV>,\n",
       " <Particle: name=\"pi(2)(1670)-\", pdgid=-10215, mass=1670.6 + 2.9 - 1.2 MeV>,\n",
       " <Particle: name=\"pi(1300)-\", pdgid=-100211, mass=1300 ± 100 MeV>,\n",
       " <Particle: name=\"pi(1)(1400)-\", pdgid=-9000213, mass=1354 ± 25 MeV>,\n",
       " <Particle: name=\"pi(1800)-\", pdgid=-9010211, mass=1810 + 9 - 11 MeV>,\n",
       " <Particle: name=\"pi(1)(1600)-\", pdgid=-9010213, mass=1660 + 15 - 11 MeV>]"
      ]
     },
     "execution_count": 30,
     "metadata": {},
     "output_type": "execute_result"
    }
   ],
   "source": [
    "Particle.findall('pi', charge=-1)"
   ]
  },
  {
   "cell_type": "markdown",
   "metadata": {
    "slideshow": {
     "slide_type": "subslide"
    }
   },
   "source": [
    "Or you can use the enum (for charge, this is 3 times the charge, hence the name `three_charge`)"
   ]
  },
  {
   "cell_type": "code",
   "execution_count": 31,
   "metadata": {},
   "outputs": [
    {
     "data": {
      "text/plain": [
       "[<Particle: name=\"pi+\", pdgid=211, mass=139.57061 ± 0.00024 MeV>,\n",
       " <Particle: name=\"pi(2)(1670)+\", pdgid=10215, mass=1670.6 + 2.9 - 1.2 MeV>,\n",
       " <Particle: name=\"pi(1300)+\", pdgid=100211, mass=1300 ± 100 MeV>,\n",
       " <Particle: name=\"pi(1)(1400)+\", pdgid=9000213, mass=1354 ± 25 MeV>,\n",
       " <Particle: name=\"pi(1800)+\", pdgid=9010211, mass=1810 + 9 - 11 MeV>,\n",
       " <Particle: name=\"pi(1)(1600)+\", pdgid=9010213, mass=1660 + 15 - 11 MeV>]"
      ]
     },
     "execution_count": 31,
     "metadata": {},
     "output_type": "execute_result"
    }
   ],
   "source": [
    "from particle import Charge\n",
    "\n",
    "Particle.findall('pi', three_charge=Charge.p)"
   ]
  },
  {
   "cell_type": "markdown",
   "metadata": {
    "slideshow": {
     "slide_type": "subslide"
    }
   },
   "source": [
    "Or use a **lambda function** for the ultimate in generality! For example, to find all the neutral particles with a bottom quark between 5.2 and 5.3 GeV:"
   ]
  },
  {
   "cell_type": "code",
   "execution_count": 32,
   "metadata": {},
   "outputs": [],
   "source": [
    "from hepunits import GeV, s  # Units are good. Use them."
   ]
  },
  {
   "cell_type": "code",
   "execution_count": 33,
   "metadata": {},
   "outputs": [
    {
     "data": {
      "text/plain": [
       "[<Particle: name=\"B0\", pdgid=511, mass=5279.64 ± 0.13 MeV>,\n",
       " <Particle: name=\"B~0\", pdgid=-511, mass=5279.64 ± 0.13 MeV>]"
      ]
     },
     "execution_count": 33,
     "metadata": {},
     "output_type": "execute_result"
    }
   ],
   "source": [
    "Particle.findall(lambda p:\n",
    "                     p.pdgid.has_bottom\n",
    "                     and p.charge==0\n",
    "                     and 5.2*GeV < p.mass < 5.3*GeV\n",
    "                )"
   ]
  },
  {
   "cell_type": "markdown",
   "metadata": {
    "slideshow": {
     "slide_type": "subslide"
    }
   },
   "source": [
    "Another lambda function example: You can use the width or the lifetime:"
   ]
  },
  {
   "cell_type": "code",
   "execution_count": 34,
   "metadata": {
    "slideshow": {
     "slide_type": "-"
    }
   },
   "outputs": [
    {
     "data": {
      "text/plain": [
       "[<Particle: name=\"e-\", pdgid=11, mass=0.510998946 ± 0.000000003 MeV>,\n",
       " <Particle: name=\"e+\", pdgid=-11, mass=0.510998946 ± 0.000000003 MeV>,\n",
       " <Particle: name=\"nu(e)\", pdgid=12, mass=0.0 MeV>,\n",
       " <Particle: name=\"nu(e)~\", pdgid=-12, mass=0.0 MeV>,\n",
       " <Particle: name=\"nu(mu)\", pdgid=14, mass=0.0 MeV>,\n",
       " <Particle: name=\"nu(mu)~\", pdgid=-14, mass=0.0 MeV>,\n",
       " <Particle: name=\"nu(tau)\", pdgid=16, mass=0.0 MeV>,\n",
       " <Particle: name=\"nu(tau)~\", pdgid=-16, mass=0.0 MeV>,\n",
       " <Particle: name=\"g\", pdgid=21, mass=0.0 MeV>,\n",
       " <Particle: name=\"gamma\", pdgid=22, mass=0.0 MeV>,\n",
       " <Particle: name=\"p\", pdgid=2212, mass=938.272081 ± 0.000006 MeV>,\n",
       " <Particle: name=\"p~\", pdgid=-2212, mass=938.272081 ± 0.000006 MeV>]"
      ]
     },
     "execution_count": 34,
     "metadata": {},
     "output_type": "execute_result"
    }
   ],
   "source": [
    "Particle.findall(lambda p: p.lifetime > 1000*s)"
   ]
  },
  {
   "cell_type": "markdown",
   "metadata": {
    "slideshow": {
     "slide_type": "subslide"
    }
   },
   "source": [
    "If you want infinite lifetime, you could just use the keyword search instead:"
   ]
  },
  {
   "cell_type": "code",
   "execution_count": 35,
   "metadata": {},
   "outputs": [
    {
     "data": {
      "text/plain": [
       "[<Particle: name=\"e-\", pdgid=11, mass=0.510998946 ± 0.000000003 MeV>,\n",
       " <Particle: name=\"e+\", pdgid=-11, mass=0.510998946 ± 0.000000003 MeV>,\n",
       " <Particle: name=\"nu(e)\", pdgid=12, mass=0.0 MeV>,\n",
       " <Particle: name=\"nu(e)~\", pdgid=-12, mass=0.0 MeV>,\n",
       " <Particle: name=\"nu(mu)\", pdgid=14, mass=0.0 MeV>,\n",
       " <Particle: name=\"nu(mu)~\", pdgid=-14, mass=0.0 MeV>,\n",
       " <Particle: name=\"nu(tau)\", pdgid=16, mass=0.0 MeV>,\n",
       " <Particle: name=\"nu(tau)~\", pdgid=-16, mass=0.0 MeV>,\n",
       " <Particle: name=\"g\", pdgid=21, mass=0.0 MeV>,\n",
       " <Particle: name=\"gamma\", pdgid=22, mass=0.0 MeV>,\n",
       " <Particle: name=\"p\", pdgid=2212, mass=938.272081 ± 0.000006 MeV>,\n",
       " <Particle: name=\"p~\", pdgid=-2212, mass=938.272081 ± 0.000006 MeV>]"
      ]
     },
     "execution_count": 35,
     "metadata": {},
     "output_type": "execute_result"
    }
   ],
   "source": [
    "Particle.findall(lifetime=float('inf'))"
   ]
  },
  {
   "cell_type": "markdown",
   "metadata": {
    "slideshow": {
     "slide_type": "subslide"
    }
   },
   "source": [
    "Trivially find all pseudoscalar charm mesons:"
   ]
  },
  {
   "cell_type": "code",
   "execution_count": 36,
   "metadata": {},
   "outputs": [
    {
     "data": {
      "text/plain": [
       "[<Particle: name=\"D+\", pdgid=411, mass=1869.65 ± 0.05 MeV>,\n",
       " <Particle: name=\"D-\", pdgid=-411, mass=1869.65 ± 0.05 MeV>,\n",
       " <Particle: name=\"D0\", pdgid=421, mass=1864.83 ± 0.05 MeV>,\n",
       " <Particle: name=\"D~0\", pdgid=-421, mass=1864.83 ± 0.05 MeV>,\n",
       " <Particle: name=\"D(s)+\", pdgid=431, mass=1968.34 ± 0.07 MeV>,\n",
       " <Particle: name=\"D(s)-\", pdgid=-431, mass=1968.34 ± 0.07 MeV>,\n",
       " <Particle: name=\"eta(c)(1S)\", pdgid=441, mass=2983.9 ± 0.5 MeV>,\n",
       " <Particle: name=\"B(c)+\", pdgid=541, mass=6274.9 ± 0.8 MeV>,\n",
       " <Particle: name=\"B(c)-\", pdgid=-541, mass=6274.9 ± 0.8 MeV>,\n",
       " <Particle: name=\"eta(c)(2S)\", pdgid=100441, mass=3637.5 ± 1.1 MeV>]"
      ]
     },
     "execution_count": 36,
     "metadata": {},
     "output_type": "execute_result"
    }
   ],
   "source": [
    "from particle import SpinType\n",
    "\n",
    "Particle.findall(lambda p: p.pdgid.is_meson and p.pdgid.has_charm and p.spin_type==SpinType.PseudoScalar)"
   ]
  },
  {
   "cell_type": "markdown",
   "metadata": {
    "slideshow": {
     "slide_type": "subslide"
    }
   },
   "source": [
    "#### Display"
   ]
  },
  {
   "cell_type": "markdown",
   "metadata": {},
   "source": [
    "Nice display in Jupyter notebooks, as well as `str` and `repr` support:"
   ]
  },
  {
   "cell_type": "code",
   "execution_count": 37,
   "metadata": {},
   "outputs": [
    {
     "data": {
      "text/latex": [
       "$D_{2}^{*}(2460)^{-}$"
      ],
      "text/plain": [
       "<Particle: name=\"D(2)*(2460)-\", pdgid=-415, mass=2465.4 ± 1.3 MeV>"
      ]
     },
     "execution_count": 37,
     "metadata": {},
     "output_type": "execute_result"
    }
   ],
   "source": [
    "p = Particle.from_pdgid(-415)\n",
    "p"
   ]
  },
  {
   "cell_type": "code",
   "execution_count": 38,
   "metadata": {
    "slideshow": {
     "slide_type": "subslide"
    }
   },
   "outputs": [
    {
     "name": "stdout",
     "output_type": "stream",
     "text": [
      "D(2)*(2460)-\n"
     ]
    }
   ],
   "source": [
    "print(p)"
   ]
  },
  {
   "cell_type": "code",
   "execution_count": 39,
   "metadata": {},
   "outputs": [
    {
     "name": "stdout",
     "output_type": "stream",
     "text": [
      "<Particle: name=\"D(2)*(2460)-\", pdgid=-415, mass=2465.4 ± 1.3 MeV>\n"
     ]
    }
   ],
   "source": [
    "print(repr(p))"
   ]
  },
  {
   "cell_type": "markdown",
   "metadata": {
    "slideshow": {
     "slide_type": "subslide"
    }
   },
   "source": [
    "Full descriptions:"
   ]
  },
  {
   "cell_type": "code",
   "execution_count": 40,
   "metadata": {},
   "outputs": [
    {
     "name": "stdout",
     "output_type": "stream",
     "text": [
      "Name: D(2)*(2460)-   ID: -415         Latex: $D_{2}^{*}(2460)^{-}$\n",
      "Mass  = 2465.4 ± 1.3 MeV\n",
      "Width = 46.7 ± 1.2 MeV\n",
      "Q (charge)        = -       J (total angular) = 2.0      P (space parity) = +\n",
      "C (charge parity) = ?       I (isospin)       = 0.5      G (G-parity)     = ?\n",
      "    SpinType: SpinType.Tensor\n",
      "    Quarks: Cd\n",
      "    Antiparticle name: D(2)*(2460)+ (antiparticle status: ChargeInv)\n"
     ]
    }
   ],
   "source": [
    "print(p.describe())"
   ]
  },
  {
   "cell_type": "markdown",
   "metadata": {
    "slideshow": {
     "slide_type": "subslide"
    }
   },
   "source": [
    "You may find LaTeX or HTML to be more useful in your program; both are supported:"
   ]
  },
  {
   "cell_type": "code",
   "execution_count": 41,
   "metadata": {},
   "outputs": [
    {
     "name": "stdout",
     "output_type": "stream",
     "text": [
      "D_{2}^{*}(2460)^{-} \n",
      " D<SUB>2</SUB><SUP>*</SUP>(2460)<SUP>-</SUP>\n"
     ]
    }
   ],
   "source": [
    "print(p.latex_name, '\\n', p.html_name)"
   ]
  },
  {
   "cell_type": "markdown",
   "metadata": {
    "slideshow": {
     "slide_type": "subslide"
    }
   },
   "source": [
    "It is easy to get hold of the whole list of particle (instances) as a list:"
   ]
  },
  {
   "cell_type": "code",
   "execution_count": 42,
   "metadata": {
    "scrolled": true
   },
   "outputs": [
    {
     "name": "stdout",
     "output_type": "stream",
     "text": [
      "# of particles in loaded data table: 536\n"
     ]
    },
    {
     "data": {
      "text/plain": [
       "[<Particle: name=\"d\", pdgid=1, mass=4.67 + 0.50 - 0.20 MeV>,\n",
       " <Particle: name=\"d~\", pdgid=-1, mass=4.67 + 0.50 - 0.20 MeV>,\n",
       " <Particle: name=\"u\", pdgid=2, mass=2.2 + 0.5 - 0.3 MeV>,\n",
       " <Particle: name=\"u~\", pdgid=-2, mass=2.2 + 0.5 - 0.3 MeV>,\n",
       " <Particle: name=\"s\", pdgid=3, mass=93 + 11 - 5 MeV>,\n",
       " <Particle: name=\"s~\", pdgid=-3, mass=93 + 11 - 5 MeV>,\n",
       " <Particle: name=\"c\", pdgid=4, mass=1270 ± 20 MeV>,\n",
       " <Particle: name=\"c~\", pdgid=-4, mass=1270 ± 20 MeV>,\n",
       " <Particle: name=\"b\", pdgid=5, mass=4180 + 30 - 20 MeV>,\n",
       " <Particle: name=\"b~\", pdgid=-5, mass=4180 + 30 - 20 MeV>,\n",
       " <Particle: name=\"t\", pdgid=6, mass=173100 ± 900 MeV>,\n",
       " <Particle: name=\"t~\", pdgid=-6, mass=173100 ± 900 MeV>,\n",
       " <Particle: name=\"e-\", pdgid=11, mass=0.510998946 ± 0.000000003 MeV>,\n",
       " <Particle: name=\"e+\", pdgid=-11, mass=0.510998946 ± 0.000000003 MeV>,\n",
       " <Particle: name=\"nu(e)\", pdgid=12, mass=0.0 MeV>,\n",
       " <Particle: name=\"nu(e)~\", pdgid=-12, mass=0.0 MeV>,\n",
       " <Particle: name=\"mu-\", pdgid=13, mass=105.6583745 ± 0.0000024 MeV>,\n",
       " <Particle: name=\"mu+\", pdgid=-13, mass=105.6583745 ± 0.0000024 MeV>,\n",
       " <Particle: name=\"nu(mu)\", pdgid=14, mass=0.0 MeV>,\n",
       " <Particle: name=\"nu(mu)~\", pdgid=-14, mass=0.0 MeV>,\n",
       " <Particle: name=\"tau-\", pdgid=15, mass=1776.86 ± 0.12 MeV>,\n",
       " <Particle: name=\"tau+\", pdgid=-15, mass=1776.86 ± 0.12 MeV>,\n",
       " <Particle: name=\"nu(tau)\", pdgid=16, mass=0.0 MeV>,\n",
       " <Particle: name=\"nu(tau)~\", pdgid=-16, mass=0.0 MeV>,\n",
       " <Particle: name=\"g\", pdgid=21, mass=0.0 MeV>,\n",
       " <Particle: name=\"gamma\", pdgid=22, mass=0.0 MeV>,\n",
       " <Particle: name=\"Z0\", pdgid=23, mass=91187.6 ± 2.1 MeV>,\n",
       " <Particle: name=\"W+\", pdgid=24, mass=80379 ± 12 MeV>,\n",
       " <Particle: name=\"W-\", pdgid=-24, mass=80379 ± 12 MeV>,\n",
       " <Particle: name=\"H0\", pdgid=25, mass=125100 ± 140 MeV>,\n",
       " <Particle: name=\"pi0\", pdgid=111, mass=134.9770 ± 0.0005 MeV>,\n",
       " <Particle: name=\"rho(770)0\", pdgid=113, mass=775.3 ± 0.2 MeV>,\n",
       " <Particle: name=\"a(2)(1320)0\", pdgid=115, mass=1316.9 ± 0.9 MeV>,\n",
       " <Particle: name=\"rho(3)(1690)0\", pdgid=117, mass=1688.8 ± 2.1 MeV>,\n",
       " <Particle: name=\"a(4)(1970)0\", pdgid=119, mass=1967 ± 16 MeV>,\n",
       " <Particle: name=\"K(L)0\", pdgid=130, mass=497.611 ± 0.013 MeV>,\n",
       " <Particle: name=\"pi+\", pdgid=211, mass=139.57061 ± 0.00024 MeV>,\n",
       " <Particle: name=\"pi-\", pdgid=-211, mass=139.57061 ± 0.00024 MeV>,\n",
       " <Particle: name=\"rho(770)+\", pdgid=213, mass=775.3 ± 0.2 MeV>,\n",
       " <Particle: name=\"rho(770)-\", pdgid=-213, mass=775.3 ± 0.2 MeV>,\n",
       " <Particle: name=\"a(2)(1320)+\", pdgid=215, mass=1316.9 ± 0.9 MeV>,\n",
       " <Particle: name=\"a(2)(1320)-\", pdgid=-215, mass=1316.9 ± 0.9 MeV>,\n",
       " <Particle: name=\"rho(3)(1690)+\", pdgid=217, mass=1688.8 ± 2.1 MeV>,\n",
       " <Particle: name=\"rho(3)(1690)-\", pdgid=-217, mass=1688.8 ± 2.1 MeV>,\n",
       " <Particle: name=\"a(4)(1970)+\", pdgid=219, mass=1967 ± 16 MeV>,\n",
       " <Particle: name=\"a(4)(1970)-\", pdgid=-219, mass=1967 ± 16 MeV>,\n",
       " <Particle: name=\"eta\", pdgid=221, mass=547.862 ± 0.017 MeV>,\n",
       " <Particle: name=\"omega(782)\", pdgid=223, mass=782.65 ± 0.12 MeV>,\n",
       " <Particle: name=\"f(2)(1270)\", pdgid=225, mass=1275.5 ± 0.8 MeV>,\n",
       " <Particle: name=\"omega(3)(1670)\", pdgid=227, mass=1667 ± 4 MeV>,\n",
       " <Particle: name=\"f(4)(2050)\", pdgid=229, mass=2018 ± 11 MeV>,\n",
       " <Particle: name=\"K(S)0\", pdgid=310, mass=497.611 ± 0.013 MeV>,\n",
       " <Particle: name=\"K0\", pdgid=311, mass=497.611 ± 0.013 MeV>,\n",
       " <Particle: name=\"K~0\", pdgid=-311, mass=497.611 ± 0.013 MeV>,\n",
       " <Particle: name=\"K*(892)0\", pdgid=313, mass=895.55 ± 0.20 MeV>,\n",
       " <Particle: name=\"K*(892)~0\", pdgid=-313, mass=895.55 ± 0.20 MeV>,\n",
       " <Particle: name=\"K(2)*(1430)0\", pdgid=315, mass=1432.4 ± 1.3 MeV>,\n",
       " <Particle: name=\"K(2)*(1430)~0\", pdgid=-315, mass=1432.4 ± 1.3 MeV>,\n",
       " <Particle: name=\"K(3)*(1780)0\", pdgid=317, mass=1776 ± 7 MeV>,\n",
       " <Particle: name=\"K(3)*(1780)~0\", pdgid=-317, mass=1776 ± 7 MeV>,\n",
       " <Particle: name=\"K(4)*(2045)0\", pdgid=319, mass=2045 ± 9 MeV>,\n",
       " <Particle: name=\"K(4)*(2045)~0\", pdgid=-319, mass=2045 ± 9 MeV>,\n",
       " <Particle: name=\"K+\", pdgid=321, mass=493.677 ± 0.016 MeV>,\n",
       " <Particle: name=\"K-\", pdgid=-321, mass=493.677 ± 0.016 MeV>,\n",
       " <Particle: name=\"K*(892)+\", pdgid=323, mass=891.7 ± 0.3 MeV>,\n",
       " <Particle: name=\"K*(892)-\", pdgid=-323, mass=891.7 ± 0.3 MeV>,\n",
       " <Particle: name=\"K(2)*(1430)+\", pdgid=325, mass=1425.6 ± 1.5 MeV>,\n",
       " <Particle: name=\"K(2)*(1430)-\", pdgid=-325, mass=1425.6 ± 1.5 MeV>,\n",
       " <Particle: name=\"K(3)*(1780)+\", pdgid=327, mass=1776 ± 7 MeV>,\n",
       " <Particle: name=\"K(3)*(1780)-\", pdgid=-327, mass=1776 ± 7 MeV>,\n",
       " <Particle: name=\"K(4)*(2045)+\", pdgid=329, mass=2045 ± 9 MeV>,\n",
       " <Particle: name=\"K(4)*(2045)-\", pdgid=-329, mass=2045 ± 9 MeV>,\n",
       " <Particle: name=\"eta'(958)\", pdgid=331, mass=957.78 ± 0.06 MeV>,\n",
       " <Particle: name=\"phi(1020)\", pdgid=333, mass=1019.461 ± 0.016 MeV>,\n",
       " <Particle: name=\"f(2)'(1525)\", pdgid=335, mass=1525 ± 5 MeV>,\n",
       " <Particle: name=\"phi(3)(1850)\", pdgid=337, mass=1854 ± 7 MeV>,\n",
       " <Particle: name=\"D+\", pdgid=411, mass=1869.65 ± 0.05 MeV>,\n",
       " <Particle: name=\"D-\", pdgid=-411, mass=1869.65 ± 0.05 MeV>,\n",
       " <Particle: name=\"D*(2010)+\", pdgid=413, mass=2010.26 ± 0.05 MeV>,\n",
       " <Particle: name=\"D*(2010)-\", pdgid=-413, mass=2010.26 ± 0.05 MeV>,\n",
       " <Particle: name=\"D(2)*(2460)+\", pdgid=415, mass=2465.4 ± 1.3 MeV>,\n",
       " <Particle: name=\"D(2)*(2460)-\", pdgid=-415, mass=2465.4 ± 1.3 MeV>,\n",
       " <Particle: name=\"D0\", pdgid=421, mass=1864.83 ± 0.05 MeV>,\n",
       " <Particle: name=\"D~0\", pdgid=-421, mass=1864.83 ± 0.05 MeV>,\n",
       " <Particle: name=\"D*(2007)0\", pdgid=423, mass=2006.85 ± 0.05 MeV>,\n",
       " <Particle: name=\"D*(2007)~0\", pdgid=-423, mass=2006.85 ± 0.05 MeV>,\n",
       " <Particle: name=\"D(2)*(2460)0\", pdgid=425, mass=2460.7 ± 0.4 MeV>,\n",
       " <Particle: name=\"D(2)*(2460)~0\", pdgid=-425, mass=2460.7 ± 0.4 MeV>,\n",
       " <Particle: name=\"D(s)+\", pdgid=431, mass=1968.34 ± 0.07 MeV>,\n",
       " <Particle: name=\"D(s)-\", pdgid=-431, mass=1968.34 ± 0.07 MeV>,\n",
       " <Particle: name=\"D(s)*+\", pdgid=433, mass=2112.2 ± 0.4 MeV>,\n",
       " <Particle: name=\"D(s)*-\", pdgid=-433, mass=2112.2 ± 0.4 MeV>,\n",
       " <Particle: name=\"D(s2)*(2573)+\", pdgid=435, mass=2569.1 ± 0.8 MeV>,\n",
       " <Particle: name=\"D(s2)*(2573)-\", pdgid=-435, mass=2569.1 ± 0.8 MeV>,\n",
       " <Particle: name=\"eta(c)(1S)\", pdgid=441, mass=2983.9 ± 0.5 MeV>,\n",
       " <Particle: name=\"J/psi(1S)\", pdgid=443, mass=3096.900 ± 0.006 MeV>,\n",
       " <Particle: name=\"chi(c2)(1P)\", pdgid=445, mass=3556.17 ± 0.07 MeV>,\n",
       " <Particle: name=\"B0\", pdgid=511, mass=5279.64 ± 0.13 MeV>,\n",
       " <Particle: name=\"B~0\", pdgid=-511, mass=5279.64 ± 0.13 MeV>,\n",
       " <Particle: name=\"B*0\", pdgid=513, mass=5324.70 ± 0.22 MeV>,\n",
       " <Particle: name=\"B*~0\", pdgid=-513, mass=5324.70 ± 0.22 MeV>,\n",
       " <Particle: name=\"B(2)*(5747)0\", pdgid=515, mass=5739.5 ± 0.7 MeV>,\n",
       " <Particle: name=\"B(2)*(5747)~0\", pdgid=-515, mass=5739.5 ± 0.7 MeV>,\n",
       " <Particle: name=\"B+\", pdgid=521, mass=5279.33 ± 0.13 MeV>,\n",
       " <Particle: name=\"B-\", pdgid=-521, mass=5279.33 ± 0.13 MeV>,\n",
       " <Particle: name=\"B*+\", pdgid=523, mass=5324.70 ± 0.22 MeV>,\n",
       " <Particle: name=\"B*-\", pdgid=-523, mass=5324.70 ± 0.22 MeV>,\n",
       " <Particle: name=\"B(2)*(5747)+\", pdgid=525, mass=5739.5 ± 0.7 MeV>,\n",
       " <Particle: name=\"B(2)*(5747)-\", pdgid=-525, mass=5739.5 ± 0.7 MeV>,\n",
       " <Particle: name=\"B(s)0\", pdgid=531, mass=5366.88 ± 0.17 MeV>,\n",
       " <Particle: name=\"B(s)~0\", pdgid=-531, mass=5366.88 ± 0.17 MeV>,\n",
       " <Particle: name=\"B(s)*0\", pdgid=533, mass=5415.4 + 1.8 - 1.5 MeV>,\n",
       " <Particle: name=\"B(s)*~0\", pdgid=-533, mass=5415.4 + 1.8 - 1.5 MeV>,\n",
       " <Particle: name=\"B(s2)*(5840)0\", pdgid=535, mass=5839.85 ± 0.12 MeV>,\n",
       " <Particle: name=\"B(s2)*(5840)~0\", pdgid=-535, mass=5839.85 ± 0.12 MeV>,\n",
       " <Particle: name=\"B(c)+\", pdgid=541, mass=6274.9 ± 0.8 MeV>,\n",
       " <Particle: name=\"B(c)-\", pdgid=-541, mass=6274.9 ± 0.8 MeV>,\n",
       " <Particle: name=\"Upsilon(1S)\", pdgid=553, mass=9460.3 ± 0.3 MeV>,\n",
       " <Particle: name=\"chi(b2)(1P)\", pdgid=555, mass=9912.2 ± 0.3 MeV>,\n",
       " <Particle: name=\"Delta(1620)-\", pdgid=1112, mass=1610 ± 20 MeV>,\n",
       " <Particle: name=\"Delta(1620)~+\", pdgid=-1112, mass=1610 ± 20 MeV>,\n",
       " <Particle: name=\"Delta(1232)-\", pdgid=1114, mass=1232.0 ± 2.0 MeV>,\n",
       " <Particle: name=\"Delta(1232)~+\", pdgid=-1114, mass=1232.0 ± 2.0 MeV>,\n",
       " <Particle: name=\"Delta(1905)-\", pdgid=1116, mass=1880 + 30 - 25 MeV>,\n",
       " <Particle: name=\"Delta(1905)~+\", pdgid=-1116, mass=1880 + 30 - 25 MeV>,\n",
       " <Particle: name=\"Delta(1950)-\", pdgid=1118, mass=1930 + 20 - 15 MeV>,\n",
       " <Particle: name=\"Delta(1950)~+\", pdgid=-1118, mass=1930 + 20 - 15 MeV>,\n",
       " <Particle: name=\"Delta(1620)0\", pdgid=1212, mass=1610 ± 20 MeV>,\n",
       " <Particle: name=\"Delta(1620)~0\", pdgid=-1212, mass=1610 ± 20 MeV>,\n",
       " <Particle: name=\"N(1520)0\", pdgid=1214, mass=1515 ± 5 MeV>,\n",
       " <Particle: name=\"N(1520)~0\", pdgid=-1214, mass=1515 ± 5 MeV>,\n",
       " <Particle: name=\"Delta(1905)0\", pdgid=1216, mass=1880 + 30 - 25 MeV>,\n",
       " <Particle: name=\"Delta(1905)~0\", pdgid=-1216, mass=1880 + 30 - 25 MeV>,\n",
       " <Particle: name=\"N(2190)0\", pdgid=1218, mass=2180 ± 40 MeV>,\n",
       " <Particle: name=\"N(2190)~0\", pdgid=-1218, mass=2180 ± 40 MeV>,\n",
       " <Particle: name=\"n\", pdgid=2112, mass=939.565413 ± 0.000006 MeV>,\n",
       " <Particle: name=\"n~\", pdgid=-2112, mass=939.565413 ± 0.000006 MeV>,\n",
       " <Particle: name=\"Delta(1232)0\", pdgid=2114, mass=1232.0 ± 2.0 MeV>,\n",
       " <Particle: name=\"Delta(1232)~0\", pdgid=-2114, mass=1232.0 ± 2.0 MeV>,\n",
       " <Particle: name=\"N(1675)0\", pdgid=2116, mass=1675 + 5 - 10 MeV>,\n",
       " <Particle: name=\"N(1675)~0\", pdgid=-2116, mass=1675 + 5 - 10 MeV>,\n",
       " <Particle: name=\"Delta(1950)0\", pdgid=2118, mass=1930 + 20 - 15 MeV>,\n",
       " <Particle: name=\"Delta(1950)~0\", pdgid=-2118, mass=1930 + 20 - 15 MeV>,\n",
       " <Particle: name=\"Delta(1620)+\", pdgid=2122, mass=1610 ± 20 MeV>,\n",
       " <Particle: name=\"Delta(1620)~-\", pdgid=-2122, mass=1610 ± 20 MeV>,\n",
       " <Particle: name=\"N(1520)+\", pdgid=2124, mass=1515 ± 5 MeV>,\n",
       " <Particle: name=\"N(1520)~-\", pdgid=-2124, mass=1515 ± 5 MeV>,\n",
       " <Particle: name=\"Delta(1905)+\", pdgid=2126, mass=1880 + 30 - 25 MeV>,\n",
       " <Particle: name=\"Delta(1905)~-\", pdgid=-2126, mass=1880 + 30 - 25 MeV>,\n",
       " <Particle: name=\"N(2190)+\", pdgid=2128, mass=2180 ± 40 MeV>,\n",
       " <Particle: name=\"N(2190)~-\", pdgid=-2128, mass=2180 ± 40 MeV>,\n",
       " <Particle: name=\"p\", pdgid=2212, mass=938.272081 ± 0.000006 MeV>,\n",
       " <Particle: name=\"p~\", pdgid=-2212, mass=938.272081 ± 0.000006 MeV>,\n",
       " <Particle: name=\"Delta(1232)+\", pdgid=2214, mass=1232.0 ± 2.0 MeV>,\n",
       " <Particle: name=\"Delta(1232)~-\", pdgid=-2214, mass=1232.0 ± 2.0 MeV>,\n",
       " <Particle: name=\"N(1675)+\", pdgid=2216, mass=1675 + 5 - 10 MeV>,\n",
       " <Particle: name=\"N(1675)~-\", pdgid=-2216, mass=1675 + 5 - 10 MeV>,\n",
       " <Particle: name=\"Delta(1950)+\", pdgid=2218, mass=1930 + 20 - 15 MeV>,\n",
       " <Particle: name=\"Delta(1950)~-\", pdgid=-2218, mass=1930 + 20 - 15 MeV>,\n",
       " <Particle: name=\"Delta(1620)++\", pdgid=2222, mass=1610 ± 20 MeV>,\n",
       " <Particle: name=\"Delta(1620)~--\", pdgid=-2222, mass=1610 ± 20 MeV>,\n",
       " <Particle: name=\"Delta(1232)++\", pdgid=2224, mass=1232.0 ± 2.0 MeV>,\n",
       " <Particle: name=\"Delta(1232)~--\", pdgid=-2224, mass=1232.0 ± 2.0 MeV>,\n",
       " <Particle: name=\"Delta(1905)++\", pdgid=2226, mass=1880 + 30 - 25 MeV>,\n",
       " <Particle: name=\"Delta(1905)~--\", pdgid=-2226, mass=1880 + 30 - 25 MeV>,\n",
       " <Particle: name=\"Delta(1950)++\", pdgid=2228, mass=1930 + 20 - 15 MeV>,\n",
       " <Particle: name=\"Delta(1950)~--\", pdgid=-2228, mass=1930 + 20 - 15 MeV>,\n",
       " <Particle: name=\"Sigma-\", pdgid=3112, mass=1197.45 ± 0.03 MeV>,\n",
       " <Particle: name=\"Sigma~+\", pdgid=-3112, mass=1197.45 ± 0.03 MeV>,\n",
       " <Particle: name=\"Sigma(1385)-\", pdgid=3114, mass=1387.2 ± 0.5 MeV>,\n",
       " <Particle: name=\"Sigma(1385)~+\", pdgid=-3114, mass=1387.2 ± 0.5 MeV>,\n",
       " <Particle: name=\"Sigma(1775)-\", pdgid=3116, mass=1775 ± 5 MeV>,\n",
       " <Particle: name=\"Sigma(1775)~+\", pdgid=-3116, mass=1775 ± 5 MeV>,\n",
       " <Particle: name=\"Sigma(2030)-\", pdgid=3118, mass=2030 + 10 - 5 MeV>,\n",
       " <Particle: name=\"Sigma(2030)~+\", pdgid=-3118, mass=2030 + 10 - 5 MeV>,\n",
       " <Particle: name=\"Lambda\", pdgid=3122, mass=1115.683 ± 0.006 MeV>,\n",
       " <Particle: name=\"Lambda~\", pdgid=-3122, mass=1115.683 ± 0.006 MeV>,\n",
       " <Particle: name=\"Lambda(1520)\", pdgid=3124, mass=1519.5 ± 1.0 MeV>,\n",
       " <Particle: name=\"Lambda(1520)~\", pdgid=-3124, mass=1519.5 ± 1.0 MeV>,\n",
       " <Particle: name=\"Lambda(1820)\", pdgid=3126, mass=1820 ± 5 MeV>,\n",
       " <Particle: name=\"Lambda(1820)~\", pdgid=-3126, mass=1820 ± 5 MeV>,\n",
       " <Particle: name=\"Lambda(2100)\", pdgid=3128, mass=2100 ± 10 MeV>,\n",
       " <Particle: name=\"Lambda(2100)~\", pdgid=-3128, mass=2100 ± 10 MeV>,\n",
       " <Particle: name=\"Sigma0\", pdgid=3212, mass=1192.642 ± 0.024 MeV>,\n",
       " <Particle: name=\"Sigma~0\", pdgid=-3212, mass=1192.642 ± 0.024 MeV>,\n",
       " <Particle: name=\"Sigma(1385)0\", pdgid=3214, mass=1383.7 ± 1.0 MeV>,\n",
       " <Particle: name=\"Sigma(1385)~0\", pdgid=-3214, mass=1383.7 ± 1.0 MeV>,\n",
       " <Particle: name=\"Sigma(1775)0\", pdgid=3216, mass=1775 ± 5 MeV>,\n",
       " <Particle: name=\"Sigma(1775)~0\", pdgid=-3216, mass=1775 ± 5 MeV>,\n",
       " <Particle: name=\"Sigma(2030)0\", pdgid=3218, mass=2030 + 10 - 5 MeV>,\n",
       " <Particle: name=\"Sigma(2030)~0\", pdgid=-3218, mass=2030 + 10 - 5 MeV>,\n",
       " <Particle: name=\"Sigma+\", pdgid=3222, mass=1189.37 ± 0.07 MeV>,\n",
       " <Particle: name=\"Sigma~-\", pdgid=-3222, mass=1189.37 ± 0.07 MeV>,\n",
       " <Particle: name=\"Sigma(1385)+\", pdgid=3224, mass=1382.8 ± 0.3 MeV>,\n",
       " <Particle: name=\"Sigma(1385)~-\", pdgid=-3224, mass=1382.8 ± 0.3 MeV>,\n",
       " <Particle: name=\"Sigma(1775)+\", pdgid=3226, mass=1775 ± 5 MeV>,\n",
       " <Particle: name=\"Sigma(1775)~-\", pdgid=-3226, mass=1775 ± 5 MeV>,\n",
       " <Particle: name=\"Sigma(2030)+\", pdgid=3228, mass=2030 + 10 - 5 MeV>,\n",
       " <Particle: name=\"Sigma(2030)~-\", pdgid=-3228, mass=2030 + 10 - 5 MeV>,\n",
       " <Particle: name=\"Xi-\", pdgid=3312, mass=1321.71 ± 0.07 MeV>,\n",
       " <Particle: name=\"Xi~+\", pdgid=-3312, mass=1321.71 ± 0.07 MeV>,\n",
       " <Particle: name=\"Xi(1530)-\", pdgid=3314, mass=1535.0 ± 0.6 MeV>,\n",
       " <Particle: name=\"Xi(1530)~+\", pdgid=-3314, mass=1535.0 ± 0.6 MeV>,\n",
       " <Particle: name=\"Xi0\", pdgid=3322, mass=1314.86 ± 0.20 MeV>,\n",
       " <Particle: name=\"Xi~0\", pdgid=-3322, mass=1314.86 ± 0.20 MeV>,\n",
       " <Particle: name=\"Xi(1530)0\", pdgid=3324, mass=1531.8 ± 0.3 MeV>,\n",
       " <Particle: name=\"Xi(1530)~0\", pdgid=-3324, mass=1531.8 ± 0.3 MeV>,\n",
       " <Particle: name=\"Omega-\", pdgid=3334, mass=1672.5 ± 0.3 MeV>,\n",
       " <Particle: name=\"Omega~+\", pdgid=-3334, mass=1672.5 ± 0.3 MeV>,\n",
       " <Particle: name=\"Sigma(c)(2455)0\", pdgid=4112, mass=2453.75 ± 0.14 MeV>,\n",
       " <Particle: name=\"Sigma(c)(2455)~0\", pdgid=-4112, mass=2453.75 ± 0.14 MeV>,\n",
       " <Particle: name=\"Sigma(c)(2520)0\", pdgid=4114, mass=2518.48 ± 0.20 MeV>,\n",
       " <Particle: name=\"Sigma(c)(2520)~0\", pdgid=-4114, mass=2518.48 ± 0.20 MeV>,\n",
       " <Particle: name=\"Lambda(c)+\", pdgid=4122, mass=2286.46 ± 0.14 MeV>,\n",
       " <Particle: name=\"Lambda(c)~-\", pdgid=-4122, mass=2286.46 ± 0.14 MeV>,\n",
       " <Particle: name=\"Xi(c)0\", pdgid=4132, mass=2470.9 ± 0.2 MeV>,\n",
       " <Particle: name=\"Xi(c)~0\", pdgid=-4132, mass=2470.9 ± 0.2 MeV>,\n",
       " <Particle: name=\"Sigma(c)(2455)+\", pdgid=4212, mass=2452.9 ± 0.4 MeV>,\n",
       " <Particle: name=\"Sigma(c)(2455)~-\", pdgid=-4212, mass=2452.9 ± 0.4 MeV>,\n",
       " <Particle: name=\"Sigma(c)(2520)+\", pdgid=4214, mass=2517.5 ± 2.3 MeV>,\n",
       " <Particle: name=\"Sigma(c)(2520)~-\", pdgid=-4214, mass=2517.5 ± 2.3 MeV>,\n",
       " <Particle: name=\"Sigma(c)(2455)++\", pdgid=4222, mass=2453.97 ± 0.14 MeV>,\n",
       " <Particle: name=\"Sigma(c)(2455)~--\", pdgid=-4222, mass=2453.97 ± 0.14 MeV>,\n",
       " <Particle: name=\"Sigma(c)(2520)++\", pdgid=4224, mass=2518.41 + 0.21 - 0.19 MeV>,\n",
       " <Particle: name=\"Sigma(c)(2520)~--\", pdgid=-4224, mass=2518.41 + 0.21 - 0.19 MeV>,\n",
       " <Particle: name=\"Xi(c)+\", pdgid=4232, mass=2467.93 ± 0.18 MeV>,\n",
       " <Particle: name=\"Xi(c)~-\", pdgid=-4232, mass=2467.93 ± 0.18 MeV>,\n",
       " <Particle: name=\"Xi(c)'0\", pdgid=4312, mass=2579.2 ± 0.5 MeV>,\n",
       " <Particle: name=\"Xi(c)'~0\", pdgid=-4312, mass=2579.2 ± 0.5 MeV>,\n",
       " <Particle: name=\"Xi(c)(2645)0\", pdgid=4314, mass=2646.38 ± 0.21 MeV>,\n",
       " <Particle: name=\"Xi(c)(2645)~0\", pdgid=-4314, mass=2646.38 ± 0.21 MeV>,\n",
       " <Particle: name=\"Xi(c)'+\", pdgid=4322, mass=2578.4 ± 0.5 MeV>,\n",
       " <Particle: name=\"Xi(c)'~-\", pdgid=-4322, mass=2578.4 ± 0.5 MeV>,\n",
       " <Particle: name=\"Xi(c)(2645)+\", pdgid=4324, mass=2645.6 ± 0.3 MeV>,\n",
       " <Particle: name=\"Xi(c)(2645)~-\", pdgid=-4324, mass=2645.6 ± 0.3 MeV>,\n",
       " <Particle: name=\"Omega(c)0\", pdgid=4332, mass=2695.2 ± 1.7 MeV>,\n",
       " <Particle: name=\"Omega(c)~0\", pdgid=-4332, mass=2695.2 ± 1.7 MeV>,\n",
       " <Particle: name=\"Omega(c)(2770)0\", pdgid=4334, mass=2765.9 ± 2.0 MeV>,\n",
       " <Particle: name=\"Omega(c)(2770)~0\", pdgid=-4334, mass=2765.9 ± 2.0 MeV>,\n",
       " <Particle: name=\"Sigma(b)-\", pdgid=5112, mass=5815.6 ± 0.3 MeV>,\n",
       " <Particle: name=\"Sigma(b)~+\", pdgid=-5112, mass=5815.6 ± 0.3 MeV>,\n",
       " <Particle: name=\"Sigma(b)*-\", pdgid=5114, mass=5834.7 ± 0.3 MeV>,\n",
       " <Particle: name=\"Sigma(b)*~+\", pdgid=-5114, mass=5834.7 ± 0.3 MeV>,\n",
       " <Particle: name=\"Lambda(b)0\", pdgid=5122, mass=5619.60 ± 0.17 MeV>,\n",
       " <Particle: name=\"Lambda(b)~0\", pdgid=-5122, mass=5619.60 ± 0.17 MeV>,\n",
       " <Particle: name=\"Xi(b)-\", pdgid=5132, mass=5797.0 ± 0.9 MeV>,\n",
       " <Particle: name=\"Xi(b)~+\", pdgid=-5132, mass=5797.0 ± 0.9 MeV>,\n",
       " <Particle: name=\"Sigma(b)+\", pdgid=5222, mass=5810.6 ± 0.2 MeV>,\n",
       " <Particle: name=\"Sigma(b)~-\", pdgid=-5222, mass=5810.6 ± 0.2 MeV>,\n",
       " <Particle: name=\"Sigma(b)*+\", pdgid=5224, mass=5830.3 ± 0.3 MeV>,\n",
       " <Particle: name=\"Sigma(b)*~-\", pdgid=-5224, mass=5830.3 ± 0.3 MeV>,\n",
       " <Particle: name=\"Xi(b)0\", pdgid=5232, mass=5791.9 ± 0.5 MeV>,\n",
       " <Particle: name=\"Xi(b)~0\", pdgid=-5232, mass=5791.9 ± 0.5 MeV>,\n",
       " <Particle: name=\"Omega(b)-\", pdgid=5332, mass=6046.1 ± 1.7 MeV>,\n",
       " <Particle: name=\"Omega(b)~+\", pdgid=-5332, mass=6046.1 ± 1.7 MeV>,\n",
       " <Particle: name=\"a(0)(1450)0\", pdgid=10111, mass=1467 ± 14 MeV>,\n",
       " <Particle: name=\"b(1)(1235)0\", pdgid=10113, mass=1230 ± 3 MeV>,\n",
       " <Particle: name=\"pi(2)(1670)0\", pdgid=10115, mass=1670.6 + 2.9 - 1.2 MeV>,\n",
       " <Particle: name=\"a(0)(1450)+\", pdgid=10211, mass=1467 ± 14 MeV>,\n",
       " <Particle: name=\"a(0)(1450)-\", pdgid=-10211, mass=1467 ± 14 MeV>,\n",
       " <Particle: name=\"b(1)(1235)+\", pdgid=10213, mass=1230 ± 3 MeV>,\n",
       " <Particle: name=\"b(1)(1235)-\", pdgid=-10213, mass=1230 ± 3 MeV>,\n",
       " <Particle: name=\"pi(2)(1670)+\", pdgid=10215, mass=1670.6 + 2.9 - 1.2 MeV>,\n",
       " <Particle: name=\"pi(2)(1670)-\", pdgid=-10215, mass=1670.6 + 2.9 - 1.2 MeV>,\n",
       " <Particle: name=\"f(0)(1370)\", pdgid=10221, mass=1350 ± 150 MeV>,\n",
       " <Particle: name=\"h(1)(1170)\", pdgid=10223, mass=1170 ± 20 MeV>,\n",
       " <Particle: name=\"eta(2)(1645)\", pdgid=10225, mass=1617 ± 5 MeV>,\n",
       " <Particle: name=\"K(0)*(1430)0\", pdgid=10311, mass=1430 ± 50 MeV>,\n",
       " <Particle: name=\"K(0)*(1430)~0\", pdgid=-10311, mass=1430 ± 50 MeV>,\n",
       " <Particle: name=\"K(1)(1270)0\", pdgid=10313, mass=1272 ± 7 MeV>,\n",
       " <Particle: name=\"K(1)(1270)~0\", pdgid=-10313, mass=1272 ± 7 MeV>,\n",
       " <Particle: name=\"K(2)(1770)0\", pdgid=10315, mass=1773 ± 8 MeV>,\n",
       " <Particle: name=\"K(2)(1770)~0\", pdgid=-10315, mass=1773 ± 8 MeV>,\n",
       " <Particle: name=\"K(0)*(1430)+\", pdgid=10321, mass=1430 ± 50 MeV>,\n",
       " <Particle: name=\"K(0)*(1430)-\", pdgid=-10321, mass=1430 ± 50 MeV>,\n",
       " <Particle: name=\"K(1)(1270)+\", pdgid=10323, mass=1272 ± 7 MeV>,\n",
       " <Particle: name=\"K(1)(1270)-\", pdgid=-10323, mass=1272 ± 7 MeV>,\n",
       " <Particle: name=\"K(2)(1770)+\", pdgid=10325, mass=1773 ± 8 MeV>,\n",
       " <Particle: name=\"K(2)(1770)-\", pdgid=-10325, mass=1773 ± 8 MeV>,\n",
       " <Particle: name=\"f(0)(1710)\", pdgid=10331, mass=1704 ± 12 MeV>,\n",
       " <Particle: name=\"h(1)(1415)\", pdgid=10333, mass=1416 ± 8 MeV>,\n",
       " <Particle: name=\"D(0)*(2300)+\", pdgid=10411, mass=2300 ± 19 MeV>,\n",
       " <Particle: name=\"D(0)*(2300)-\", pdgid=-10411, mass=2300 ± 19 MeV>,\n",
       " <Particle: name=\"D(0)*(2300)0\", pdgid=10421, mass=2300 ± 19 MeV>,\n",
       " <Particle: name=\"D(0)*(2300)~0\", pdgid=-10421, mass=2300 ± 19 MeV>,\n",
       " <Particle: name=\"D(1)(2420)0\", pdgid=10423, mass=2420.8 ± 0.5 MeV>,\n",
       " <Particle: name=\"D(1)(2420)~0\", pdgid=-10423, mass=2420.8 ± 0.5 MeV>,\n",
       " <Particle: name=\"D(s0)*(2317)+\", pdgid=10431, mass=2317.8 ± 0.5 MeV>,\n",
       " <Particle: name=\"D(s0)*(2317)-\", pdgid=-10431, mass=2317.8 ± 0.5 MeV>,\n",
       " <Particle: name=\"D(s1)(2536)+\", pdgid=10433, mass=2535.11 ± 0.06 MeV>,\n",
       " <Particle: name=\"D(s1)(2536)-\", pdgid=-10433, mass=2535.11 ± 0.06 MeV>,\n",
       " <Particle: name=\"chi(c0)(1P)\", pdgid=10441, mass=3414.7 ± 0.3 MeV>,\n",
       " <Particle: name=\"h(c)(1P)\", pdgid=10443, mass=3525.38 ± 0.11 MeV>,\n",
       " <Particle: name=\"chi(b0)(1P)\", pdgid=10551, mass=9859.4 ± 0.5 MeV>,\n",
       " <Particle: name=\"h(b)(1P)\", pdgid=10553, mass=9899.3 ± 0.8 MeV>,\n",
       " <Particle: name=\"Delta(1900)-\", pdgid=11112, mass=1860 + 60 - 20 MeV>,\n",
       " <Particle: name=\"Delta(1900)~+\", pdgid=-11112, mass=1860 + 60 - 20 MeV>,\n",
       " <Particle: name=\"Delta(1700)-\", pdgid=11114, mass=1710 ± 20 MeV>,\n",
       " <Particle: name=\"Delta(1700)~+\", pdgid=-11114, mass=1710 ± 20 MeV>,\n",
       " <Particle: name=\"Delta(1930)-\", pdgid=11116, mass=1950 ± 50 MeV>,\n",
       " <Particle: name=\"Delta(1930)~+\", pdgid=-11116, mass=1950 ± 50 MeV>,\n",
       " <Particle: name=\"Delta(1900)0\", pdgid=11212, mass=1860 + 60 - 20 MeV>,\n",
       " <Particle: name=\"Delta(1900)~0\", pdgid=-11212, mass=1860 + 60 - 20 MeV>,\n",
       " <Particle: name=\"Delta(1930)0\", pdgid=11216, mass=1950 ± 50 MeV>,\n",
       " <Particle: name=\"Delta(1930)~0\", pdgid=-11216, mass=1950 ± 50 MeV>,\n",
       " <Particle: name=\"N(1440)0\", pdgid=12112, mass=1440 ± 30 MeV>,\n",
       " <Particle: name=\"N(1440)~0\", pdgid=-12112, mass=1440 ± 30 MeV>,\n",
       " <Particle: name=\"Delta(1700)0\", pdgid=12114, mass=1710 ± 20 MeV>,\n",
       " <Particle: name=\"Delta(1700)~0\", pdgid=-12114, mass=1710 ± 20 MeV>,\n",
       " <Particle: name=\"N(1680)0\", pdgid=12116, mass=1685 ± 5 MeV>,\n",
       " <Particle: name=\"N(1680)~0\", pdgid=-12116, mass=1685 ± 5 MeV>,\n",
       " <Particle: name=\"Delta(1900)+\", pdgid=12122, mass=1860 + 60 - 20 MeV>,\n",
       " <Particle: name=\"Delta(1900)~-\", pdgid=-12122, mass=1860 + 60 - 20 MeV>,\n",
       " <Particle: name=\"Delta(1930)+\", pdgid=12126, mass=1950 ± 50 MeV>,\n",
       " <Particle: name=\"Delta(1930)~-\", pdgid=-12126, mass=1950 ± 50 MeV>,\n",
       " <Particle: name=\"N(1440)+\", pdgid=12212, mass=1440 ± 30 MeV>,\n",
       " <Particle: name=\"N(1440)~-\", pdgid=-12212, mass=1440 ± 30 MeV>,\n",
       " <Particle: name=\"Delta(1700)+\", pdgid=12214, mass=1710 ± 20 MeV>,\n",
       " <Particle: name=\"Delta(1700)~-\", pdgid=-12214, mass=1710 ± 20 MeV>,\n",
       " <Particle: name=\"N(1680)+\", pdgid=12216, mass=1685 ± 5 MeV>,\n",
       " <Particle: name=\"N(1680)~-\", pdgid=-12216, mass=1685 ± 5 MeV>,\n",
       " <Particle: name=\"Delta(1900)++\", pdgid=12222, mass=1860 + 60 - 20 MeV>,\n",
       " <Particle: name=\"Delta(1900)~--\", pdgid=-12222, mass=1860 + 60 - 20 MeV>,\n",
       " <Particle: name=\"Delta(1700)++\", pdgid=12224, mass=1710 ± 20 MeV>,\n",
       " <Particle: name=\"Delta(1700)~--\", pdgid=-12224, mass=1710 ± 20 MeV>,\n",
       " <Particle: name=\"Delta(1930)++\", pdgid=12226, mass=1950 ± 50 MeV>,\n",
       " <Particle: name=\"Delta(1930)~--\", pdgid=-12226, mass=1950 ± 50 MeV>,\n",
       " <Particle: name=\"Sigma(1660)-\", pdgid=13112, mass=1660 ± 30 MeV>,\n",
       " <Particle: name=\"Sigma(1660)~+\", pdgid=-13112, mass=1660 ± 30 MeV>,\n",
       " <Particle: name=\"Sigma(1670)-\", pdgid=13114, mass=1670 + 15 - 5 MeV>,\n",
       " <Particle: name=\"Sigma(1670)~+\", pdgid=-13114, mass=1670 + 15 - 5 MeV>,\n",
       " <Particle: name=\"Sigma(1915)-\", pdgid=13116, mass=1915 + 20 - 15 MeV>,\n",
       " <Particle: name=\"Sigma(1915)~+\", pdgid=-13116, mass=1915 + 20 - 15 MeV>,\n",
       " <Particle: name=\"Lambda(1405)\", pdgid=13122, mass=1405.1 + 1.3 - 1.0 MeV>,\n",
       " <Particle: name=\"Lambda(1405)~\", pdgid=-13122, mass=1405.1 + 1.3 - 1.0 MeV>,\n",
       " <Particle: name=\"Lambda(1690)\", pdgid=13124, mass=1690 ± 5 MeV>,\n",
       " <Particle: name=\"Lambda(1690)~\", pdgid=-13124, mass=1690 ± 5 MeV>,\n",
       " <Particle: name=\"Lambda(1830)\", pdgid=13126, mass=1830.0 MeV>,\n",
       " <Particle: name=\"Lambda(1830)~\", pdgid=-13126, mass=1830.0 MeV>,\n",
       " <Particle: name=\"Sigma(1660)0\", pdgid=13212, mass=1660 ± 30 MeV>,\n",
       " <Particle: name=\"Sigma(1660)~0\", pdgid=-13212, mass=1660 ± 30 MeV>,\n",
       " <Particle: name=\"Sigma(1670)0\", pdgid=13214, mass=1670 + 15 - 5 MeV>,\n",
       " <Particle: name=\"Sigma(1670)~0\", pdgid=-13214, mass=1670 + 15 - 5 MeV>,\n",
       " <Particle: name=\"Sigma(1915)0\", pdgid=13216, mass=1915 + 20 - 15 MeV>,\n",
       " <Particle: name=\"Sigma(1915)~0\", pdgid=-13216, mass=1915 + 20 - 15 MeV>,\n",
       " <Particle: name=\"Sigma(1660)+\", pdgid=13222, mass=1660 ± 30 MeV>,\n",
       " <Particle: name=\"Sigma(1660)~-\", pdgid=-13222, mass=1660 ± 30 MeV>,\n",
       " <Particle: name=\"Sigma(1670)+\", pdgid=13224, mass=1670 + 15 - 5 MeV>,\n",
       " <Particle: name=\"Sigma(1670)~-\", pdgid=-13224, mass=1670 + 15 - 5 MeV>,\n",
       " <Particle: name=\"Sigma(1915)+\", pdgid=13226, mass=1915 + 20 - 15 MeV>,\n",
       " <Particle: name=\"Sigma(1915)~-\", pdgid=-13226, mass=1915 + 20 - 15 MeV>,\n",
       " <Particle: name=\"Xi(1820)-\", pdgid=13314, mass=1823 ± 5 MeV>,\n",
       " <Particle: name=\"Xi(1820)~+\", pdgid=-13314, mass=1823 ± 5 MeV>,\n",
       " <Particle: name=\"Xi(1820)0\", pdgid=13324, mass=1823 ± 5 MeV>,\n",
       " <Particle: name=\"Xi(1820)~0\", pdgid=-13324, mass=1823 ± 5 MeV>,\n",
       " <Particle: name=\"Lambda(c)(2595)+\", pdgid=14122, mass=2592.2 ± 0.3 MeV>,\n",
       " <Particle: name=\"Lambda(c)(2595)~-\", pdgid=-14122, mass=2592.2 ± 0.3 MeV>,\n",
       " <Particle: name=\"a(1)(1260)0\", pdgid=20113, mass=1230 ± 40 MeV>,\n",
       " <Particle: name=\"a(1)(1260)+\", pdgid=20213, mass=1230 ± 40 MeV>,\n",
       " <Particle: name=\"a(1)(1260)-\", pdgid=-20213, mass=1230 ± 40 MeV>,\n",
       " <Particle: name=\"f(1)(1285)\", pdgid=20223, mass=1281.9 ± 0.5 MeV>,\n",
       " <Particle: name=\"K(1)(1400)0\", pdgid=20313, mass=1403 ± 7 MeV>,\n",
       " <Particle: name=\"K(1)(1400)~0\", pdgid=-20313, mass=1403 ± 7 MeV>,\n",
       " <Particle: name=\"K(2)(1820)0\", pdgid=20315, mass=1819 ± 12 MeV>,\n",
       " <Particle: name=\"K(2)(1820)~0\", pdgid=-20315, mass=1819 ± 12 MeV>,\n",
       " <Particle: name=\"K(1)(1400)+\", pdgid=20323, mass=1403 ± 7 MeV>,\n",
       " <Particle: name=\"K(1)(1400)-\", pdgid=-20323, mass=1403 ± 7 MeV>,\n",
       " <Particle: name=\"K(2)(1820)+\", pdgid=20325, mass=1819 ± 12 MeV>,\n",
       " <Particle: name=\"K(2)(1820)-\", pdgid=-20325, mass=1819 ± 12 MeV>,\n",
       " <Particle: name=\"f(1)(1420)\", pdgid=20333, mass=1426.4 ± 0.9 MeV>,\n",
       " <Particle: name=\"D(s1)(2460)+\", pdgid=20433, mass=2459.5 ± 0.6 MeV>,\n",
       " <Particle: name=\"D(s1)(2460)-\", pdgid=-20433, mass=2459.5 ± 0.6 MeV>,\n",
       " <Particle: name=\"chi(c1)(1P)\", pdgid=20443, mass=3510.67 ± 0.05 MeV>,\n",
       " <Particle: name=\"chi(b1)(1P)\", pdgid=20553, mass=9892.9 ± 0.3 MeV>,\n",
       " <Particle: name=\"Upsilon(2)(1D)\", pdgid=20555, mass=10163.7 ± 1.4 MeV>,\n",
       " <Particle: name=\"Delta(1910)-\", pdgid=21112, mass=1900 ± 50 MeV>,\n",
       " <Particle: name=\"Delta(1910)~+\", pdgid=-21112, mass=1900 ± 50 MeV>,\n",
       " <Particle: name=\"Delta(1920)-\", pdgid=21114, mass=1920 ± 50 MeV>,\n",
       " <Particle: name=\"Delta(1920)~+\", pdgid=-21114, mass=1920 ± 50 MeV>,\n",
       " <Particle: name=\"Delta(1910)0\", pdgid=21212, mass=1900 ± 50 MeV>,\n",
       " <Particle: name=\"Delta(1910)~0\", pdgid=-21212, mass=1900 ± 50 MeV>,\n",
       " <Particle: name=\"N(1700)0\", pdgid=21214, mass=1720 + 80 - 70 MeV>,\n",
       " <Particle: name=\"N(1700)~0\", pdgid=-21214, mass=1720 + 80 - 70 MeV>,\n",
       " <Particle: name=\"N(1535)0\", pdgid=22112, mass=1530 ± 15 MeV>,\n",
       " <Particle: name=\"N(1535)~0\", pdgid=-22112, mass=1530 ± 15 MeV>,\n",
       " <Particle: name=\"Delta(1920)0\", pdgid=22114, mass=1920 ± 50 MeV>,\n",
       " <Particle: name=\"Delta(1920)~0\", pdgid=-22114, mass=1920 ± 50 MeV>,\n",
       " <Particle: name=\"Delta(1910)+\", pdgid=22122, mass=1900 ± 50 MeV>,\n",
       " <Particle: name=\"Delta(1910)~-\", pdgid=-22122, mass=1900 ± 50 MeV>,\n",
       " <Particle: name=\"N(1700)+\", pdgid=22124, mass=1720 + 80 - 70 MeV>,\n",
       " <Particle: name=\"N(1700)~-\", pdgid=-22124, mass=1720 + 80 - 70 MeV>,\n",
       " <Particle: name=\"N(1535)+\", pdgid=22212, mass=1530 ± 15 MeV>,\n",
       " <Particle: name=\"N(1535)~-\", pdgid=-22212, mass=1530 ± 15 MeV>,\n",
       " <Particle: name=\"Delta(1920)+\", pdgid=22214, mass=1920 ± 50 MeV>,\n",
       " <Particle: name=\"Delta(1920)~-\", pdgid=-22214, mass=1920 ± 50 MeV>,\n",
       " <Particle: name=\"Delta(1910)++\", pdgid=22222, mass=1900 ± 50 MeV>,\n",
       " <Particle: name=\"Delta(1910)~--\", pdgid=-22222, mass=1900 ± 50 MeV>,\n",
       " <Particle: name=\"Delta(1920)++\", pdgid=22224, mass=1920 ± 50 MeV>,\n",
       " <Particle: name=\"Delta(1920)~--\", pdgid=-22224, mass=1920 ± 50 MeV>,\n",
       " <Particle: name=\"Sigma(1750)-\", pdgid=23112, mass=1750 + 50 - 20 MeV>,\n",
       " <Particle: name=\"Sigma(1750)~+\", pdgid=-23112, mass=1750 + 50 - 20 MeV>,\n",
       " <Particle: name=\"Sigma(1940)-\", pdgid=23114, mass=1940 + 10 - 40 MeV>,\n",
       " <Particle: name=\"Sigma(1940)~+\", pdgid=-23114, mass=1940 + 10 - 40 MeV>,\n",
       " <Particle: name=\"Lambda(1600)\", pdgid=23122, mass=1600 + 100 - 40 MeV>,\n",
       " <Particle: name=\"Lambda(1600)~\", pdgid=-23122, mass=1600 + 100 - 40 MeV>,\n",
       " <Particle: name=\"Lambda(1890)\", pdgid=23124, mass=1890 + 20 - 40 MeV>,\n",
       " <Particle: name=\"Lambda(1890)~\", pdgid=-23124, mass=1890 + 20 - 40 MeV>,\n",
       " <Particle: name=\"Lambda(2110)\", pdgid=23126, mass=2110 + 30 - 20 MeV>,\n",
       " <Particle: name=\"Lambda(2110)~\", pdgid=-23126, mass=2110 + 30 - 20 MeV>,\n",
       " <Particle: name=\"Sigma(1750)0\", pdgid=23212, mass=1750 + 50 - 20 MeV>,\n",
       " <Particle: name=\"Sigma(1750)~0\", pdgid=-23212, mass=1750 + 50 - 20 MeV>,\n",
       " <Particle: name=\"Sigma(1940)0\", pdgid=23214, mass=1940 + 10 - 40 MeV>,\n",
       " <Particle: name=\"Sigma(1940)~0\", pdgid=-23214, mass=1940 + 10 - 40 MeV>,\n",
       " <Particle: name=\"Sigma(1750)+\", pdgid=23222, mass=1750 + 50 - 20 MeV>,\n",
       " <Particle: name=\"Sigma(1750)~-\", pdgid=-23222, mass=1750 + 50 - 20 MeV>,\n",
       " <Particle: name=\"Sigma(1940)+\", pdgid=23224, mass=1940 + 10 - 40 MeV>,\n",
       " <Particle: name=\"Sigma(1940)~-\", pdgid=-23224, mass=1940 + 10 - 40 MeV>,\n",
       " <Particle: name=\"rho(1700)0\", pdgid=30113, mass=1720 ± 20 MeV>,\n",
       " <Particle: name=\"rho(1700)+\", pdgid=30213, mass=1720 ± 20 MeV>,\n",
       " <Particle: name=\"rho(1700)-\", pdgid=-30213, mass=1720 ± 20 MeV>,\n",
       " <Particle: name=\"omega(1650)\", pdgid=30223, mass=1670 ± 30 MeV>,\n",
       " <Particle: name=\"K*(1680)0\", pdgid=30313, mass=1718 ± 18 MeV>,\n",
       " <Particle: name=\"K*(1680)~0\", pdgid=-30313, mass=1718 ± 18 MeV>,\n",
       " <Particle: name=\"K*(1680)+\", pdgid=30323, mass=1718 ± 18 MeV>,\n",
       " <Particle: name=\"K*(1680)-\", pdgid=-30323, mass=1718 ± 18 MeV>,\n",
       " <Particle: name=\"psi(3770)\", pdgid=30443, mass=3773.1 ± 0.3 MeV>,\n",
       " <Particle: name=\"Delta(1600)-\", pdgid=31114, mass=1570 ± 70 MeV>,\n",
       " <Particle: name=\"Delta(1600)~+\", pdgid=-31114, mass=1570 ± 70 MeV>,\n",
       " <Particle: name=\"N(1720)0\", pdgid=31214, mass=1720 + 30 - 40 MeV>,\n",
       " <Particle: name=\"N(1720)~0\", pdgid=-31214, mass=1720 + 30 - 40 MeV>,\n",
       " <Particle: name=\"N(1650)0\", pdgid=32112, mass=1650 ± 15 MeV>,\n",
       " <Particle: name=\"N(1650)~0\", pdgid=-32112, mass=1650 ± 15 MeV>,\n",
       " <Particle: name=\"Delta(1600)0\", pdgid=32114, mass=1570 ± 70 MeV>,\n",
       " <Particle: name=\"Delta(1600)~0\", pdgid=-32114, mass=1570 ± 70 MeV>,\n",
       " <Particle: name=\"N(1720)+\", pdgid=32124, mass=1720 + 30 - 40 MeV>,\n",
       " <Particle: name=\"N(1720)~-\", pdgid=-32124, mass=1720 + 30 - 40 MeV>,\n",
       " <Particle: name=\"N(1650)+\", pdgid=32212, mass=1650 ± 15 MeV>,\n",
       " <Particle: name=\"N(1650)~-\", pdgid=-32212, mass=1650 ± 15 MeV>,\n",
       " <Particle: name=\"Delta(1600)+\", pdgid=32214, mass=1570 ± 70 MeV>,\n",
       " <Particle: name=\"Delta(1600)~-\", pdgid=-32214, mass=1570 ± 70 MeV>,\n",
       " <Particle: name=\"Delta(1600)++\", pdgid=32224, mass=1570 ± 70 MeV>,\n",
       " <Particle: name=\"Delta(1600)~--\", pdgid=-32224, mass=1570 ± 70 MeV>,\n",
       " <Particle: name=\"Lambda(1670)\", pdgid=33122, mass=1670 ± 10 MeV>,\n",
       " <Particle: name=\"Lambda(1670)~\", pdgid=-33122, mass=1670 ± 10 MeV>,\n",
       " <Particle: name=\"N(1710)0\", pdgid=42112, mass=1710 ± 30 MeV>,\n",
       " <Particle: name=\"N(1710)~0\", pdgid=-42112, mass=1710 ± 30 MeV>,\n",
       " <Particle: name=\"N(1710)+\", pdgid=42212, mass=1710 ± 30 MeV>,\n",
       " <Particle: name=\"N(1710)~-\", pdgid=-42212, mass=1710 ± 30 MeV>,\n",
       " <Particle: name=\"Lambda(1800)\", pdgid=43122, mass=1800 + 50 - 80 MeV>,\n",
       " <Particle: name=\"Lambda(1800)~\", pdgid=-43122, mass=1800 + 50 - 80 MeV>,\n",
       " <Particle: name=\"Lambda(1810)\", pdgid=53122, mass=1810 + 40 - 60 MeV>,\n",
       " <Particle: name=\"Lambda(1810)~\", pdgid=-53122, mass=1810 + 40 - 60 MeV>,\n",
       " <Particle: name=\"pi(1300)0\", pdgid=100111, mass=1300 ± 100 MeV>,\n",
       " <Particle: name=\"rho(1450)0\", pdgid=100113, mass=1465 ± 25 MeV>,\n",
       " <Particle: name=\"pi(1300)+\", pdgid=100211, mass=1300 ± 100 MeV>,\n",
       " <Particle: name=\"pi(1300)-\", pdgid=-100211, mass=1300 ± 100 MeV>,\n",
       " <Particle: name=\"rho(1450)+\", pdgid=100213, mass=1465 ± 25 MeV>,\n",
       " <Particle: name=\"rho(1450)-\", pdgid=-100213, mass=1465 ± 25 MeV>,\n",
       " <Particle: name=\"eta(1295)\", pdgid=100221, mass=1294 ± 4 MeV>,\n",
       " <Particle: name=\"K*(1410)0\", pdgid=100313, mass=1421 ± 9 MeV>,\n",
       " <Particle: name=\"K*(1410)~0\", pdgid=-100313, mass=1421 ± 9 MeV>,\n",
       " <Particle: name=\"K*(1410)+\", pdgid=100323, mass=1421 ± 9 MeV>,\n",
       " <Particle: name=\"K*(1410)-\", pdgid=-100323, mass=1421 ± 9 MeV>,\n",
       " <Particle: name=\"eta(1475)\", pdgid=100331, mass=1475 ± 4 MeV>,\n",
       " <Particle: name=\"phi(1680)\", pdgid=100333, mass=1680 ± 20 MeV>,\n",
       " <Particle: name=\"eta(c)(2S)\", pdgid=100441, mass=3637.5 ± 1.1 MeV>,\n",
       " <Particle: name=\"psi(2S)\", pdgid=100443, mass=3686.10 ± 0.03 MeV>,\n",
       " <Particle: name=\"chi(c2)(3930)\", pdgid=100445, mass=3927 ± 3 MeV>,\n",
       " <Particle: name=\"Upsilon(2S)\", pdgid=100553, mass=10023.3 ± 0.3 MeV>,\n",
       " <Particle: name=\"chi(b2)(2P)\", pdgid=100555, mass=10268.65 + 0.20 - 0.50 MeV>,\n",
       " <Particle: name=\"Xi(1950)-\", pdgid=103316, mass=1950 ± 15 MeV>,\n",
       " <Particle: name=\"Xi(1950)~+\", pdgid=-103316, mass=1950 ± 15 MeV>,\n",
       " <Particle: name=\"Xi(1950)0\", pdgid=103326, mass=1950 ± 15 MeV>,\n",
       " <Particle: name=\"Xi(1950)~0\", pdgid=-103326, mass=1950 ± 15 MeV>,\n",
       " <Particle: name=\"Lambda(c)(2625)+\", pdgid=104122, mass=2628.11 ± 0.19 MeV>,\n",
       " <Particle: name=\"Lambda(c)(2625)~-\", pdgid=-104122, mass=2628.11 ± 0.19 MeV>,\n",
       " <Particle: name=\"Xi(c)(2815)0\", pdgid=104312, mass=2820.3 ± 0.3 MeV>,\n",
       " <Particle: name=\"Xi(c)(2815)~0\", pdgid=-104312, mass=2820.3 ± 0.3 MeV>,\n",
       " <Particle: name=\"Xi(c)(2790)0\", pdgid=104314, mass=2794.1 ± 0.5 MeV>,\n",
       " <Particle: name=\"Xi(c)(2790)~0\", pdgid=-104314, mass=2794.1 ± 0.5 MeV>,\n",
       " <Particle: name=\"Xi(c)(2815)+\", pdgid=104322, mass=2816.73 ± 0.21 MeV>,\n",
       " <Particle: name=\"Xi(c)(2815)~-\", pdgid=-104322, mass=2816.73 ± 0.21 MeV>,\n",
       " <Particle: name=\"Xi(c)(2790)+\", pdgid=104324, mass=2792.4 ± 0.5 MeV>,\n",
       " <Particle: name=\"Xi(c)(2790)~-\", pdgid=-104324, mass=2792.4 ± 0.5 MeV>,\n",
       " <Particle: name=\"chi(b0)(2P)\", pdgid=110551, mass=10232.5 + 0.4 - 0.5 MeV>,\n",
       " <Particle: name=\"chi(b1)(2P)\", pdgid=120553, mass=10255.46 + 0.20 - 0.50 MeV>,\n",
       " <Particle: name=\"Upsilon(3S)\", pdgid=200553, mass=10355.2 ± 0.5 MeV>,\n",
       " <Particle: name=\"Xi(1690)-\", pdgid=203312, mass=1690 ± 10 MeV>,\n",
       " <Particle: name=\"Xi(1690)~+\", pdgid=-203312, mass=1690 ± 10 MeV>,\n",
       " <Particle: name=\"Xi(2030)-\", pdgid=203316, mass=2025 ± 5 MeV>,\n",
       " <Particle: name=\"Xi(2030)~+\", pdgid=-203316, mass=2025 ± 5 MeV>,\n",
       " <Particle: name=\"Xi(1690)0\", pdgid=203322, mass=1690 ± 10 MeV>,\n",
       " <Particle: name=\"Xi(1690)~0\", pdgid=-203322, mass=1690 ± 10 MeV>,\n",
       " <Particle: name=\"Xi(2030)0\", pdgid=203326, mass=2025 ± 5 MeV>,\n",
       " <Particle: name=\"Xi(2030)~0\", pdgid=-203326, mass=2025 ± 5 MeV>,\n",
       " <Particle: name=\"Omega(2250)-\", pdgid=203338, mass=2252 ± 9 MeV>,\n",
       " <Particle: name=\"Omega(2250)~+\", pdgid=-203338, mass=2252 ± 9 MeV>,\n",
       " <Particle: name=\"Lambda(c)(2880)+\", pdgid=204126, mass=2881.63 ± 0.24 MeV>,\n",
       " <Particle: name=\"Lambda(c)(2880)~-\", pdgid=-204126, mass=2881.63 ± 0.24 MeV>,\n",
       " <Particle: name=\"Upsilon(4S)\", pdgid=300553, mass=10579.4 ± 1.2 MeV>,\n",
       " <Particle: name=\"omega(1420)\", pdgid=1000223, mass=1425 ± 25 MeV>,\n",
       " <Particle: name=\"a(0)(980)0\", pdgid=9000111, mass=980 ± 20 MeV>,\n",
       " <Particle: name=\"pi(1)(1400)0\", pdgid=9000113, mass=1354 ± 25 MeV>,\n",
       " <Particle: name=\"a(2)(1700)0\", pdgid=9000115, mass=1700 ± 40 MeV>,\n",
       " <Particle: name=\"a(0)(980)+\", pdgid=9000211, mass=980 ± 20 MeV>,\n",
       " <Particle: name=\"a(0)(980)-\", pdgid=-9000211, mass=980 ± 20 MeV>,\n",
       " <Particle: name=\"pi(1)(1400)+\", pdgid=9000213, mass=1354 ± 25 MeV>,\n",
       " <Particle: name=\"pi(1)(1400)-\", pdgid=-9000213, mass=1354 ± 25 MeV>,\n",
       " <Particle: name=\"a(2)(1700)+\", pdgid=9000215, mass=1700 ± 40 MeV>,\n",
       " <Particle: name=\"a(2)(1700)-\", pdgid=-9000215, mass=1700 ± 40 MeV>,\n",
       " <Particle: name=\"f(0)(500)\", pdgid=9000221, mass=475 ± 75 MeV>,\n",
       " <Particle: name=\"K(0)*(700)0\", pdgid=9000311, mass=824 ± 30 MeV>,\n",
       " <Particle: name=\"K(0)*(700)~0\", pdgid=-9000311, mass=824 ± 30 MeV>,\n",
       " <Particle: name=\"K(0)*(700)+\", pdgid=9000321, mass=824 ± 30 MeV>,\n",
       " <Particle: name=\"K(0)*(700)-\", pdgid=-9000321, mass=824 ± 30 MeV>,\n",
       " <Particle: name=\"psi(4040)\", pdgid=9000443, mass=4039.0 ± 1.0 MeV>,\n",
       " <Particle: name=\"Upsilon(10860)\", pdgid=9000553, mass=10890 + 3 - 3 MeV>,\n",
       " <Particle: name=\"pi(1800)0\", pdgid=9010111, mass=1810 + 9 - 11 MeV>,\n",
       " <Particle: name=\"pi(1)(1600)0\", pdgid=9010113, mass=1660 + 15 - 11 MeV>,\n",
       " <Particle: name=\"pi(1800)+\", pdgid=9010211, mass=1810 + 9 - 11 MeV>,\n",
       " <Particle: name=\"pi(1800)-\", pdgid=-9010211, mass=1810 + 9 - 11 MeV>,\n",
       " <Particle: name=\"pi(1)(1600)+\", pdgid=9010213, mass=1660 + 15 - 11 MeV>,\n",
       " <Particle: name=\"pi(1)(1600)-\", pdgid=-9010213, mass=1660 + 15 - 11 MeV>,\n",
       " <Particle: name=\"f(0)(980)\", pdgid=9010221, mass=990 ± 20 MeV>,\n",
       " <Particle: name=\"psi(4160)\", pdgid=9010443, mass=4191 ± 5 MeV>,\n",
       " <Particle: name=\"Upsilon(11020)\", pdgid=9010553, mass=10993 + 10 - 3 MeV>,\n",
       " <Particle: name=\"a(1)(1640)0\", pdgid=9020113, mass=1655 ± 16 MeV>,\n",
       " <Particle: name=\"a(1)(1640)+\", pdgid=9020213, mass=1655 ± 16 MeV>,\n",
       " <Particle: name=\"a(1)(1640)-\", pdgid=-9020213, mass=1655 ± 16 MeV>,\n",
       " <Particle: name=\"eta(1405)\", pdgid=9020221, mass=1408.8 ± 2.0 MeV>,\n",
       " <Particle: name=\"psi(4415)\", pdgid=9020443, mass=4421 ± 4 MeV>,\n",
       " <Particle: name=\"f(0)(1500)\", pdgid=9030221, mass=1506 ± 6 MeV>,\n",
       " <Particle: name=\"f(2)(1950)\", pdgid=9050225, mass=1936 ± 12 MeV>,\n",
       " <Particle: name=\"f(2)(2010)\", pdgid=9060225, mass=2010 + 60 - 80 MeV>,\n",
       " <Particle: name=\"f(2)(2300)\", pdgid=9080225, mass=2297 ± 28 MeV>,\n",
       " <Particle: name=\"f(2)(2340)\", pdgid=9090225, mass=2350 + 50 - 40 MeV>]"
      ]
     },
     "execution_count": 42,
     "metadata": {},
     "output_type": "execute_result"
    }
   ],
   "source": [
    "print('# of particles in loaded data table:', len(Particle.all()))\n",
    "Particle.all()"
   ]
  },
  {
   "cell_type": "markdown",
   "metadata": {
    "slideshow": {
     "slide_type": "subslide"
    }
   },
   "source": [
    "#### Particle properties\n",
    "\n",
    "You can do things to particles, like **invert** them:"
   ]
  },
  {
   "cell_type": "code",
   "execution_count": 43,
   "metadata": {},
   "outputs": [
    {
     "data": {
      "text/latex": [
       "$D_{2}^{*}(2460)^{+}$"
      ],
      "text/plain": [
       "<Particle: name=\"D(2)*(2460)+\", pdgid=415, mass=2465.4 ± 1.3 MeV>"
      ]
     },
     "execution_count": 43,
     "metadata": {},
     "output_type": "execute_result"
    }
   ],
   "source": [
    "~p"
   ]
  },
  {
   "cell_type": "markdown",
   "metadata": {
    "slideshow": {
     "slide_type": "subslide"
    }
   },
   "source": [
    "There are a plethora of properties you can access:"
   ]
  },
  {
   "cell_type": "code",
   "execution_count": 44,
   "metadata": {},
   "outputs": [
    {
     "data": {
      "text/plain": [
       "<SpinType.Tensor: 3>"
      ]
     },
     "execution_count": 44,
     "metadata": {},
     "output_type": "execute_result"
    }
   ],
   "source": [
    "p.spin_type"
   ]
  },
  {
   "cell_type": "markdown",
   "metadata": {
    "slideshow": {
     "slide_type": "subslide"
    }
   },
   "source": [
    "You can quickly access the PDGID of a particle:"
   ]
  },
  {
   "cell_type": "code",
   "execution_count": 45,
   "metadata": {},
   "outputs": [
    {
     "data": {
      "text/plain": [
       "<PDGID: -415>"
      ]
     },
     "execution_count": 45,
     "metadata": {},
     "output_type": "execute_result"
    }
   ],
   "source": [
    "p.pdgid"
   ]
  },
  {
   "cell_type": "code",
   "execution_count": 46,
   "metadata": {},
   "outputs": [
    {
     "data": {
      "text/plain": [
       "<PDGID: -415>"
      ]
     },
     "execution_count": 46,
     "metadata": {},
     "output_type": "execute_result"
    }
   ],
   "source": [
    "PDGID(p)"
   ]
  },
  {
   "cell_type": "markdown",
   "metadata": {
    "slideshow": {
     "slide_type": "slide"
    }
   },
   "source": [
    "### **4. Literals**\n",
    "\n",
    "They provide a <span style=\"color:green\">handy way to manipulate things with human-readable names!</span>\n",
    "\n",
    "Package defines <span style=\"color:green\">literals for most common particles</span>, with easily recognisable names.\n",
    "- Literals are dynamically generated on import for both `PDGID` and `Particle` classes."
   ]
  },
  {
   "cell_type": "markdown",
   "metadata": {
    "slideshow": {
     "slide_type": "subslide"
    }
   },
   "source": [
    "**PDGID literals**"
   ]
  },
  {
   "cell_type": "code",
   "execution_count": 47,
   "metadata": {},
   "outputs": [],
   "source": [
    "from particle.pdgid import literals as lid"
   ]
  },
  {
   "cell_type": "code",
   "execution_count": 48,
   "metadata": {},
   "outputs": [
    {
     "data": {
      "text/plain": [
       "<PDGID: 333>"
      ]
     },
     "execution_count": 48,
     "metadata": {},
     "output_type": "execute_result"
    }
   ],
   "source": [
    "lid.phi_1020"
   ]
  },
  {
   "cell_type": "markdown",
   "metadata": {
    "slideshow": {
     "slide_type": "subslide"
    }
   },
   "source": [
    "**Particle literals**"
   ]
  },
  {
   "cell_type": "code",
   "execution_count": 49,
   "metadata": {},
   "outputs": [],
   "source": [
    "from particle.particle import literals as lpart"
   ]
  },
  {
   "cell_type": "code",
   "execution_count": 50,
   "metadata": {},
   "outputs": [
    {
     "data": {
      "text/latex": [
       "$\\phi(1020)$"
      ],
      "text/plain": [
       "<Particle: name=\"phi(1020)\", pdgid=333, mass=1019.461 ± 0.016 MeV>"
      ]
     },
     "execution_count": 50,
     "metadata": {},
     "output_type": "execute_result"
    }
   ],
   "source": [
    "lpart.phi_1020"
   ]
  },
  {
   "cell_type": "markdown",
   "metadata": {
    "slideshow": {
     "slide_type": "slide"
    }
   },
   "source": [
    "### **5. Data files, stored in `particle/data/`**\n",
    "\n",
    "- <b>PDG particle data files</b>\n",
    "  - Original PDG data files, which are in a fixed-width format\n",
    "  - Code uses “digested forms” of these, stored as CSV, for optimised querying\n",
    "  - Latest PDG data (2019) used by default\n",
    "  - Advanced usage: user can load older PDG table, load a “user table” with new particles, append to default table\n",
    "\n",
    "- <b>Other data files</b>\n",
    "  - CSV file for mapping of PDG IDs to particle LaTeX names"
   ]
  },
  {
   "cell_type": "markdown",
   "metadata": {
    "slideshow": {
     "slide_type": "subslide"
    }
   },
   "source": [
    "#### Dump table contents\n",
    "\n",
    "The `Particle.dump_table(...)` method is rather flexible.\n",
    "\n",
    "(No need to dig into the package installation directory to inspect the particle data table ;-).)"
   ]
  },
  {
   "cell_type": "code",
   "execution_count": 51,
   "metadata": {},
   "outputs": [
    {
     "name": "stdout",
     "output_type": "stream",
     "text": [
      "Help on method dump_table in module particle.particle.particle:\n",
      "\n",
      "dump_table(exclusive_fields=[], exclude_fields=[], n_rows=-1, filter_fn=None, filename=None, tablefmt='simple', floatfmt='.12g', numalign='decimal') method of builtins.type instance\n",
      "    Dump the internal particle data CSV table,\n",
      "    loading it from the default location if no table has yet been loaded.\n",
      "    \n",
      "    The table attributes are those of the class. By default all attributes\n",
      "    are used as table fields. Their complete list is:\n",
      "        pdgid\n",
      "        pdg_name\n",
      "        mass\n",
      "        mass_upper\n",
      "        mass_lower\n",
      "        width\n",
      "        width_upper\n",
      "        width_lower\n",
      "        three_charge\n",
      "        I\n",
      "        G\n",
      "        P\n",
      "        C\n",
      "        anti_flag\n",
      "        rank\n",
      "        status\n",
      "        quarks\n",
      "        latex_name\n",
      "    \n",
      "    Optionally dump to a file.\n",
      "    \n",
      "    Parameters\n",
      "    ----------\n",
      "    exclusive_fields: list, optional, default is []\n",
      "        Exclusive list of fields to print out.\n",
      "    exclude_fields: list, optional, default is []\n",
      "        List of table fields to exclude in the printout.\n",
      "        Relevant only when exclusive_fields is not given.\n",
      "    n_rows: int, optional, defaults to all rows\n",
      "        Number of table rows to print out.\n",
      "    filter_fn: function, optional, default is None\n",
      "        Apply a filter to each particle.\n",
      "        See findall(...) for typical use cases.\n",
      "    filename: str, optional, default is None\n",
      "        Name of file where to dump the table.\n",
      "        By default the table is dumped to stdout.\n",
      "    tablefmt: str, optional, default is 'simple'\n",
      "        Table formatting option, see the tabulate's package\n",
      "        tabulate function for a description of available options.\n",
      "        The most common options are:\n",
      "        'plain', 'simple', 'grid', 'rst', 'html', 'latex'.\n",
      "    floatfmt: str, optional, default is '.12g'\n",
      "        Number formatting, see the tabulate's package\n",
      "        tabulate function for a description of available options.\n",
      "    numalign: str or None, oprional, default is 'decimal'\n",
      "        Column alignment for numbers, see the tabulate's package\n",
      "        tabulate function for a description of available options.\n",
      "    \n",
      "    Returns\n",
      "    -------\n",
      "    str or None if filename is None or not, respectively.\n",
      "    \n",
      "    Note\n",
      "    ----\n",
      "    Uses the `tabulate` package.\n",
      "    \n",
      "    Examples\n",
      "    --------\n",
      "    print(Particle.dump_table())\n",
      "    print(Particle.dump_table(n_rows=5))\n",
      "    print(Particle.dump_table(exclusive_fields=['pdgid', 'pdg_name']))\n",
      "    print(Particle.dump_table(filter_fn=lambda p: p.pdgid.has_bottom))\n",
      "    Particle.dump_table(filename='output.txt', tablefmt='rst')\n",
      "\n"
     ]
    }
   ],
   "source": [
    "help(Particle.dump_table)"
   ]
  },
  {
   "cell_type": "code",
   "execution_count": 52,
   "metadata": {
    "slideshow": {
     "slide_type": "subslide"
    }
   },
   "outputs": [
    {
     "name": "stdout",
     "output_type": "stream",
     "text": [
      "  pdgid  pdg_name       mass    mass_upper    mass_lower    three_charge\n",
      "-------  ----------  -------  ------------  ------------  --------------\n",
      "      1  d              4.67           0.5           0.2              -1\n",
      "     -1  d              4.67           0.5           0.2               1\n",
      "      2  u              2.16           0.5           0.3               2\n",
      "     -2  u              2.16           0.5           0.3              -2\n",
      "      3  s             93             11             5                -1\n",
      "     -3  s             93             11             5                 1\n",
      "      4  c           1270             20            20                 2\n",
      "     -4  c           1270             20            20                -2\n",
      "      5  b           4180             30            20                -1\n",
      "     -5  b           4180             30            20                 1\n"
     ]
    }
   ],
   "source": [
    "fields = ['pdgid', 'pdg_name', 'mass', 'mass_upper', 'mass_lower', 'three_charge']\n",
    "    \n",
    "print(Particle.dump_table(exclusive_fields=fields, n_rows=10))"
   ]
  },
  {
   "cell_type": "markdown",
   "metadata": {
    "slideshow": {
     "slide_type": "subslide"
    }
   },
   "source": [
    "Table with all pseudoscalar charm hadrons, in _reStructuredText_ format:"
   ]
  },
  {
   "cell_type": "code",
   "execution_count": 53,
   "metadata": {},
   "outputs": [
    {
     "name": "stdout",
     "output_type": "stream",
     "text": [
      "=======  ==========  =============  =======  ============  ============  ==============\n",
      "  pdgid  name        evtgen_name       mass    mass_upper    mass_lower    three_charge\n",
      "=======  ==========  =============  =======  ============  ============  ==============\n",
      "    411  D+          D+             1869.65          0.05          0.05               3\n",
      "   -411  D-          D-             1869.65          0.05          0.05              -3\n",
      "    421  D0          D0             1864.83          0.05          0.05               0\n",
      "   -421  D~0         anti-D0        1864.83          0.05          0.05               0\n",
      "    431  D(s)+       D_s+           1968.34          0.07          0.07               3\n",
      "   -431  D(s)-       D_s-           1968.34          0.07          0.07              -3\n",
      "    441  eta(c)(1S)  eta_c          2983.9           0.5           0.5                0\n",
      "    541  B(c)+       B_c+           6274.9           0.8           0.8                3\n",
      "   -541  B(c)-       B_c-           6274.9           0.8           0.8               -3\n",
      " 100441  eta(c)(2S)  eta_c(2S)      3637.5           1.1           1.1                0\n",
      "=======  ==========  =============  =======  ============  ============  ==============\n"
     ]
    }
   ],
   "source": [
    "fields = ['pdgid', 'name', 'evtgen_name', 'mass', 'mass_upper', 'mass_lower', 'three_charge']\n",
    "\n",
    "print(Particle.dump_table(filter_fn=lambda p: p.pdgid.is_meson and p.pdgid.has_charm and p.spin_type==SpinType.PseudoScalar,\n",
    "                          exclusive_fields=fields, tablefmt='rst'))"
   ]
  },
  {
   "cell_type": "markdown",
   "metadata": {},
   "source": [
    "Notebook-friendly HTML is just as easy:"
   ]
  },
  {
   "cell_type": "code",
   "execution_count": 54,
   "metadata": {},
   "outputs": [
    {
     "data": {
      "text/html": [
       "<table>\n",
       "<thead>\n",
       "<tr><th style=\"text-align: right;\">  pdgid</th><th>pdg_name  </th><th>html_name                </th></tr>\n",
       "</thead>\n",
       "<tbody>\n",
       "<tr><td style=\"text-align: right;\">    411</td><td>D         </td><td>D<SUP>+</SUP>            </td></tr>\n",
       "<tr><td style=\"text-align: right;\">   -411</td><td>D         </td><td>D<SUP>-</SUP>            </td></tr>\n",
       "<tr><td style=\"text-align: right;\">    421</td><td>D         </td><td>D<SUP>0</SUP>            </td></tr>\n",
       "<tr><td style=\"text-align: right;\">   -421</td><td>D         </td><td>D&#773;<SUP>0</SUP>      </td></tr>\n",
       "<tr><td style=\"text-align: right;\">    431</td><td>D(s)      </td><td>D<SUB>s</SUB><SUP>+</SUP></td></tr>\n",
       "<tr><td style=\"text-align: right;\">   -431</td><td>D(s)      </td><td>D<SUB>s</SUB><SUP>-</SUP></td></tr>\n",
       "<tr><td style=\"text-align: right;\">    441</td><td>eta(c)(1S)</td><td>&eta;<SUB>c</SUB>(1S)    </td></tr>\n",
       "<tr><td style=\"text-align: right;\">    541</td><td>B(c)      </td><td>B<SUB>c</SUB><SUP>+</SUP></td></tr>\n",
       "<tr><td style=\"text-align: right;\">   -541</td><td>B(c)      </td><td>B<SUB>c</SUB><SUP>-</SUP></td></tr>\n",
       "<tr><td style=\"text-align: right;\"> 100441</td><td>eta(c)(2S)</td><td>&eta;<SUB>c</SUB>(2S)    </td></tr>\n",
       "</tbody>\n",
       "</table>"
      ],
      "text/plain": [
       "<IPython.core.display.HTML object>"
      ]
     },
     "execution_count": 54,
     "metadata": {},
     "output_type": "execute_result"
    }
   ],
   "source": [
    "from IPython.display import HTML\n",
    "\n",
    "HTML(Particle.dump_table(filter_fn=lambda p: p.pdgid.is_meson and p.pdgid.has_charm and p.spin_type==SpinType.PseudoScalar,\n",
    "                         exclusive_fields=['pdgid', 'pdg_name', 'html_name'], tablefmt='html'))"
   ]
  },
  {
   "cell_type": "markdown",
   "metadata": {
    "slideshow": {
     "slide_type": "slide"
    }
   },
   "source": [
    "### **6. Advanced usage**\n",
    "\n",
    "You can:\n",
    "\n",
    "* Extend or replace the default particle data table in `Particle`.\n",
    "* Adjust properties for a particle.\n",
    "* Make custom particles."
   ]
  },
  {
   "cell_type": "markdown",
   "metadata": {},
   "source": [
    "<center>\n",
    "    <img src=\"images/logo_DecayLanguage.png\" alt=\"DecayLanguage package logo\" style=\"width: 200px;\"/>\n",
    "    <h2><b><span style=\"color:green\">Decay files, universal description of decay chains</span></b></h2>\n",
    "</center>\n",
    "\n",
    "`DecayLanguage` is designed for the manipulation of decay structures in Python. The current package has:\n",
    "\n",
    "- Decay file parsers:\n",
    "  - Read DecFiles, such as the LHCb master DecFile\n",
    "  - Manipulate adn visualize them in Python\n",
    "- Amplitude Analysis decay language:\n",
    "  - Input based on AmpGen generator, output format for GooFit C++"
   ]
  },
  {
   "cell_type": "markdown",
   "metadata": {
    "slideshow": {
     "slide_type": "slide"
    }
   },
   "source": [
    "### Package motivation\n",
    "\n",
    "- Ability to describe decay-tree-like structures\n",
    "- Provide a translation of decay amplitude models from AmpGen to GooFit\n",
    "  - Idea is to generalise this to other decay descriptions\n",
    "- Any experiment uses event generators which, among many things, need to describe particle decay chains\n",
    "- Programs such as EvtGen rely on so-called .dec decay files\n",
    "- Many experiments need decay data files\n",
    "- Why not make a Python package to deal with decay files, for everyone?"
   ]
  },
  {
   "cell_type": "markdown",
   "metadata": {
    "slideshow": {
     "slide_type": "slide"
    }
   },
   "source": [
    "### Package, in short\n",
    "\n",
    "- Tools to parse decay files and programmatically manipulate them, query, display information.\n",
    "  - Descriptions and parsing built atop the [Lark parser](https://github.com/lark-parser/lark/).\n",
    "- Tools to translate decay amplitude models from AmpGen to GooFit, and manipulate them."
   ]
  },
  {
   "cell_type": "markdown",
   "metadata": {
    "slideshow": {
     "slide_type": "slide"
    }
   },
   "source": [
    "### **1. Decay files**\n",
    "\n",
    "#### *Master file” DECAY.DEC\n",
    "\n",
    "<span style=\"color:green\">Gigantic file defining decay modes for all relevant particles, including decay model specifications.</span>\n",
    "\n",
    "#### User .dec files\n",
    "- Needed to produce specific MC samples.\n",
    "- Typically contain a single decay chain (except if defining inclusive samples)."
   ]
  },
  {
   "cell_type": "markdown",
   "metadata": {
    "slideshow": {
     "slide_type": "subslide"
    }
   },
   "source": [
    "**Example user decay file:**\n",
    "\n",
    "<small>\n",
    "<pre>\n",
    "# Decay file for [B_c+ -> (B_s0 -> K+ K-) pi+]cc\n",
    "\n",
    "Alias      B_c+sig        B_c+\n",
    "Alias      B_c-sig        B_c-\n",
    "ChargeConj B_c+sig        B_c-sig\n",
    "Alias      MyB_s0         B_s0\n",
    "Alias      Myanti-B_s0    anti-B_s0\n",
    "ChargeConj MyB_s0         Myanti-B_s0\n",
    "\n",
    "Decay B_c+sig\n",
    "  1.000     MyB_s0     pi+     PHOTOS PHSP;\n",
    "Enddecay\n",
    "CDecay B_c-sig\n",
    "\n",
    "Decay MyB_s0\n",
    "    1.000     K+     K-     SSD_CP 20.e12 0.1 1.0 0.04 9.6 -0.8 8.4 -0.6;\n",
    "Enddecay\n",
    "CDecay Myanti-B_s0\n",
    "</pre>\n",
    "</small>"
   ]
  },
  {
   "cell_type": "markdown",
   "metadata": {
    "slideshow": {
     "slide_type": "slide"
    }
   },
   "source": [
    "### **2. Decay file parsing**\n",
    "\n",
    "- **Parsing should be simple**\n",
    "  - Expert users can configure parser choice and settings, etc. \n",
    "- **Parsing should be (reasonably) fast!**\n",
    "\n",
    "After parsing, many queries are possible!"
   ]
  },
  {
   "cell_type": "code",
   "execution_count": 55,
   "metadata": {
    "slideshow": {
     "slide_type": "subslide"
    }
   },
   "outputs": [],
   "source": [
    "from decaylanguage import DecFileParser"
   ]
  },
  {
   "cell_type": "markdown",
   "metadata": {},
   "source": [
    "#### The LHCb \"master decay file\"\n",
    "\n",
    "It's a big file! ~ 450 particle decays defined, thousands of decay modes, over 11k lines in total."
   ]
  },
  {
   "cell_type": "code",
   "execution_count": 56,
   "metadata": {},
   "outputs": [],
   "source": [
    "#dfp = DecFileParser('data/DECAY_LHCB.DEC')\n",
    "dfp = DecFileParser('data/DECAY_BELLE2.DEC')"
   ]
  },
  {
   "cell_type": "code",
   "execution_count": 57,
   "metadata": {},
   "outputs": [
    {
     "name": "stdout",
     "output_type": "stream",
     "text": [
      "CPU times: user 1.68 s, sys: 98.5 ms, total: 1.78 s\n",
      "Wall time: 1.88 s\n"
     ]
    }
   ],
   "source": [
    "%%time\n",
    "dfp.parse()"
   ]
  },
  {
   "cell_type": "code",
   "execution_count": 58,
   "metadata": {},
   "outputs": [
    {
     "data": {
      "text/plain": [
       "<DecFileParser: decfile(s)=['data/DECAY_BELLE2.DEC'], n_decays=356>"
      ]
     },
     "execution_count": 58,
     "metadata": {},
     "output_type": "execute_result"
    }
   ],
   "source": [
    "dfp"
   ]
  },
  {
   "cell_type": "markdown",
   "metadata": {
    "slideshow": {
     "slide_type": "subslide"
    }
   },
   "source": [
    "Let's parse and play with a small decay file:"
   ]
  },
  {
   "cell_type": "code",
   "execution_count": 59,
   "metadata": {},
   "outputs": [
    {
     "name": "stdout",
     "output_type": "stream",
     "text": [
      "# Example decay chain for testing purposes\n",
      "# Considered by itself, this file in in fact incomplete,\n",
      "# as there are no instructions on how to decay the anti-D0 and the D-!\n",
      "\n",
      "Decay D*+\n",
      "0.6770    D0  pi+                    VSS;\n",
      "0.3070    D+  pi0                    VSS;\n",
      "0.0160    D+  gamma                  VSP_PWAVE;\n",
      "Enddecay\n",
      "\n",
      "Decay D*-\n",
      "0.6770    anti-D0  pi-                VSS;\n",
      "0.3070    D-       pi0                VSS;\n",
      "0.0160    D-       gamma              VSP_PWAVE;\n",
      "Enddecay\n",
      "\n",
      "Decay D0\n",
      "1.0   K-      pi+                  PHSP;\n",
      "Enddecay\n",
      "\n",
      "Decay D+\n",
      "1.0   K-   pi+   pi+   pi0    PHSP;\n",
      "Enddecay\n",
      "\n",
      "Decay pi0\n",
      "0.988228297   gamma   gamma                   PHSP;\n",
      "0.011738247   e+      e-      gamma           PI0_DALITZ;\n",
      "0.000033392   e+      e+      e-      e-      PHSP;\n",
      "0.000000065   e+      e-                      PHSP;\n",
      "Enddecay\n",
      "\n"
     ]
    }
   ],
   "source": [
    "with open('data/Dst.dec') as f:\n",
    "    print(f.read())"
   ]
  },
  {
   "cell_type": "code",
   "execution_count": 60,
   "metadata": {
    "slideshow": {
     "slide_type": "subslide"
    }
   },
   "outputs": [
    {
     "data": {
      "text/plain": [
       "<DecFileParser: decfile(s)=['data/Dst.dec']>"
      ]
     },
     "execution_count": 60,
     "metadata": {},
     "output_type": "execute_result"
    }
   ],
   "source": [
    "dfp_Dst = DecFileParser('data/Dst.dec')\n",
    "dfp_Dst"
   ]
  },
  {
   "cell_type": "code",
   "execution_count": 61,
   "metadata": {},
   "outputs": [
    {
     "data": {
      "text/plain": [
       "<DecFileParser: decfile(s)=['data/Dst.dec'], n_decays=5>"
      ]
     },
     "execution_count": 61,
     "metadata": {},
     "output_type": "execute_result"
    }
   ],
   "source": [
    "dfp_Dst.parse()\n",
    "dfp_Dst"
   ]
  },
  {
   "cell_type": "markdown",
   "metadata": {
    "slideshow": {
     "slide_type": "subslide"
    }
   },
   "source": [
    "It can be handy to **parse from a multi-line string** rather than a file:"
   ]
  },
  {
   "cell_type": "code",
   "execution_count": 62,
   "metadata": {},
   "outputs": [],
   "source": [
    "s = \"\"\"\n",
    "# Decay file for [B_c+ -> (B_s0 -> K+ K-) pi+]cc\n",
    "\n",
    "Alias      B_c+sig        B_c+\n",
    "Alias      B_c-sig        B_c-\n",
    "ChargeConj B_c+sig        B_c-sig\n",
    "Alias      MyB_s0         B_s0\n",
    "Alias      Myanti-B_s0    anti-B_s0\n",
    "ChargeConj MyB_s0         Myanti-B_s0\n",
    "\n",
    "Decay B_c+sig\n",
    "  1.000     MyB_s0     pi+     PHOTOS PHSP;\n",
    "Enddecay\n",
    "CDecay B_c-sig\n",
    "\n",
    "Decay MyB_s0\n",
    "    1.000     K+     K-     SSD_CP 20.e12 0.1 1.0 0.04 9.6 -0.8 8.4 -0.6;\n",
    "Enddecay\n",
    "CDecay Myanti-B_s0\n",
    "\"\"\""
   ]
  },
  {
   "cell_type": "code",
   "execution_count": 63,
   "metadata": {
    "slideshow": {
     "slide_type": "subslide"
    }
   },
   "outputs": [
    {
     "data": {
      "text/plain": [
       "<DecFileParser: decfile(s)=<dec file input as a string>, n_decays=4>"
      ]
     },
     "execution_count": 63,
     "metadata": {},
     "output_type": "execute_result"
    }
   ],
   "source": [
    "dfp = DecFileParser.from_string(s)\n",
    "dfp.parse()\n",
    "dfp"
   ]
  },
  {
   "cell_type": "markdown",
   "metadata": {
    "slideshow": {
     "slide_type": "subslide"
    }
   },
   "source": [
    "#### Decay file information"
   ]
  },
  {
   "cell_type": "code",
   "execution_count": 64,
   "metadata": {},
   "outputs": [
    {
     "name": "stdout",
     "output_type": "stream",
     "text": [
      "       0.677 : D0  pi+                                                        VSS \n",
      "       0.307 : D+  pi0                                                        VSS \n",
      "       0.016 : D+  gamma                                                VSP_PWAVE \n"
     ]
    }
   ],
   "source": [
    "dfp_Dst.print_decay_modes('D*+')"
   ]
  },
  {
   "cell_type": "code",
   "execution_count": 65,
   "metadata": {},
   "outputs": [
    {
     "data": {
      "text/plain": [
       "['D*+', 'D*-', 'D0', 'D+', 'pi0']"
      ]
     },
     "execution_count": 65,
     "metadata": {},
     "output_type": "execute_result"
    }
   ],
   "source": [
    "dfp_Dst.list_decay_mother_names()"
   ]
  },
  {
   "cell_type": "code",
   "execution_count": 66,
   "metadata": {},
   "outputs": [
    {
     "data": {
      "text/plain": [
       "[['D0', 'pi+'], ['D+', 'pi0'], ['D+', 'gamma']]"
      ]
     },
     "execution_count": 66,
     "metadata": {},
     "output_type": "execute_result"
    }
   ],
   "source": [
    "dfp_Dst.list_decay_modes('D*+')"
   ]
  },
  {
   "cell_type": "markdown",
   "metadata": {
    "slideshow": {
     "slide_type": "subslide"
    }
   },
   "source": [
    "#### Info such as particle aliases"
   ]
  },
  {
   "cell_type": "code",
   "execution_count": 67,
   "metadata": {},
   "outputs": [
    {
     "data": {
      "text/plain": [
       "{'B_c+sig': 'B_c+',\n",
       " 'B_c-sig': 'B_c-',\n",
       " 'MyB_s0': 'B_s0',\n",
       " 'Myanti-B_s0': 'anti-B_s0'}"
      ]
     },
     "execution_count": 67,
     "metadata": {},
     "output_type": "execute_result"
    }
   ],
   "source": [
    "dfp.dict_aliases()"
   ]
  },
  {
   "cell_type": "code",
   "execution_count": 68,
   "metadata": {},
   "outputs": [
    {
     "data": {
      "text/plain": [
       "{'B_c+sig': 'B_c-sig', 'MyB_s0': 'Myanti-B_s0'}"
      ]
     },
     "execution_count": 68,
     "metadata": {},
     "output_type": "execute_result"
    }
   ],
   "source": [
    "dfp.dict_charge_conjugates()"
   ]
  },
  {
   "cell_type": "markdown",
   "metadata": {
    "slideshow": {
     "slide_type": "slide"
    }
   },
   "source": [
    "### **3.  Display of decay chains**\n",
    "\n",
    "The parser can provide a simple `dict` representation of any decay chain found in the input decay file(s). Being generic and simple, that is what is used as input information for the viewer class."
   ]
  },
  {
   "cell_type": "code",
   "execution_count": 69,
   "metadata": {},
   "outputs": [
    {
     "data": {
      "text/plain": [
       "{'D+': [{'bf': 1.0,\n",
       "   'fs': ['K-',\n",
       "    'pi+',\n",
       "    'pi+',\n",
       "    {'pi0': [{'bf': 0.988228297,\n",
       "       'fs': ['gamma', 'gamma'],\n",
       "       'model': 'PHSP',\n",
       "       'model_params': ''},\n",
       "      {'bf': 0.011738247,\n",
       "       'fs': ['e+', 'e-', 'gamma'],\n",
       "       'model': 'PI0_DALITZ',\n",
       "       'model_params': ''},\n",
       "      {'bf': 3.3392e-05,\n",
       "       'fs': ['e+', 'e+', 'e-', 'e-'],\n",
       "       'model': 'PHSP',\n",
       "       'model_params': ''},\n",
       "      {'bf': 6.5e-08,\n",
       "       'fs': ['e+', 'e-'],\n",
       "       'model': 'PHSP',\n",
       "       'model_params': ''}]}],\n",
       "   'model': 'PHSP',\n",
       "   'model_params': ''}]}"
      ]
     },
     "execution_count": 69,
     "metadata": {},
     "output_type": "execute_result"
    }
   ],
   "source": [
    "dc = dfp_Dst.build_decay_chains('D+')\n",
    "dc"
   ]
  },
  {
   "cell_type": "code",
   "execution_count": 70,
   "metadata": {
    "slideshow": {
     "slide_type": "subslide"
    }
   },
   "outputs": [],
   "source": [
    "from decaylanguage import DecayChainViewer"
   ]
  },
  {
   "cell_type": "code",
   "execution_count": 71,
   "metadata": {
    "slideshow": {
     "slide_type": "-"
    }
   },
   "outputs": [
    {
     "data": {
      "image/svg+xml": [
       "<?xml version=\"1.0\" encoding=\"UTF-8\" standalone=\"no\"?>\n",
       "<!DOCTYPE svg PUBLIC \"-//W3C//DTD SVG 1.1//EN\"\n",
       " \"http://www.w3.org/Graphics/SVG/1.1/DTD/svg11.dtd\">\n",
       "<!-- Generated by graphviz version 2.42.3 (20191010.1750)\n",
       " -->\n",
       "<!-- Title: DecayChainGraph Pages: 1 -->\n",
       "<svg width=\"375pt\" height=\"206pt\"\n",
       " viewBox=\"0.00 0.00 375.33 206.00\" xmlns=\"http://www.w3.org/2000/svg\" xmlns:xlink=\"http://www.w3.org/1999/xlink\">\n",
       "<g id=\"graph0\" class=\"graph\" transform=\"scale(1 1) rotate(0) translate(4 202)\">\n",
       "<title>DecayChainGraph</title>\n",
       "<polygon fill=\"white\" stroke=\"transparent\" points=\"-4,4 -4,-202 371.33,-202 371.33,4 -4,4\"/>\n",
       "<!-- mother -->\n",
       "<g id=\"node1\" class=\"node\">\n",
       "<title>mother</title>\n",
       "<polygon fill=\"#568dba\" stroke=\"transparent\" points=\"13.5,-123 13.5,-147 40.5,-147 40.5,-123 13.5,-123\"/>\n",
       "<polygon fill=\"none\" stroke=\"black\" points=\"14,-123 14,-147 41,-147 41,-123 14,-123\"/>\n",
       "<text text-anchor=\"start\" x=\"20\" y=\"-133.2\" font-family=\"Helvetica,sans-Serif\" font-size=\"11.00\">D</text>\n",
       "<text text-anchor=\"start\" x=\"29\" y=\"-133.2\" font-family=\"Helvetica,sans-Serif\" baseline-shift=\"super\" font-size=\"11.00\">+</text>\n",
       "</g>\n",
       "<!-- dec0 -->\n",
       "<g id=\"node2\" class=\"node\">\n",
       "<title>dec0</title>\n",
       "<polygon fill=\"#9abad6\" stroke=\"transparent\" points=\"120.5,-87 120.5,-183 145.5,-183 145.5,-87 120.5,-87\"/>\n",
       "<polygon fill=\"none\" stroke=\"black\" points=\"121,-159 121,-183 146,-183 146,-159 121,-159\"/>\n",
       "<text text-anchor=\"start\" x=\"127.5\" y=\"-169.2\" font-family=\"Helvetica,sans-Serif\" font-size=\"11.00\">K</text>\n",
       "<text text-anchor=\"start\" x=\"135.5\" y=\"-169.2\" font-family=\"Helvetica,sans-Serif\" baseline-shift=\"super\" font-size=\"11.00\">&#45;</text>\n",
       "<polygon fill=\"none\" stroke=\"black\" points=\"121,-135 121,-159 146,-159 146,-135 121,-135\"/>\n",
       "<text text-anchor=\"start\" x=\"127\" y=\"-145.2\" font-family=\"Helvetica,sans-Serif\" font-size=\"11.00\">π</text>\n",
       "<text text-anchor=\"start\" x=\"134\" y=\"-145.2\" font-family=\"Helvetica,sans-Serif\" baseline-shift=\"super\" font-size=\"11.00\">+</text>\n",
       "<polygon fill=\"none\" stroke=\"black\" points=\"121,-111 121,-135 146,-135 146,-111 121,-111\"/>\n",
       "<text text-anchor=\"start\" x=\"127\" y=\"-121.2\" font-family=\"Helvetica,sans-Serif\" font-size=\"11.00\">π</text>\n",
       "<text text-anchor=\"start\" x=\"134\" y=\"-121.2\" font-family=\"Helvetica,sans-Serif\" baseline-shift=\"super\" font-size=\"11.00\">+</text>\n",
       "<polygon fill=\"none\" stroke=\"black\" points=\"121,-87 121,-111 146,-111 146,-87 121,-87\"/>\n",
       "<text text-anchor=\"start\" x=\"127\" y=\"-97.2\" font-family=\"Helvetica,sans-Serif\" font-size=\"11.00\">π</text>\n",
       "<text text-anchor=\"start\" x=\"134\" y=\"-97.2\" font-family=\"Helvetica,sans-Serif\" baseline-shift=\"super\" font-size=\"11.00\">0</text>\n",
       "</g>\n",
       "<!-- mother&#45;&gt;dec0 -->\n",
       "<g id=\"edge1\" class=\"edge\">\n",
       "<title>mother&#45;&gt;dec0</title>\n",
       "<path fill=\"none\" stroke=\"black\" d=\"M54.24,-135C66.81,-135 82.05,-135 95.71,-135\"/>\n",
       "<polygon fill=\"black\" stroke=\"black\" points=\"95.76,-138.5 105.76,-135 95.76,-131.5 95.76,-138.5\"/>\n",
       "<text text-anchor=\"middle\" x=\"80\" y=\"-138.2\" font-family=\"Times,serif\" font-size=\"11.00\" fill=\"#4c4c4c\">1.0</text>\n",
       "</g>\n",
       "<!-- dec1 -->\n",
       "<g id=\"node3\" class=\"node\">\n",
       "<title>dec1</title>\n",
       "<ellipse fill=\"#eef3f8\" stroke=\"black\" cx=\"313.67\" cy=\"-180\" rx=\"27\" ry=\"18\"/>\n",
       "<polygon fill=\"#eef3f8\" stroke=\"transparent\" points=\"302.67,-172 302.67,-188 324.67,-188 324.67,-172 302.67,-172\"/>\n",
       "<text text-anchor=\"start\" x=\"304.67\" y=\"-177.2\" font-family=\"Helvetica,sans-Serif\" font-size=\"11.00\">γ</text>\n",
       "<text text-anchor=\"start\" x=\"315.67\" y=\"-177.2\" font-family=\"Helvetica,sans-Serif\" font-size=\"11.00\">γ</text>\n",
       "</g>\n",
       "<!-- dec0&#45;&gt;dec1 -->\n",
       "<g id=\"edge2\" class=\"edge\">\n",
       "<title>dec0:p3&#45;&gt;dec1</title>\n",
       "<path fill=\"none\" stroke=\"black\" d=\"M147,-99C164.98,-99 162.6,-115.71 178,-125 210.35,-144.52 250.89,-160.01 278.99,-169.51\"/>\n",
       "<polygon fill=\"black\" stroke=\"black\" points=\"278.15,-172.92 288.75,-172.74 280.35,-166.28 278.15,-172.92\"/>\n",
       "<text text-anchor=\"middle\" x=\"210\" y=\"-157.2\" font-family=\"Times,serif\" font-size=\"11.00\" fill=\"#4c4c4c\">0.988228297</text>\n",
       "</g>\n",
       "<!-- dec2 -->\n",
       "<g id=\"node4\" class=\"node\">\n",
       "<title>dec2</title>\n",
       "<ellipse fill=\"#eef3f8\" stroke=\"black\" cx=\"313.67\" cy=\"-126\" rx=\"39.66\" ry=\"18\"/>\n",
       "<polygon fill=\"#eef3f8\" stroke=\"transparent\" points=\"292.17,-118 292.17,-134 335.17,-134 335.17,-118 292.17,-118\"/>\n",
       "<text text-anchor=\"start\" x=\"294.67\" y=\"-124.2\" font-family=\"Helvetica,sans-Serif\" font-size=\"11.00\">e</text>\n",
       "<text text-anchor=\"start\" x=\"301.67\" y=\"-124.2\" font-family=\"Helvetica,sans-Serif\" baseline-shift=\"super\" font-size=\"11.00\">+</text>\n",
       "<text text-anchor=\"start\" x=\"311.67\" y=\"-124.2\" font-family=\"Helvetica,sans-Serif\" font-size=\"11.00\">e</text>\n",
       "<text text-anchor=\"start\" x=\"318.67\" y=\"-124.2\" font-family=\"Helvetica,sans-Serif\" baseline-shift=\"super\" font-size=\"11.00\">&#45;</text>\n",
       "<text text-anchor=\"start\" x=\"326.67\" y=\"-123.2\" font-family=\"Helvetica,sans-Serif\" font-size=\"11.00\">γ</text>\n",
       "</g>\n",
       "<!-- dec0&#45;&gt;dec2 -->\n",
       "<g id=\"edge3\" class=\"edge\">\n",
       "<title>dec0:p3&#45;&gt;dec2</title>\n",
       "<path fill=\"none\" stroke=\"black\" d=\"M147,-99C188.86,-99 235.9,-107.5 269.13,-114.96\"/>\n",
       "<polygon fill=\"black\" stroke=\"black\" points=\"268.45,-118.4 278.98,-117.23 270.02,-111.58 268.45,-118.4\"/>\n",
       "<text text-anchor=\"middle\" x=\"210\" y=\"-112.2\" font-family=\"Times,serif\" font-size=\"11.00\" fill=\"#4c4c4c\">0.011738247</text>\n",
       "</g>\n",
       "<!-- dec3 -->\n",
       "<g id=\"node5\" class=\"node\">\n",
       "<title>dec3</title>\n",
       "<ellipse fill=\"#eef3f8\" stroke=\"black\" cx=\"313.67\" cy=\"-72\" rx=\"53.83\" ry=\"18\"/>\n",
       "<polygon fill=\"#eef3f8\" stroke=\"transparent\" points=\"281.67,-64 281.67,-80 345.67,-80 345.67,-64 281.67,-64\"/>\n",
       "<text text-anchor=\"start\" x=\"283.67\" y=\"-70.2\" font-family=\"Helvetica,sans-Serif\" font-size=\"11.00\">e</text>\n",
       "<text text-anchor=\"start\" x=\"290.67\" y=\"-70.2\" font-family=\"Helvetica,sans-Serif\" baseline-shift=\"super\" font-size=\"11.00\">+</text>\n",
       "<text text-anchor=\"start\" x=\"300.67\" y=\"-70.2\" font-family=\"Helvetica,sans-Serif\" font-size=\"11.00\">e</text>\n",
       "<text text-anchor=\"start\" x=\"307.67\" y=\"-70.2\" font-family=\"Helvetica,sans-Serif\" baseline-shift=\"super\" font-size=\"11.00\">+</text>\n",
       "<text text-anchor=\"start\" x=\"317.67\" y=\"-70.2\" font-family=\"Helvetica,sans-Serif\" font-size=\"11.00\">e</text>\n",
       "<text text-anchor=\"start\" x=\"324.67\" y=\"-70.2\" font-family=\"Helvetica,sans-Serif\" baseline-shift=\"super\" font-size=\"11.00\">&#45;</text>\n",
       "<text text-anchor=\"start\" x=\"332.67\" y=\"-70.2\" font-family=\"Helvetica,sans-Serif\" font-size=\"11.00\">e</text>\n",
       "<text text-anchor=\"start\" x=\"339.67\" y=\"-70.2\" font-family=\"Helvetica,sans-Serif\" baseline-shift=\"super\" font-size=\"11.00\">&#45;</text>\n",
       "</g>\n",
       "<!-- dec0&#45;&gt;dec3 -->\n",
       "<g id=\"edge4\" class=\"edge\">\n",
       "<title>dec0:p3&#45;&gt;dec3</title>\n",
       "<path fill=\"none\" stroke=\"black\" d=\"M147,-99C162.31,-99 163.25,-88.08 178,-84 200.86,-77.68 226.64,-74.48 249.49,-72.92\"/>\n",
       "<polygon fill=\"black\" stroke=\"black\" points=\"249.99,-76.4 259.76,-72.31 249.57,-69.41 249.99,-76.4\"/>\n",
       "<text text-anchor=\"middle\" x=\"210\" y=\"-87.2\" font-family=\"Times,serif\" font-size=\"11.00\" fill=\"#4c4c4c\">3.3392e&#45;05</text>\n",
       "</g>\n",
       "<!-- dec4 -->\n",
       "<g id=\"node6\" class=\"node\">\n",
       "<title>dec4</title>\n",
       "<ellipse fill=\"#eef3f8\" stroke=\"black\" cx=\"313.67\" cy=\"-18\" rx=\"32.4\" ry=\"18\"/>\n",
       "<polygon fill=\"#eef3f8\" stroke=\"transparent\" points=\"297.67,-10 297.67,-26 329.67,-26 329.67,-10 297.67,-10\"/>\n",
       "<text text-anchor=\"start\" x=\"299.67\" y=\"-16.2\" font-family=\"Helvetica,sans-Serif\" font-size=\"11.00\">e</text>\n",
       "<text text-anchor=\"start\" x=\"306.67\" y=\"-16.2\" font-family=\"Helvetica,sans-Serif\" baseline-shift=\"super\" font-size=\"11.00\">+</text>\n",
       "<text text-anchor=\"start\" x=\"316.67\" y=\"-16.2\" font-family=\"Helvetica,sans-Serif\" font-size=\"11.00\">e</text>\n",
       "<text text-anchor=\"start\" x=\"323.67\" y=\"-16.2\" font-family=\"Helvetica,sans-Serif\" baseline-shift=\"super\" font-size=\"11.00\">&#45;</text>\n",
       "</g>\n",
       "<!-- dec0&#45;&gt;dec4 -->\n",
       "<g id=\"edge5\" class=\"edge\">\n",
       "<title>dec0:p3&#45;&gt;dec4</title>\n",
       "<path fill=\"none\" stroke=\"black\" d=\"M147,-99C170.2,-99 158.96,-70.26 178,-57 205.93,-37.55 243.52,-27.71 271.89,-22.79\"/>\n",
       "<polygon fill=\"black\" stroke=\"black\" points=\"272.57,-26.22 281.89,-21.19 271.46,-19.31 272.57,-26.22\"/>\n",
       "<text text-anchor=\"middle\" x=\"210\" y=\"-60.2\" font-family=\"Times,serif\" font-size=\"11.00\" fill=\"#4c4c4c\">6.5e&#45;08</text>\n",
       "</g>\n",
       "</g>\n",
       "</svg>\n"
      ],
      "text/plain": [
       "<decaylanguage.decay.viewer.DecayChainViewer at 0x7fe63ec99500>"
      ]
     },
     "execution_count": 71,
     "metadata": {},
     "output_type": "execute_result"
    }
   ],
   "source": [
    "DecayChainViewer(dc)"
   ]
  },
  {
   "cell_type": "code",
   "execution_count": 72,
   "metadata": {
    "slideshow": {
     "slide_type": "subslide"
    }
   },
   "outputs": [
    {
     "data": {
      "image/svg+xml": [
       "<?xml version=\"1.0\" encoding=\"UTF-8\" standalone=\"no\"?>\n",
       "<!DOCTYPE svg PUBLIC \"-//W3C//DTD SVG 1.1//EN\"\n",
       " \"http://www.w3.org/Graphics/SVG/1.1/DTD/svg11.dtd\">\n",
       "<!-- Generated by graphviz version 2.42.3 (20191010.1750)\n",
       " -->\n",
       "<!-- Title: DecayChainGraph Pages: 1 -->\n",
       "<svg width=\"620pt\" height=\"587pt\"\n",
       " viewBox=\"0.00 0.00 619.66 587.00\" xmlns=\"http://www.w3.org/2000/svg\" xmlns:xlink=\"http://www.w3.org/1999/xlink\">\n",
       "<g id=\"graph0\" class=\"graph\" transform=\"scale(1 1) rotate(0) translate(4 583)\">\n",
       "<title>DecayChainGraph</title>\n",
       "<polygon fill=\"white\" stroke=\"transparent\" points=\"-4,4 -4,-583 615.66,-583 615.66,4 -4,4\"/>\n",
       "<!-- mother -->\n",
       "<g id=\"node1\" class=\"node\">\n",
       "<title>mother</title>\n",
       "<polygon fill=\"#568dba\" stroke=\"transparent\" points=\"8,-331 8,-355 71,-355 71,-331 8,-331\"/>\n",
       "<polygon fill=\"none\" stroke=\"black\" points=\"8.5,-331 8.5,-355 71.5,-355 71.5,-331 8.5,-331\"/>\n",
       "<text text-anchor=\"start\" x=\"14.5\" y=\"-341.2\" font-family=\"Helvetica,sans-Serif\" font-size=\"11.00\">D</text>\n",
       "<text text-anchor=\"start\" x=\"23.5\" y=\"-341.2\" font-family=\"Helvetica,sans-Serif\" baseline-shift=\"super\" font-size=\"11.00\">*</text>\n",
       "<text text-anchor=\"start\" x=\"27.5\" y=\"-341.2\" font-family=\"Helvetica,sans-Serif\" font-size=\"11.00\">(2010)</text>\n",
       "<text text-anchor=\"start\" x=\"59.5\" y=\"-341.2\" font-family=\"Helvetica,sans-Serif\" baseline-shift=\"super\" font-size=\"11.00\">+</text>\n",
       "</g>\n",
       "<!-- dec5 -->\n",
       "<g id=\"node2\" class=\"node\">\n",
       "<title>dec5</title>\n",
       "<polygon fill=\"#9abad6\" stroke=\"transparent\" points=\"156.5,-459 156.5,-507 183.5,-507 183.5,-459 156.5,-459\"/>\n",
       "<polygon fill=\"none\" stroke=\"black\" points=\"157,-483 157,-507 184,-507 184,-483 157,-483\"/>\n",
       "<text text-anchor=\"start\" x=\"163\" y=\"-493.2\" font-family=\"Helvetica,sans-Serif\" font-size=\"11.00\">D</text>\n",
       "<text text-anchor=\"start\" x=\"172\" y=\"-493.2\" font-family=\"Helvetica,sans-Serif\" baseline-shift=\"super\" font-size=\"11.00\">0</text>\n",
       "<polygon fill=\"none\" stroke=\"black\" points=\"157,-459 157,-483 184,-483 184,-459 157,-459\"/>\n",
       "<text text-anchor=\"start\" x=\"164\" y=\"-469.2\" font-family=\"Helvetica,sans-Serif\" font-size=\"11.00\">π</text>\n",
       "<text text-anchor=\"start\" x=\"171\" y=\"-469.2\" font-family=\"Helvetica,sans-Serif\" baseline-shift=\"super\" font-size=\"11.00\">+</text>\n",
       "</g>\n",
       "<!-- mother&#45;&gt;dec5 -->\n",
       "<g id=\"edge1\" class=\"edge\">\n",
       "<title>mother&#45;&gt;dec5</title>\n",
       "<path fill=\"none\" stroke=\"black\" d=\"M57.04,-361.02C76.99,-382.75 111,-419.81 136.31,-447.39\"/>\n",
       "<polygon fill=\"black\" stroke=\"black\" points=\"133.86,-449.9 143.2,-454.9 139.02,-445.16 133.86,-449.9\"/>\n",
       "<text text-anchor=\"middle\" x=\"111\" y=\"-436.2\" font-family=\"Times,serif\" font-size=\"11.00\" fill=\"#4c4c4c\">0.677</text>\n",
       "</g>\n",
       "<!-- dec7 -->\n",
       "<g id=\"node4\" class=\"node\">\n",
       "<title>dec7</title>\n",
       "<polygon fill=\"#9abad6\" stroke=\"transparent\" points=\"156.5,-319 156.5,-367 183.5,-367 183.5,-319 156.5,-319\"/>\n",
       "<polygon fill=\"none\" stroke=\"black\" points=\"157,-343 157,-367 184,-367 184,-343 157,-343\"/>\n",
       "<text text-anchor=\"start\" x=\"163\" y=\"-353.2\" font-family=\"Helvetica,sans-Serif\" font-size=\"11.00\">D</text>\n",
       "<text text-anchor=\"start\" x=\"172\" y=\"-353.2\" font-family=\"Helvetica,sans-Serif\" baseline-shift=\"super\" font-size=\"11.00\">+</text>\n",
       "<polygon fill=\"none\" stroke=\"black\" points=\"157,-319 157,-343 184,-343 184,-319 157,-319\"/>\n",
       "<text text-anchor=\"start\" x=\"164\" y=\"-329.2\" font-family=\"Helvetica,sans-Serif\" font-size=\"11.00\">π</text>\n",
       "<text text-anchor=\"start\" x=\"171\" y=\"-329.2\" font-family=\"Helvetica,sans-Serif\" baseline-shift=\"super\" font-size=\"11.00\">0</text>\n",
       "</g>\n",
       "<!-- mother&#45;&gt;dec7 -->\n",
       "<g id=\"edge3\" class=\"edge\">\n",
       "<title>mother&#45;&gt;dec7</title>\n",
       "<path fill=\"none\" stroke=\"black\" d=\"M79.05,-343C95.91,-343 115.6,-343 132.25,-343\"/>\n",
       "<polygon fill=\"black\" stroke=\"black\" points=\"132.69,-346.5 142.69,-343 132.69,-339.5 132.69,-346.5\"/>\n",
       "<text text-anchor=\"middle\" x=\"111\" y=\"-346.2\" font-family=\"Times,serif\" font-size=\"11.00\" fill=\"#4c4c4c\">0.307</text>\n",
       "</g>\n",
       "<!-- dec17 -->\n",
       "<g id=\"node14\" class=\"node\">\n",
       "<title>dec17</title>\n",
       "<polygon fill=\"#9abad6\" stroke=\"transparent\" points=\"156.5,-186 156.5,-234 183.5,-234 183.5,-186 156.5,-186\"/>\n",
       "<polygon fill=\"none\" stroke=\"black\" points=\"157,-210 157,-234 184,-234 184,-210 157,-210\"/>\n",
       "<text text-anchor=\"start\" x=\"163\" y=\"-220.2\" font-family=\"Helvetica,sans-Serif\" font-size=\"11.00\">D</text>\n",
       "<text text-anchor=\"start\" x=\"172\" y=\"-220.2\" font-family=\"Helvetica,sans-Serif\" baseline-shift=\"super\" font-size=\"11.00\">+</text>\n",
       "<polygon fill=\"none\" stroke=\"black\" points=\"157,-186 157,-210 184,-210 184,-186 157,-186\"/>\n",
       "<text text-anchor=\"start\" x=\"167\" y=\"-195.2\" font-family=\"Helvetica,sans-Serif\" font-size=\"11.00\">γ</text>\n",
       "</g>\n",
       "<!-- mother&#45;&gt;dec17 -->\n",
       "<g id=\"edge13\" class=\"edge\">\n",
       "<title>mother&#45;&gt;dec17</title>\n",
       "<path fill=\"none\" stroke=\"black\" d=\"M58.1,-324.79C77.99,-304.19 110.83,-270.2 135.63,-244.54\"/>\n",
       "<polygon fill=\"black\" stroke=\"black\" points=\"138.28,-246.83 142.71,-237.21 133.25,-241.97 138.28,-246.83\"/>\n",
       "<text text-anchor=\"middle\" x=\"111\" y=\"-287.2\" font-family=\"Times,serif\" font-size=\"11.00\" fill=\"#4c4c4c\">0.016</text>\n",
       "</g>\n",
       "<!-- dec6 -->\n",
       "<g id=\"node3\" class=\"node\">\n",
       "<title>dec6</title>\n",
       "<ellipse fill=\"#eef3f8\" stroke=\"black\" cx=\"350.67\" cy=\"-561\" rx=\"32.74\" ry=\"18\"/>\n",
       "<polygon fill=\"#eef3f8\" stroke=\"transparent\" points=\"334.17,-553 334.17,-569 367.17,-569 367.17,-553 334.17,-553\"/>\n",
       "<text text-anchor=\"start\" x=\"336.67\" y=\"-559.2\" font-family=\"Helvetica,sans-Serif\" font-size=\"11.00\">K</text>\n",
       "<text text-anchor=\"start\" x=\"344.67\" y=\"-559.2\" font-family=\"Helvetica,sans-Serif\" baseline-shift=\"super\" font-size=\"11.00\">&#45;</text>\n",
       "<text text-anchor=\"start\" x=\"352.67\" y=\"-559.2\" font-family=\"Helvetica,sans-Serif\" font-size=\"11.00\">π</text>\n",
       "<text text-anchor=\"start\" x=\"359.67\" y=\"-559.2\" font-family=\"Helvetica,sans-Serif\" baseline-shift=\"super\" font-size=\"11.00\">+</text>\n",
       "</g>\n",
       "<!-- dec5&#45;&gt;dec6 -->\n",
       "<g id=\"edge2\" class=\"edge\">\n",
       "<title>dec5:p0&#45;&gt;dec6</title>\n",
       "<path fill=\"none\" stroke=\"black\" d=\"M185,-495C211.52,-495 276.86,-524.86 316.8,-544.41\"/>\n",
       "<polygon fill=\"black\" stroke=\"black\" points=\"315.37,-547.61 325.89,-548.89 318.47,-541.33 315.37,-547.61\"/>\n",
       "<text text-anchor=\"middle\" x=\"247\" y=\"-529.2\" font-family=\"Times,serif\" font-size=\"11.00\" fill=\"#4c4c4c\">1.0</text>\n",
       "</g>\n",
       "<!-- dec8 -->\n",
       "<g id=\"node5\" class=\"node\">\n",
       "<title>dec8</title>\n",
       "<polygon fill=\"#9abad6\" stroke=\"transparent\" points=\"338.17,-425 338.17,-521 363.17,-521 363.17,-425 338.17,-425\"/>\n",
       "<polygon fill=\"none\" stroke=\"black\" points=\"338.67,-497 338.67,-521 363.67,-521 363.67,-497 338.67,-497\"/>\n",
       "<text text-anchor=\"start\" x=\"345.17\" y=\"-507.2\" font-family=\"Helvetica,sans-Serif\" font-size=\"11.00\">K</text>\n",
       "<text text-anchor=\"start\" x=\"353.17\" y=\"-507.2\" font-family=\"Helvetica,sans-Serif\" baseline-shift=\"super\" font-size=\"11.00\">&#45;</text>\n",
       "<polygon fill=\"none\" stroke=\"black\" points=\"338.67,-473 338.67,-497 363.67,-497 363.67,-473 338.67,-473\"/>\n",
       "<text text-anchor=\"start\" x=\"344.67\" y=\"-483.2\" font-family=\"Helvetica,sans-Serif\" font-size=\"11.00\">π</text>\n",
       "<text text-anchor=\"start\" x=\"351.67\" y=\"-483.2\" font-family=\"Helvetica,sans-Serif\" baseline-shift=\"super\" font-size=\"11.00\">+</text>\n",
       "<polygon fill=\"none\" stroke=\"black\" points=\"338.67,-449 338.67,-473 363.67,-473 363.67,-449 338.67,-449\"/>\n",
       "<text text-anchor=\"start\" x=\"344.67\" y=\"-459.2\" font-family=\"Helvetica,sans-Serif\" font-size=\"11.00\">π</text>\n",
       "<text text-anchor=\"start\" x=\"351.67\" y=\"-459.2\" font-family=\"Helvetica,sans-Serif\" baseline-shift=\"super\" font-size=\"11.00\">+</text>\n",
       "<polygon fill=\"none\" stroke=\"black\" points=\"338.67,-425 338.67,-449 363.67,-449 363.67,-425 338.67,-425\"/>\n",
       "<text text-anchor=\"start\" x=\"344.67\" y=\"-435.2\" font-family=\"Helvetica,sans-Serif\" font-size=\"11.00\">π</text>\n",
       "<text text-anchor=\"start\" x=\"351.67\" y=\"-435.2\" font-family=\"Helvetica,sans-Serif\" baseline-shift=\"super\" font-size=\"11.00\">0</text>\n",
       "</g>\n",
       "<!-- dec7&#45;&gt;dec8 -->\n",
       "<g id=\"edge4\" class=\"edge\">\n",
       "<title>dec7:p0&#45;&gt;dec8</title>\n",
       "<path fill=\"none\" stroke=\"black\" d=\"M171,-368C171,-433.44 261.18,-458.89 313.4,-468.15\"/>\n",
       "<polygon fill=\"black\" stroke=\"black\" points=\"312.86,-471.61 323.3,-469.79 314.01,-464.7 312.86,-471.61\"/>\n",
       "<text text-anchor=\"middle\" x=\"247\" y=\"-462.2\" font-family=\"Times,serif\" font-size=\"11.00\" fill=\"#4c4c4c\">1.0</text>\n",
       "</g>\n",
       "<!-- dec13 -->\n",
       "<g id=\"node10\" class=\"node\">\n",
       "<title>dec13</title>\n",
       "<ellipse fill=\"#eef3f8\" stroke=\"black\" cx=\"350.67\" cy=\"-385\" rx=\"27\" ry=\"18\"/>\n",
       "<polygon fill=\"#eef3f8\" stroke=\"transparent\" points=\"339.67,-377 339.67,-393 361.67,-393 361.67,-377 339.67,-377\"/>\n",
       "<text text-anchor=\"start\" x=\"341.67\" y=\"-382.2\" font-family=\"Helvetica,sans-Serif\" font-size=\"11.00\">γ</text>\n",
       "<text text-anchor=\"start\" x=\"352.67\" y=\"-382.2\" font-family=\"Helvetica,sans-Serif\" font-size=\"11.00\">γ</text>\n",
       "</g>\n",
       "<!-- dec7&#45;&gt;dec13 -->\n",
       "<g id=\"edge9\" class=\"edge\">\n",
       "<title>dec7:p1&#45;&gt;dec13</title>\n",
       "<path fill=\"none\" stroke=\"black\" d=\"M185,-331C200.11,-331 200.98,-341.36 215,-347 247.97,-360.27 287.24,-370.78 314.84,-377.36\"/>\n",
       "<polygon fill=\"black\" stroke=\"black\" points=\"314.28,-380.82 324.81,-379.68 315.87,-374 314.28,-380.82\"/>\n",
       "<text text-anchor=\"middle\" x=\"247\" y=\"-370.2\" font-family=\"Times,serif\" font-size=\"11.00\" fill=\"#4c4c4c\">0.988228297</text>\n",
       "</g>\n",
       "<!-- dec14 -->\n",
       "<g id=\"node11\" class=\"node\">\n",
       "<title>dec14</title>\n",
       "<ellipse fill=\"#eef3f8\" stroke=\"black\" cx=\"350.67\" cy=\"-331\" rx=\"39.66\" ry=\"18\"/>\n",
       "<polygon fill=\"#eef3f8\" stroke=\"transparent\" points=\"329.17,-323 329.17,-339 372.17,-339 372.17,-323 329.17,-323\"/>\n",
       "<text text-anchor=\"start\" x=\"331.67\" y=\"-329.2\" font-family=\"Helvetica,sans-Serif\" font-size=\"11.00\">e</text>\n",
       "<text text-anchor=\"start\" x=\"338.67\" y=\"-329.2\" font-family=\"Helvetica,sans-Serif\" baseline-shift=\"super\" font-size=\"11.00\">+</text>\n",
       "<text text-anchor=\"start\" x=\"348.67\" y=\"-329.2\" font-family=\"Helvetica,sans-Serif\" font-size=\"11.00\">e</text>\n",
       "<text text-anchor=\"start\" x=\"355.67\" y=\"-329.2\" font-family=\"Helvetica,sans-Serif\" baseline-shift=\"super\" font-size=\"11.00\">&#45;</text>\n",
       "<text text-anchor=\"start\" x=\"363.67\" y=\"-328.2\" font-family=\"Helvetica,sans-Serif\" font-size=\"11.00\">γ</text>\n",
       "</g>\n",
       "<!-- dec7&#45;&gt;dec14 -->\n",
       "<g id=\"edge10\" class=\"edge\">\n",
       "<title>dec7:p1&#45;&gt;dec14</title>\n",
       "<path fill=\"none\" stroke=\"black\" d=\"M185,-331C223.95,-331 268.09,-331 300.85,-331\"/>\n",
       "<polygon fill=\"black\" stroke=\"black\" points=\"301.07,-334.5 311.07,-331 301.07,-327.5 301.07,-334.5\"/>\n",
       "<text text-anchor=\"middle\" x=\"247\" y=\"-334.2\" font-family=\"Times,serif\" font-size=\"11.00\" fill=\"#4c4c4c\">0.011738247</text>\n",
       "</g>\n",
       "<!-- dec15 -->\n",
       "<g id=\"node12\" class=\"node\">\n",
       "<title>dec15</title>\n",
       "<ellipse fill=\"#eef3f8\" stroke=\"black\" cx=\"350.67\" cy=\"-277\" rx=\"53.83\" ry=\"18\"/>\n",
       "<polygon fill=\"#eef3f8\" stroke=\"transparent\" points=\"318.67,-269 318.67,-285 382.67,-285 382.67,-269 318.67,-269\"/>\n",
       "<text text-anchor=\"start\" x=\"320.67\" y=\"-275.2\" font-family=\"Helvetica,sans-Serif\" font-size=\"11.00\">e</text>\n",
       "<text text-anchor=\"start\" x=\"327.67\" y=\"-275.2\" font-family=\"Helvetica,sans-Serif\" baseline-shift=\"super\" font-size=\"11.00\">+</text>\n",
       "<text text-anchor=\"start\" x=\"337.67\" y=\"-275.2\" font-family=\"Helvetica,sans-Serif\" font-size=\"11.00\">e</text>\n",
       "<text text-anchor=\"start\" x=\"344.67\" y=\"-275.2\" font-family=\"Helvetica,sans-Serif\" baseline-shift=\"super\" font-size=\"11.00\">+</text>\n",
       "<text text-anchor=\"start\" x=\"354.67\" y=\"-275.2\" font-family=\"Helvetica,sans-Serif\" font-size=\"11.00\">e</text>\n",
       "<text text-anchor=\"start\" x=\"361.67\" y=\"-275.2\" font-family=\"Helvetica,sans-Serif\" baseline-shift=\"super\" font-size=\"11.00\">&#45;</text>\n",
       "<text text-anchor=\"start\" x=\"369.67\" y=\"-275.2\" font-family=\"Helvetica,sans-Serif\" font-size=\"11.00\">e</text>\n",
       "<text text-anchor=\"start\" x=\"376.67\" y=\"-275.2\" font-family=\"Helvetica,sans-Serif\" baseline-shift=\"super\" font-size=\"11.00\">&#45;</text>\n",
       "</g>\n",
       "<!-- dec7&#45;&gt;dec15 -->\n",
       "<g id=\"edge11\" class=\"edge\">\n",
       "<title>dec7:p1&#45;&gt;dec15</title>\n",
       "<path fill=\"none\" stroke=\"black\" d=\"M185,-331C200.11,-331 200.98,-320.64 215,-315 240.85,-304.6 270.57,-295.89 295.5,-289.45\"/>\n",
       "<polygon fill=\"black\" stroke=\"black\" points=\"296.67,-292.76 305.51,-286.91 294.96,-285.97 296.67,-292.76\"/>\n",
       "<text text-anchor=\"middle\" x=\"247\" y=\"-318.2\" font-family=\"Times,serif\" font-size=\"11.00\" fill=\"#4c4c4c\">3.3392e&#45;05</text>\n",
       "</g>\n",
       "<!-- dec16 -->\n",
       "<g id=\"node13\" class=\"node\">\n",
       "<title>dec16</title>\n",
       "<ellipse fill=\"#eef3f8\" stroke=\"black\" cx=\"350.67\" cy=\"-223\" rx=\"32.4\" ry=\"18\"/>\n",
       "<polygon fill=\"#eef3f8\" stroke=\"transparent\" points=\"334.67,-215 334.67,-231 366.67,-231 366.67,-215 334.67,-215\"/>\n",
       "<text text-anchor=\"start\" x=\"336.67\" y=\"-221.2\" font-family=\"Helvetica,sans-Serif\" font-size=\"11.00\">e</text>\n",
       "<text text-anchor=\"start\" x=\"343.67\" y=\"-221.2\" font-family=\"Helvetica,sans-Serif\" baseline-shift=\"super\" font-size=\"11.00\">+</text>\n",
       "<text text-anchor=\"start\" x=\"353.67\" y=\"-221.2\" font-family=\"Helvetica,sans-Serif\" font-size=\"11.00\">e</text>\n",
       "<text text-anchor=\"start\" x=\"360.67\" y=\"-221.2\" font-family=\"Helvetica,sans-Serif\" baseline-shift=\"super\" font-size=\"11.00\">&#45;</text>\n",
       "</g>\n",
       "<!-- dec7&#45;&gt;dec16 -->\n",
       "<g id=\"edge12\" class=\"edge\">\n",
       "<title>dec7:p1&#45;&gt;dec16</title>\n",
       "<path fill=\"none\" stroke=\"black\" d=\"M171,-318C171,-256.08 255.69,-234.39 308.45,-226.89\"/>\n",
       "<polygon fill=\"black\" stroke=\"black\" points=\"309.08,-230.33 318.54,-225.57 308.18,-223.39 309.08,-230.33\"/>\n",
       "<text text-anchor=\"middle\" x=\"247\" y=\"-255.2\" font-family=\"Times,serif\" font-size=\"11.00\" fill=\"#4c4c4c\">6.5e&#45;08</text>\n",
       "</g>\n",
       "<!-- dec9 -->\n",
       "<g id=\"node6\" class=\"node\">\n",
       "<title>dec9</title>\n",
       "<ellipse fill=\"#eef3f8\" stroke=\"black\" cx=\"558\" cy=\"-518\" rx=\"27\" ry=\"18\"/>\n",
       "<polygon fill=\"#eef3f8\" stroke=\"transparent\" points=\"547,-510 547,-526 569,-526 569,-510 547,-510\"/>\n",
       "<text text-anchor=\"start\" x=\"549\" y=\"-515.2\" font-family=\"Helvetica,sans-Serif\" font-size=\"11.00\">γ</text>\n",
       "<text text-anchor=\"start\" x=\"560\" y=\"-515.2\" font-family=\"Helvetica,sans-Serif\" font-size=\"11.00\">γ</text>\n",
       "</g>\n",
       "<!-- dec8&#45;&gt;dec9 -->\n",
       "<g id=\"edge5\" class=\"edge\">\n",
       "<title>dec8:p3&#45;&gt;dec9</title>\n",
       "<path fill=\"none\" stroke=\"black\" d=\"M364.67,-437C392.97,-437 396.37,-452.73 422.33,-464 456.9,-479.01 497.06,-494.92 524.47,-505.55\"/>\n",
       "<polygon fill=\"black\" stroke=\"black\" points=\"523.37,-508.88 533.96,-509.22 525.89,-502.35 523.37,-508.88\"/>\n",
       "<text text-anchor=\"middle\" x=\"454.33\" y=\"-492.2\" font-family=\"Times,serif\" font-size=\"11.00\" fill=\"#4c4c4c\">0.988228297</text>\n",
       "</g>\n",
       "<!-- dec10 -->\n",
       "<g id=\"node7\" class=\"node\">\n",
       "<title>dec10</title>\n",
       "<ellipse fill=\"#eef3f8\" stroke=\"black\" cx=\"558\" cy=\"-464\" rx=\"39.66\" ry=\"18\"/>\n",
       "<polygon fill=\"#eef3f8\" stroke=\"transparent\" points=\"536.5,-456 536.5,-472 579.5,-472 579.5,-456 536.5,-456\"/>\n",
       "<text text-anchor=\"start\" x=\"539\" y=\"-462.2\" font-family=\"Helvetica,sans-Serif\" font-size=\"11.00\">e</text>\n",
       "<text text-anchor=\"start\" x=\"546\" y=\"-462.2\" font-family=\"Helvetica,sans-Serif\" baseline-shift=\"super\" font-size=\"11.00\">+</text>\n",
       "<text text-anchor=\"start\" x=\"556\" y=\"-462.2\" font-family=\"Helvetica,sans-Serif\" font-size=\"11.00\">e</text>\n",
       "<text text-anchor=\"start\" x=\"563\" y=\"-462.2\" font-family=\"Helvetica,sans-Serif\" baseline-shift=\"super\" font-size=\"11.00\">&#45;</text>\n",
       "<text text-anchor=\"start\" x=\"571\" y=\"-461.2\" font-family=\"Helvetica,sans-Serif\" font-size=\"11.00\">γ</text>\n",
       "</g>\n",
       "<!-- dec8&#45;&gt;dec10 -->\n",
       "<g id=\"edge6\" class=\"edge\">\n",
       "<title>dec8:p3&#45;&gt;dec10</title>\n",
       "<path fill=\"none\" stroke=\"black\" d=\"M364.67,-437C415.58,-437 473.35,-446.39 512.17,-454.1\"/>\n",
       "<polygon fill=\"black\" stroke=\"black\" points=\"511.61,-457.56 522.11,-456.12 513,-450.7 511.61,-457.56\"/>\n",
       "<text text-anchor=\"middle\" x=\"454.33\" y=\"-451.2\" font-family=\"Times,serif\" font-size=\"11.00\" fill=\"#4c4c4c\">0.011738247</text>\n",
       "</g>\n",
       "<!-- dec11 -->\n",
       "<g id=\"node8\" class=\"node\">\n",
       "<title>dec11</title>\n",
       "<ellipse fill=\"#eef3f8\" stroke=\"black\" cx=\"558\" cy=\"-410\" rx=\"53.83\" ry=\"18\"/>\n",
       "<polygon fill=\"#eef3f8\" stroke=\"transparent\" points=\"526,-402 526,-418 590,-418 590,-402 526,-402\"/>\n",
       "<text text-anchor=\"start\" x=\"528\" y=\"-408.2\" font-family=\"Helvetica,sans-Serif\" font-size=\"11.00\">e</text>\n",
       "<text text-anchor=\"start\" x=\"535\" y=\"-408.2\" font-family=\"Helvetica,sans-Serif\" baseline-shift=\"super\" font-size=\"11.00\">+</text>\n",
       "<text text-anchor=\"start\" x=\"545\" y=\"-408.2\" font-family=\"Helvetica,sans-Serif\" font-size=\"11.00\">e</text>\n",
       "<text text-anchor=\"start\" x=\"552\" y=\"-408.2\" font-family=\"Helvetica,sans-Serif\" baseline-shift=\"super\" font-size=\"11.00\">+</text>\n",
       "<text text-anchor=\"start\" x=\"562\" y=\"-408.2\" font-family=\"Helvetica,sans-Serif\" font-size=\"11.00\">e</text>\n",
       "<text text-anchor=\"start\" x=\"569\" y=\"-408.2\" font-family=\"Helvetica,sans-Serif\" baseline-shift=\"super\" font-size=\"11.00\">&#45;</text>\n",
       "<text text-anchor=\"start\" x=\"577\" y=\"-408.2\" font-family=\"Helvetica,sans-Serif\" font-size=\"11.00\">e</text>\n",
       "<text text-anchor=\"start\" x=\"584\" y=\"-408.2\" font-family=\"Helvetica,sans-Serif\" baseline-shift=\"super\" font-size=\"11.00\">&#45;</text>\n",
       "</g>\n",
       "<!-- dec8&#45;&gt;dec11 -->\n",
       "<g id=\"edge7\" class=\"edge\">\n",
       "<title>dec8:p3&#45;&gt;dec11</title>\n",
       "<path fill=\"none\" stroke=\"black\" d=\"M364.67,-437C390.94,-437 396.41,-428.25 422.33,-424 446.07,-420.1 472.36,-417.09 495.35,-414.87\"/>\n",
       "<polygon fill=\"black\" stroke=\"black\" points=\"495.7,-418.35 505.33,-413.93 495.05,-411.38 495.7,-418.35\"/>\n",
       "<text text-anchor=\"middle\" x=\"454.33\" y=\"-427.2\" font-family=\"Times,serif\" font-size=\"11.00\" fill=\"#4c4c4c\">3.3392e&#45;05</text>\n",
       "</g>\n",
       "<!-- dec12 -->\n",
       "<g id=\"node9\" class=\"node\">\n",
       "<title>dec12</title>\n",
       "<ellipse fill=\"#eef3f8\" stroke=\"black\" cx=\"558\" cy=\"-356\" rx=\"32.4\" ry=\"18\"/>\n",
       "<polygon fill=\"#eef3f8\" stroke=\"transparent\" points=\"542,-348 542,-364 574,-364 574,-348 542,-348\"/>\n",
       "<text text-anchor=\"start\" x=\"544\" y=\"-354.2\" font-family=\"Helvetica,sans-Serif\" font-size=\"11.00\">e</text>\n",
       "<text text-anchor=\"start\" x=\"551\" y=\"-354.2\" font-family=\"Helvetica,sans-Serif\" baseline-shift=\"super\" font-size=\"11.00\">+</text>\n",
       "<text text-anchor=\"start\" x=\"561\" y=\"-354.2\" font-family=\"Helvetica,sans-Serif\" font-size=\"11.00\">e</text>\n",
       "<text text-anchor=\"start\" x=\"568\" y=\"-354.2\" font-family=\"Helvetica,sans-Serif\" baseline-shift=\"super\" font-size=\"11.00\">&#45;</text>\n",
       "</g>\n",
       "<!-- dec8&#45;&gt;dec12 -->\n",
       "<g id=\"edge8\" class=\"edge\">\n",
       "<title>dec8:p3&#45;&gt;dec12</title>\n",
       "<path fill=\"none\" stroke=\"black\" d=\"M364.67,-437C395.36,-437 394.93,-412.83 422.33,-399 452.93,-383.56 490.22,-372.17 517.8,-365\"/>\n",
       "<polygon fill=\"black\" stroke=\"black\" points=\"519.02,-368.31 527.86,-362.47 517.3,-361.52 519.02,-368.31\"/>\n",
       "<text text-anchor=\"middle\" x=\"454.33\" y=\"-402.2\" font-family=\"Times,serif\" font-size=\"11.00\" fill=\"#4c4c4c\">6.5e&#45;08</text>\n",
       "</g>\n",
       "<!-- dec18 -->\n",
       "<g id=\"node15\" class=\"node\">\n",
       "<title>dec18</title>\n",
       "<polygon fill=\"#9abad6\" stroke=\"transparent\" points=\"338.17,-87 338.17,-183 363.17,-183 363.17,-87 338.17,-87\"/>\n",
       "<polygon fill=\"none\" stroke=\"black\" points=\"338.67,-159 338.67,-183 363.67,-183 363.67,-159 338.67,-159\"/>\n",
       "<text text-anchor=\"start\" x=\"345.17\" y=\"-169.2\" font-family=\"Helvetica,sans-Serif\" font-size=\"11.00\">K</text>\n",
       "<text text-anchor=\"start\" x=\"353.17\" y=\"-169.2\" font-family=\"Helvetica,sans-Serif\" baseline-shift=\"super\" font-size=\"11.00\">&#45;</text>\n",
       "<polygon fill=\"none\" stroke=\"black\" points=\"338.67,-135 338.67,-159 363.67,-159 363.67,-135 338.67,-135\"/>\n",
       "<text text-anchor=\"start\" x=\"344.67\" y=\"-145.2\" font-family=\"Helvetica,sans-Serif\" font-size=\"11.00\">π</text>\n",
       "<text text-anchor=\"start\" x=\"351.67\" y=\"-145.2\" font-family=\"Helvetica,sans-Serif\" baseline-shift=\"super\" font-size=\"11.00\">+</text>\n",
       "<polygon fill=\"none\" stroke=\"black\" points=\"338.67,-111 338.67,-135 363.67,-135 363.67,-111 338.67,-111\"/>\n",
       "<text text-anchor=\"start\" x=\"344.67\" y=\"-121.2\" font-family=\"Helvetica,sans-Serif\" font-size=\"11.00\">π</text>\n",
       "<text text-anchor=\"start\" x=\"351.67\" y=\"-121.2\" font-family=\"Helvetica,sans-Serif\" baseline-shift=\"super\" font-size=\"11.00\">+</text>\n",
       "<polygon fill=\"none\" stroke=\"black\" points=\"338.67,-87 338.67,-111 363.67,-111 363.67,-87 338.67,-87\"/>\n",
       "<text text-anchor=\"start\" x=\"344.67\" y=\"-97.2\" font-family=\"Helvetica,sans-Serif\" font-size=\"11.00\">π</text>\n",
       "<text text-anchor=\"start\" x=\"351.67\" y=\"-97.2\" font-family=\"Helvetica,sans-Serif\" baseline-shift=\"super\" font-size=\"11.00\">0</text>\n",
       "</g>\n",
       "<!-- dec17&#45;&gt;dec18 -->\n",
       "<g id=\"edge14\" class=\"edge\">\n",
       "<title>dec17:p0&#45;&gt;dec18</title>\n",
       "<path fill=\"none\" stroke=\"black\" d=\"M185,-222C204.82,-222 198.72,-200.31 215,-189 245.4,-167.88 285.27,-153.21 313.73,-144.55\"/>\n",
       "<polygon fill=\"black\" stroke=\"black\" points=\"315.05,-147.81 323.65,-141.63 313.07,-141.09 315.05,-147.81\"/>\n",
       "<text text-anchor=\"middle\" x=\"247\" y=\"-192.2\" font-family=\"Times,serif\" font-size=\"11.00\" fill=\"#4c4c4c\">1.0</text>\n",
       "</g>\n",
       "<!-- dec19 -->\n",
       "<g id=\"node16\" class=\"node\">\n",
       "<title>dec19</title>\n",
       "<ellipse fill=\"#eef3f8\" stroke=\"black\" cx=\"558\" cy=\"-180\" rx=\"27\" ry=\"18\"/>\n",
       "<polygon fill=\"#eef3f8\" stroke=\"transparent\" points=\"547,-172 547,-188 569,-188 569,-172 547,-172\"/>\n",
       "<text text-anchor=\"start\" x=\"549\" y=\"-177.2\" font-family=\"Helvetica,sans-Serif\" font-size=\"11.00\">γ</text>\n",
       "<text text-anchor=\"start\" x=\"560\" y=\"-177.2\" font-family=\"Helvetica,sans-Serif\" font-size=\"11.00\">γ</text>\n",
       "</g>\n",
       "<!-- dec18&#45;&gt;dec19 -->\n",
       "<g id=\"edge15\" class=\"edge\">\n",
       "<title>dec18:p3&#45;&gt;dec19</title>\n",
       "<path fill=\"none\" stroke=\"black\" d=\"M364.67,-99C392.97,-99 396.37,-114.73 422.33,-126 456.9,-141.01 497.06,-156.92 524.47,-167.55\"/>\n",
       "<polygon fill=\"black\" stroke=\"black\" points=\"523.37,-170.88 533.96,-171.22 525.89,-164.35 523.37,-170.88\"/>\n",
       "<text text-anchor=\"middle\" x=\"454.33\" y=\"-154.2\" font-family=\"Times,serif\" font-size=\"11.00\" fill=\"#4c4c4c\">0.988228297</text>\n",
       "</g>\n",
       "<!-- dec20 -->\n",
       "<g id=\"node17\" class=\"node\">\n",
       "<title>dec20</title>\n",
       "<ellipse fill=\"#eef3f8\" stroke=\"black\" cx=\"558\" cy=\"-126\" rx=\"39.66\" ry=\"18\"/>\n",
       "<polygon fill=\"#eef3f8\" stroke=\"transparent\" points=\"536.5,-118 536.5,-134 579.5,-134 579.5,-118 536.5,-118\"/>\n",
       "<text text-anchor=\"start\" x=\"539\" y=\"-124.2\" font-family=\"Helvetica,sans-Serif\" font-size=\"11.00\">e</text>\n",
       "<text text-anchor=\"start\" x=\"546\" y=\"-124.2\" font-family=\"Helvetica,sans-Serif\" baseline-shift=\"super\" font-size=\"11.00\">+</text>\n",
       "<text text-anchor=\"start\" x=\"556\" y=\"-124.2\" font-family=\"Helvetica,sans-Serif\" font-size=\"11.00\">e</text>\n",
       "<text text-anchor=\"start\" x=\"563\" y=\"-124.2\" font-family=\"Helvetica,sans-Serif\" baseline-shift=\"super\" font-size=\"11.00\">&#45;</text>\n",
       "<text text-anchor=\"start\" x=\"571\" y=\"-123.2\" font-family=\"Helvetica,sans-Serif\" font-size=\"11.00\">γ</text>\n",
       "</g>\n",
       "<!-- dec18&#45;&gt;dec20 -->\n",
       "<g id=\"edge16\" class=\"edge\">\n",
       "<title>dec18:p3&#45;&gt;dec20</title>\n",
       "<path fill=\"none\" stroke=\"black\" d=\"M364.67,-99C415.58,-99 473.35,-108.39 512.17,-116.1\"/>\n",
       "<polygon fill=\"black\" stroke=\"black\" points=\"511.61,-119.56 522.11,-118.12 513,-112.7 511.61,-119.56\"/>\n",
       "<text text-anchor=\"middle\" x=\"454.33\" y=\"-113.2\" font-family=\"Times,serif\" font-size=\"11.00\" fill=\"#4c4c4c\">0.011738247</text>\n",
       "</g>\n",
       "<!-- dec21 -->\n",
       "<g id=\"node18\" class=\"node\">\n",
       "<title>dec21</title>\n",
       "<ellipse fill=\"#eef3f8\" stroke=\"black\" cx=\"558\" cy=\"-72\" rx=\"53.83\" ry=\"18\"/>\n",
       "<polygon fill=\"#eef3f8\" stroke=\"transparent\" points=\"526,-64 526,-80 590,-80 590,-64 526,-64\"/>\n",
       "<text text-anchor=\"start\" x=\"528\" y=\"-70.2\" font-family=\"Helvetica,sans-Serif\" font-size=\"11.00\">e</text>\n",
       "<text text-anchor=\"start\" x=\"535\" y=\"-70.2\" font-family=\"Helvetica,sans-Serif\" baseline-shift=\"super\" font-size=\"11.00\">+</text>\n",
       "<text text-anchor=\"start\" x=\"545\" y=\"-70.2\" font-family=\"Helvetica,sans-Serif\" font-size=\"11.00\">e</text>\n",
       "<text text-anchor=\"start\" x=\"552\" y=\"-70.2\" font-family=\"Helvetica,sans-Serif\" baseline-shift=\"super\" font-size=\"11.00\">+</text>\n",
       "<text text-anchor=\"start\" x=\"562\" y=\"-70.2\" font-family=\"Helvetica,sans-Serif\" font-size=\"11.00\">e</text>\n",
       "<text text-anchor=\"start\" x=\"569\" y=\"-70.2\" font-family=\"Helvetica,sans-Serif\" baseline-shift=\"super\" font-size=\"11.00\">&#45;</text>\n",
       "<text text-anchor=\"start\" x=\"577\" y=\"-70.2\" font-family=\"Helvetica,sans-Serif\" font-size=\"11.00\">e</text>\n",
       "<text text-anchor=\"start\" x=\"584\" y=\"-70.2\" font-family=\"Helvetica,sans-Serif\" baseline-shift=\"super\" font-size=\"11.00\">&#45;</text>\n",
       "</g>\n",
       "<!-- dec18&#45;&gt;dec21 -->\n",
       "<g id=\"edge17\" class=\"edge\">\n",
       "<title>dec18:p3&#45;&gt;dec21</title>\n",
       "<path fill=\"none\" stroke=\"black\" d=\"M364.67,-99C390.94,-99 396.41,-90.25 422.33,-86 446.07,-82.1 472.36,-79.09 495.35,-76.87\"/>\n",
       "<polygon fill=\"black\" stroke=\"black\" points=\"495.7,-80.35 505.33,-75.93 495.05,-73.38 495.7,-80.35\"/>\n",
       "<text text-anchor=\"middle\" x=\"454.33\" y=\"-89.2\" font-family=\"Times,serif\" font-size=\"11.00\" fill=\"#4c4c4c\">3.3392e&#45;05</text>\n",
       "</g>\n",
       "<!-- dec22 -->\n",
       "<g id=\"node19\" class=\"node\">\n",
       "<title>dec22</title>\n",
       "<ellipse fill=\"#eef3f8\" stroke=\"black\" cx=\"558\" cy=\"-18\" rx=\"32.4\" ry=\"18\"/>\n",
       "<polygon fill=\"#eef3f8\" stroke=\"transparent\" points=\"542,-10 542,-26 574,-26 574,-10 542,-10\"/>\n",
       "<text text-anchor=\"start\" x=\"544\" y=\"-16.2\" font-family=\"Helvetica,sans-Serif\" font-size=\"11.00\">e</text>\n",
       "<text text-anchor=\"start\" x=\"551\" y=\"-16.2\" font-family=\"Helvetica,sans-Serif\" baseline-shift=\"super\" font-size=\"11.00\">+</text>\n",
       "<text text-anchor=\"start\" x=\"561\" y=\"-16.2\" font-family=\"Helvetica,sans-Serif\" font-size=\"11.00\">e</text>\n",
       "<text text-anchor=\"start\" x=\"568\" y=\"-16.2\" font-family=\"Helvetica,sans-Serif\" baseline-shift=\"super\" font-size=\"11.00\">&#45;</text>\n",
       "</g>\n",
       "<!-- dec18&#45;&gt;dec22 -->\n",
       "<g id=\"edge18\" class=\"edge\">\n",
       "<title>dec18:p3&#45;&gt;dec22</title>\n",
       "<path fill=\"none\" stroke=\"black\" d=\"M364.67,-99C395.36,-99 394.64,-74.24 422.33,-61 453.26,-46.22 490.52,-34.77 518,-27.41\"/>\n",
       "<polygon fill=\"black\" stroke=\"black\" points=\"519.23,-30.71 528.02,-24.8 517.46,-23.94 519.23,-30.71\"/>\n",
       "<text text-anchor=\"middle\" x=\"454.33\" y=\"-64.2\" font-family=\"Times,serif\" font-size=\"11.00\" fill=\"#4c4c4c\">6.5e&#45;08</text>\n",
       "</g>\n",
       "</g>\n",
       "</svg>\n"
      ],
      "text/plain": [
       "<decaylanguage.decay.viewer.DecayChainViewer at 0x7fe6407fa410>"
      ]
     },
     "execution_count": 72,
     "metadata": {},
     "output_type": "execute_result"
    }
   ],
   "source": [
    "DecayChainViewer(dfp_Dst.build_decay_chains('D*+'))"
   ]
  },
  {
   "cell_type": "code",
   "execution_count": 73,
   "metadata": {
    "slideshow": {
     "slide_type": "subslide"
    }
   },
   "outputs": [
    {
     "data": {
      "image/svg+xml": [
       "<?xml version=\"1.0\" encoding=\"UTF-8\" standalone=\"no\"?>\n",
       "<!DOCTYPE svg PUBLIC \"-//W3C//DTD SVG 1.1//EN\"\n",
       " \"http://www.w3.org/Graphics/SVG/1.1/DTD/svg11.dtd\">\n",
       "<!-- Generated by graphviz version 2.42.3 (20191010.1750)\n",
       " -->\n",
       "<!-- Title: DecayChainGraph Pages: 1 -->\n",
       "<svg width=\"221pt\" height=\"152pt\"\n",
       " viewBox=\"0.00 0.00 220.77 152.00\" xmlns=\"http://www.w3.org/2000/svg\" xmlns:xlink=\"http://www.w3.org/1999/xlink\">\n",
       "<g id=\"graph0\" class=\"graph\" transform=\"scale(1 1) rotate(0) translate(4 148)\">\n",
       "<title>DecayChainGraph</title>\n",
       "<polygon fill=\"white\" stroke=\"transparent\" points=\"-4,4 -4,-148 216.77,-148 216.77,4 -4,4\"/>\n",
       "<!-- mother -->\n",
       "<g id=\"node1\" class=\"node\">\n",
       "<title>mother</title>\n",
       "<polygon fill=\"#568dba\" stroke=\"transparent\" points=\"8,-60 8,-84 71,-84 71,-60 8,-60\"/>\n",
       "<polygon fill=\"none\" stroke=\"black\" points=\"8.5,-60 8.5,-84 71.5,-84 71.5,-60 8.5,-60\"/>\n",
       "<text text-anchor=\"start\" x=\"14.5\" y=\"-70.2\" font-family=\"Helvetica,sans-Serif\" font-size=\"11.00\">D</text>\n",
       "<text text-anchor=\"start\" x=\"23.5\" y=\"-70.2\" font-family=\"Helvetica,sans-Serif\" baseline-shift=\"super\" font-size=\"11.00\">*</text>\n",
       "<text text-anchor=\"start\" x=\"27.5\" y=\"-70.2\" font-family=\"Helvetica,sans-Serif\" font-size=\"11.00\">(2010)</text>\n",
       "<text text-anchor=\"start\" x=\"59.5\" y=\"-70.2\" font-family=\"Helvetica,sans-Serif\" baseline-shift=\"super\" font-size=\"11.00\">+</text>\n",
       "</g>\n",
       "<!-- dec23 -->\n",
       "<g id=\"node2\" class=\"node\">\n",
       "<title>dec23</title>\n",
       "<ellipse fill=\"#eef3f8\" stroke=\"black\" cx=\"177.88\" cy=\"-126\" rx=\"34.77\" ry=\"18\"/>\n",
       "<polygon fill=\"#eef3f8\" stroke=\"transparent\" points=\"159.88,-118 159.88,-134 195.88,-134 195.88,-118 159.88,-118\"/>\n",
       "<text text-anchor=\"start\" x=\"161.88\" y=\"-124.2\" font-family=\"Helvetica,sans-Serif\" font-size=\"11.00\">D</text>\n",
       "<text text-anchor=\"start\" x=\"170.88\" y=\"-124.2\" font-family=\"Helvetica,sans-Serif\" baseline-shift=\"super\" font-size=\"11.00\">0</text>\n",
       "<text text-anchor=\"start\" x=\"180.88\" y=\"-124.2\" font-family=\"Helvetica,sans-Serif\" font-size=\"11.00\">π</text>\n",
       "<text text-anchor=\"start\" x=\"187.88\" y=\"-124.2\" font-family=\"Helvetica,sans-Serif\" baseline-shift=\"super\" font-size=\"11.00\">+</text>\n",
       "</g>\n",
       "<!-- mother&#45;&gt;dec23 -->\n",
       "<g id=\"edge1\" class=\"edge\">\n",
       "<title>mother&#45;&gt;dec23</title>\n",
       "<path fill=\"none\" stroke=\"black\" d=\"M79.22,-87.33C98.4,-94.92 121.43,-104.04 140.31,-111.52\"/>\n",
       "<polygon fill=\"black\" stroke=\"black\" points=\"139.17,-114.83 149.76,-115.26 141.75,-108.33 139.17,-114.83\"/>\n",
       "<text text-anchor=\"middle\" x=\"111\" y=\"-108.2\" font-family=\"Times,serif\" font-size=\"11.00\" fill=\"#4c4c4c\">0.677</text>\n",
       "</g>\n",
       "<!-- dec24 -->\n",
       "<g id=\"node3\" class=\"node\">\n",
       "<title>dec24</title>\n",
       "<ellipse fill=\"#eef3f8\" stroke=\"black\" cx=\"177.88\" cy=\"-72\" rx=\"34.77\" ry=\"18\"/>\n",
       "<polygon fill=\"#eef3f8\" stroke=\"transparent\" points=\"159.88,-64 159.88,-80 195.88,-80 195.88,-64 159.88,-64\"/>\n",
       "<text text-anchor=\"start\" x=\"161.88\" y=\"-70.2\" font-family=\"Helvetica,sans-Serif\" font-size=\"11.00\">D</text>\n",
       "<text text-anchor=\"start\" x=\"170.88\" y=\"-70.2\" font-family=\"Helvetica,sans-Serif\" baseline-shift=\"super\" font-size=\"11.00\">+</text>\n",
       "<text text-anchor=\"start\" x=\"180.88\" y=\"-70.2\" font-family=\"Helvetica,sans-Serif\" font-size=\"11.00\">π</text>\n",
       "<text text-anchor=\"start\" x=\"187.88\" y=\"-70.2\" font-family=\"Helvetica,sans-Serif\" baseline-shift=\"super\" font-size=\"11.00\">0</text>\n",
       "</g>\n",
       "<!-- mother&#45;&gt;dec24 -->\n",
       "<g id=\"edge2\" class=\"edge\">\n",
       "<title>mother&#45;&gt;dec24</title>\n",
       "<path fill=\"none\" stroke=\"black\" d=\"M79.22,-72C95.78,-72 115.22,-72 132.37,-72\"/>\n",
       "<polygon fill=\"black\" stroke=\"black\" points=\"132.72,-75.5 142.72,-72 132.71,-68.5 132.72,-75.5\"/>\n",
       "<text text-anchor=\"middle\" x=\"111\" y=\"-75.2\" font-family=\"Times,serif\" font-size=\"11.00\" fill=\"#4c4c4c\">0.307</text>\n",
       "</g>\n",
       "<!-- dec25 -->\n",
       "<g id=\"node4\" class=\"node\">\n",
       "<title>dec25</title>\n",
       "<ellipse fill=\"#eef3f8\" stroke=\"black\" cx=\"177.88\" cy=\"-18\" rx=\"30.72\" ry=\"18\"/>\n",
       "<polygon fill=\"#eef3f8\" stroke=\"transparent\" points=\"162.88,-10 162.88,-26 192.88,-26 192.88,-10 162.88,-10\"/>\n",
       "<text text-anchor=\"start\" x=\"164.88\" y=\"-16.2\" font-family=\"Helvetica,sans-Serif\" font-size=\"11.00\">D</text>\n",
       "<text text-anchor=\"start\" x=\"173.88\" y=\"-16.2\" font-family=\"Helvetica,sans-Serif\" baseline-shift=\"super\" font-size=\"11.00\">+</text>\n",
       "<text text-anchor=\"start\" x=\"183.88\" y=\"-15.2\" font-family=\"Helvetica,sans-Serif\" font-size=\"11.00\">γ</text>\n",
       "</g>\n",
       "<!-- mother&#45;&gt;dec25 -->\n",
       "<g id=\"edge3\" class=\"edge\">\n",
       "<title>mother&#45;&gt;dec25</title>\n",
       "<path fill=\"none\" stroke=\"black\" d=\"M79.22,-56.67C99.16,-48.77 123.26,-39.23 142.54,-31.6\"/>\n",
       "<polygon fill=\"black\" stroke=\"black\" points=\"143.84,-34.85 151.85,-27.91 141.26,-28.34 143.84,-34.85\"/>\n",
       "<text text-anchor=\"middle\" x=\"111\" y=\"-51.2\" font-family=\"Times,serif\" font-size=\"11.00\" fill=\"#4c4c4c\">0.016</text>\n",
       "</g>\n",
       "</g>\n",
       "</svg>\n"
      ],
      "text/plain": [
       "<decaylanguage.decay.viewer.DecayChainViewer at 0x7fe640803cd0>"
      ]
     },
     "execution_count": 73,
     "metadata": {},
     "output_type": "execute_result"
    }
   ],
   "source": [
    "dc = dfp_Dst.build_decay_chains('D*+', stable_particles=['D+', 'D0', 'pi0'])\n",
    "DecayChainViewer(dc)"
   ]
  },
  {
   "cell_type": "markdown",
   "metadata": {
    "slideshow": {
     "slide_type": "subslide"
    }
   },
   "source": [
    "#### **Charge conjugation**"
   ]
  },
  {
   "cell_type": "code",
   "execution_count": 74,
   "metadata": {},
   "outputs": [
    {
     "data": {
      "image/svg+xml": [
       "<?xml version=\"1.0\" encoding=\"UTF-8\" standalone=\"no\"?>\n",
       "<!DOCTYPE svg PUBLIC \"-//W3C//DTD SVG 1.1//EN\"\n",
       " \"http://www.w3.org/Graphics/SVG/1.1/DTD/svg11.dtd\">\n",
       "<!-- Generated by graphviz version 2.42.3 (20191010.1750)\n",
       " -->\n",
       "<!-- Title: DecayChainGraph Pages: 1 -->\n",
       "<svg width=\"216pt\" height=\"152pt\"\n",
       " viewBox=\"0.00 0.00 216.08 152.00\" xmlns=\"http://www.w3.org/2000/svg\" xmlns:xlink=\"http://www.w3.org/1999/xlink\">\n",
       "<g id=\"graph0\" class=\"graph\" transform=\"scale(1 1) rotate(0) translate(4 148)\">\n",
       "<title>DecayChainGraph</title>\n",
       "<polygon fill=\"white\" stroke=\"transparent\" points=\"-4,4 -4,-148 212.08,-148 212.08,4 -4,4\"/>\n",
       "<!-- mother -->\n",
       "<g id=\"node1\" class=\"node\">\n",
       "<title>mother</title>\n",
       "<polygon fill=\"#568dba\" stroke=\"transparent\" points=\"8,-60 8,-84 69,-84 69,-60 8,-60\"/>\n",
       "<polygon fill=\"none\" stroke=\"black\" points=\"8.5,-60 8.5,-84 69.5,-84 69.5,-60 8.5,-60\"/>\n",
       "<text text-anchor=\"start\" x=\"14.5\" y=\"-70.2\" font-family=\"Helvetica,sans-Serif\" font-size=\"11.00\">D</text>\n",
       "<text text-anchor=\"start\" x=\"23.5\" y=\"-70.2\" font-family=\"Helvetica,sans-Serif\" baseline-shift=\"super\" font-size=\"11.00\">*</text>\n",
       "<text text-anchor=\"start\" x=\"27.5\" y=\"-70.2\" font-family=\"Helvetica,sans-Serif\" font-size=\"11.00\">(2010)</text>\n",
       "<text text-anchor=\"start\" x=\"59.5\" y=\"-70.2\" font-family=\"Helvetica,sans-Serif\" baseline-shift=\"super\" font-size=\"11.00\">&#45;</text>\n",
       "</g>\n",
       "<!-- dec26 -->\n",
       "<g id=\"node2\" class=\"node\">\n",
       "<title>dec26</title>\n",
       "<ellipse fill=\"#eef3f8\" stroke=\"black\" cx=\"174.54\" cy=\"-126\" rx=\"33.58\" ry=\"18\"/>\n",
       "<polygon fill=\"#eef3f8\" stroke=\"transparent\" points=\"157.54,-118 157.54,-134 191.54,-134 191.54,-118 157.54,-118\"/>\n",
       "<text text-anchor=\"start\" x=\"159.54\" y=\"-124.2\" font-family=\"Helvetica,sans-Serif\" font-size=\"11.00\">D̅</text>\n",
       "<text text-anchor=\"start\" x=\"168.54\" y=\"-124.2\" font-family=\"Helvetica,sans-Serif\" baseline-shift=\"super\" font-size=\"11.00\">0</text>\n",
       "<text text-anchor=\"start\" x=\"178.54\" y=\"-124.2\" font-family=\"Helvetica,sans-Serif\" font-size=\"11.00\">π</text>\n",
       "<text text-anchor=\"start\" x=\"185.54\" y=\"-124.2\" font-family=\"Helvetica,sans-Serif\" baseline-shift=\"super\" font-size=\"11.00\">&#45;</text>\n",
       "</g>\n",
       "<!-- mother&#45;&gt;dec26 -->\n",
       "<g id=\"edge1\" class=\"edge\">\n",
       "<title>mother&#45;&gt;dec26</title>\n",
       "<path fill=\"none\" stroke=\"black\" d=\"M77.19,-87.19C96.19,-94.84 119.09,-104.06 137.8,-111.6\"/>\n",
       "<polygon fill=\"black\" stroke=\"black\" points=\"136.58,-114.88 147.16,-115.37 139.19,-108.39 136.58,-114.88\"/>\n",
       "<text text-anchor=\"middle\" x=\"109\" y=\"-108.2\" font-family=\"Times,serif\" font-size=\"11.00\" fill=\"#4c4c4c\">0.677</text>\n",
       "</g>\n",
       "<!-- dec27 -->\n",
       "<g id=\"node3\" class=\"node\">\n",
       "<title>dec27</title>\n",
       "<ellipse fill=\"#eef3f8\" stroke=\"black\" cx=\"174.54\" cy=\"-72\" rx=\"33.58\" ry=\"18\"/>\n",
       "<polygon fill=\"#eef3f8\" stroke=\"transparent\" points=\"157.54,-64 157.54,-80 191.54,-80 191.54,-64 157.54,-64\"/>\n",
       "<text text-anchor=\"start\" x=\"159.54\" y=\"-70.2\" font-family=\"Helvetica,sans-Serif\" font-size=\"11.00\">D</text>\n",
       "<text text-anchor=\"start\" x=\"168.54\" y=\"-70.2\" font-family=\"Helvetica,sans-Serif\" baseline-shift=\"super\" font-size=\"11.00\">&#45;</text>\n",
       "<text text-anchor=\"start\" x=\"176.54\" y=\"-70.2\" font-family=\"Helvetica,sans-Serif\" font-size=\"11.00\">π</text>\n",
       "<text text-anchor=\"start\" x=\"183.54\" y=\"-70.2\" font-family=\"Helvetica,sans-Serif\" baseline-shift=\"super\" font-size=\"11.00\">0</text>\n",
       "</g>\n",
       "<!-- mother&#45;&gt;dec27 -->\n",
       "<g id=\"edge2\" class=\"edge\">\n",
       "<title>mother&#45;&gt;dec27</title>\n",
       "<path fill=\"none\" stroke=\"black\" d=\"M77.19,-72C93.74,-72 113.25,-72 130.38,-72\"/>\n",
       "<polygon fill=\"black\" stroke=\"black\" points=\"130.68,-75.5 140.68,-72 130.68,-68.5 130.68,-75.5\"/>\n",
       "<text text-anchor=\"middle\" x=\"109\" y=\"-75.2\" font-family=\"Times,serif\" font-size=\"11.00\" fill=\"#4c4c4c\">0.307</text>\n",
       "</g>\n",
       "<!-- dec28 -->\n",
       "<g id=\"node4\" class=\"node\">\n",
       "<title>dec28</title>\n",
       "<ellipse fill=\"#eef3f8\" stroke=\"black\" cx=\"174.54\" cy=\"-18\" rx=\"29.53\" ry=\"18\"/>\n",
       "<polygon fill=\"#eef3f8\" stroke=\"transparent\" points=\"160.54,-10 160.54,-26 188.54,-26 188.54,-10 160.54,-10\"/>\n",
       "<text text-anchor=\"start\" x=\"162.54\" y=\"-16.2\" font-family=\"Helvetica,sans-Serif\" font-size=\"11.00\">D</text>\n",
       "<text text-anchor=\"start\" x=\"171.54\" y=\"-16.2\" font-family=\"Helvetica,sans-Serif\" baseline-shift=\"super\" font-size=\"11.00\">&#45;</text>\n",
       "<text text-anchor=\"start\" x=\"179.54\" y=\"-15.2\" font-family=\"Helvetica,sans-Serif\" font-size=\"11.00\">γ</text>\n",
       "</g>\n",
       "<!-- mother&#45;&gt;dec28 -->\n",
       "<g id=\"edge3\" class=\"edge\">\n",
       "<title>mother&#45;&gt;dec28</title>\n",
       "<path fill=\"none\" stroke=\"black\" d=\"M77.19,-56.81C96.98,-48.84 121,-39.17 140.12,-31.47\"/>\n",
       "<polygon fill=\"black\" stroke=\"black\" points=\"141.65,-34.62 149.61,-27.64 139.03,-28.13 141.65,-34.62\"/>\n",
       "<text text-anchor=\"middle\" x=\"109\" y=\"-51.2\" font-family=\"Times,serif\" font-size=\"11.00\" fill=\"#4c4c4c\">0.016</text>\n",
       "</g>\n",
       "</g>\n",
       "</svg>\n"
      ],
      "text/plain": [
       "<decaylanguage.decay.viewer.DecayChainViewer at 0x7fe6408e2960>"
      ]
     },
     "execution_count": 74,
     "metadata": {},
     "output_type": "execute_result"
    }
   ],
   "source": [
    "dc_cc = dfp_Dst.build_decay_chains('D*-', stable_particles=['D-', 'anti-D0', 'pi0'])\n",
    "DecayChainViewer(dc_cc)"
   ]
  },
  {
   "cell_type": "markdown",
   "metadata": {
    "slideshow": {
     "slide_type": "subslide"
    }
   },
   "source": [
    "#### **Parsing several files**\n",
    "\n",
    "Typically useful when the user decay file needs information from the master decay file."
   ]
  },
  {
   "cell_type": "code",
   "execution_count": 75,
   "metadata": {},
   "outputs": [],
   "source": [
    "s = u\"\"\"\n",
    "Alias      MyXic+              Xi_c+\n",
    "Alias      MyantiXic-          anti-Xi_c-\n",
    "ChargeConj MyXic+              MyantiXic-\n",
    "\n",
    "Decay Xi_cc+sig\n",
    "  1.000       MyXic+    pi-    pi+       PHSP;\n",
    "Enddecay\n",
    "CDecay anti-Xi_cc-sig\n",
    "\n",
    "Decay MyXic+\n",
    "  1.000       p+    K-    pi+       PHSP;\n",
    "Enddecay\n",
    "CDecay MyantiXic-\n",
    "\n",
    "End\n",
    "\"\"\""
   ]
  },
  {
   "cell_type": "code",
   "execution_count": 76,
   "metadata": {
    "slideshow": {
     "slide_type": "subslide"
    }
   },
   "outputs": [
    {
     "name": "stderr",
     "output_type": "stream",
     "text": [
      "/srv/conda/envs/notebook/lib/python3.7/site-packages/decaylanguage/dec/dec.py:447: UserWarning: \n",
      "Corresponding 'Decay' statement for 'CDecay' statement(s) of following particle(s) not found:\n",
      "anti-Xi_cc-sig.\n",
      "Skipping creation of these charge-conjugate decay trees.\n",
      "  warnings.warn(msg)\n"
     ]
    },
    {
     "data": {
      "text/plain": [
       "<DecFileParser: decfile(s)=<dec file input as a string>, n_decays=3>"
      ]
     },
     "execution_count": 76,
     "metadata": {},
     "output_type": "execute_result"
    }
   ],
   "source": [
    "dfp = DecFileParser.from_string(s)\n",
    "dfp.parse()\n",
    "dfp"
   ]
  },
  {
   "cell_type": "markdown",
   "metadata": {},
   "source": [
    "Note the subtletly: 3, not 4 decays, are found! This is because the file contains no statement\n",
    "`ChargeConj anti-Xi_cc-sigXi_cc+sig`, hence the parser cannot know to which particle (matching `Decay` statement) the charge-conjugate decay of `anti-Xi_cc-sig` relates to (code does not rely on position of statements to guess ;-))."
   ]
  },
  {
   "cell_type": "code",
   "execution_count": 77,
   "metadata": {
    "slideshow": {
     "slide_type": "subslide"
    }
   },
   "outputs": [
    {
     "data": {
      "image/svg+xml": [
       "<?xml version=\"1.0\" encoding=\"UTF-8\" standalone=\"no\"?>\n",
       "<!DOCTYPE svg PUBLIC \"-//W3C//DTD SVG 1.1//EN\"\n",
       " \"http://www.w3.org/Graphics/SVG/1.1/DTD/svg11.dtd\">\n",
       "<!-- Generated by graphviz version 2.42.3 (20191010.1750)\n",
       " -->\n",
       "<!-- Title: DecayChainGraph Pages: 1 -->\n",
       "<svg width=\"336pt\" height=\"90pt\"\n",
       " viewBox=\"0.00 0.00 336.50 90.00\" xmlns=\"http://www.w3.org/2000/svg\" xmlns:xlink=\"http://www.w3.org/1999/xlink\">\n",
       "<g id=\"graph0\" class=\"graph\" transform=\"scale(1 1) rotate(0) translate(4 86)\">\n",
       "<title>DecayChainGraph</title>\n",
       "<polygon fill=\"white\" stroke=\"transparent\" points=\"-4,4 -4,-86 332.5,-86 332.5,4 -4,4\"/>\n",
       "<!-- mother -->\n",
       "<g id=\"node1\" class=\"node\">\n",
       "<title>mother</title>\n",
       "<polygon fill=\"#568dba\" stroke=\"transparent\" points=\"8,-28 8,-52 69,-52 69,-28 8,-28\"/>\n",
       "<polygon fill=\"none\" stroke=\"black\" points=\"8.5,-28 8.5,-52 69.5,-52 69.5,-28 8.5,-28\"/>\n",
       "<text text-anchor=\"start\" x=\"14.5\" y=\"-37.2\" font-family=\"Helvetica,sans-Serif\" font-size=\"11.00\">Xi_cc+sig</text>\n",
       "</g>\n",
       "<!-- dec29 -->\n",
       "<g id=\"node2\" class=\"node\">\n",
       "<title>dec29</title>\n",
       "<polygon fill=\"#9abad6\" stroke=\"transparent\" points=\"137,-4 137,-76 188,-76 188,-4 137,-4\"/>\n",
       "<polygon fill=\"none\" stroke=\"black\" points=\"137.5,-52 137.5,-76 188.5,-76 188.5,-52 137.5,-52\"/>\n",
       "<text text-anchor=\"start\" x=\"143.5\" y=\"-61.2\" font-family=\"Helvetica,sans-Serif\" font-size=\"11.00\">MyXic+</text>\n",
       "<polygon fill=\"none\" stroke=\"black\" points=\"137.5,-28 137.5,-52 188.5,-52 188.5,-28 137.5,-28\"/>\n",
       "<text text-anchor=\"start\" x=\"157.5\" y=\"-38.2\" font-family=\"Helvetica,sans-Serif\" font-size=\"11.00\">π</text>\n",
       "<text text-anchor=\"start\" x=\"164.5\" y=\"-38.2\" font-family=\"Helvetica,sans-Serif\" baseline-shift=\"super\" font-size=\"11.00\">&#45;</text>\n",
       "<polygon fill=\"none\" stroke=\"black\" points=\"137.5,-4 137.5,-28 188.5,-28 188.5,-4 137.5,-4\"/>\n",
       "<text text-anchor=\"start\" x=\"156.5\" y=\"-14.2\" font-family=\"Helvetica,sans-Serif\" font-size=\"11.00\">π</text>\n",
       "<text text-anchor=\"start\" x=\"163.5\" y=\"-14.2\" font-family=\"Helvetica,sans-Serif\" baseline-shift=\"super\" font-size=\"11.00\">+</text>\n",
       "</g>\n",
       "<!-- mother&#45;&gt;dec29 -->\n",
       "<g id=\"edge1\" class=\"edge\">\n",
       "<title>mother&#45;&gt;dec29</title>\n",
       "<path fill=\"none\" stroke=\"black\" d=\"M77.1,-40C90.27,-40 105.15,-40 118.71,-40\"/>\n",
       "<polygon fill=\"black\" stroke=\"black\" points=\"118.77,-43.5 128.77,-40 118.77,-36.5 118.77,-43.5\"/>\n",
       "<text text-anchor=\"middle\" x=\"103\" y=\"-43.2\" font-family=\"Times,serif\" font-size=\"11.00\" fill=\"#4c4c4c\">1.0</text>\n",
       "</g>\n",
       "<!-- dec30 -->\n",
       "<g id=\"node3\" class=\"node\">\n",
       "<title>dec30</title>\n",
       "<ellipse fill=\"#eef3f8\" stroke=\"black\" cx=\"288.25\" cy=\"-64\" rx=\"40.5\" ry=\"18\"/>\n",
       "<polygon fill=\"#eef3f8\" stroke=\"transparent\" points=\"266.25,-56 266.25,-72 310.25,-72 310.25,-56 266.25,-56\"/>\n",
       "<text text-anchor=\"start\" x=\"268.25\" y=\"-61.2\" font-family=\"Helvetica,sans-Serif\" font-size=\"11.00\">p</text>\n",
       "<text text-anchor=\"start\" x=\"279.25\" y=\"-62.2\" font-family=\"Helvetica,sans-Serif\" font-size=\"11.00\">K</text>\n",
       "<text text-anchor=\"start\" x=\"287.25\" y=\"-62.2\" font-family=\"Helvetica,sans-Serif\" baseline-shift=\"super\" font-size=\"11.00\">&#45;</text>\n",
       "<text text-anchor=\"start\" x=\"295.25\" y=\"-62.2\" font-family=\"Helvetica,sans-Serif\" font-size=\"11.00\">π</text>\n",
       "<text text-anchor=\"start\" x=\"302.25\" y=\"-62.2\" font-family=\"Helvetica,sans-Serif\" baseline-shift=\"super\" font-size=\"11.00\">+</text>\n",
       "</g>\n",
       "<!-- dec29&#45;&gt;dec30 -->\n",
       "<g id=\"edge2\" class=\"edge\">\n",
       "<title>dec29:p0&#45;&gt;dec30</title>\n",
       "<path fill=\"none\" stroke=\"black\" d=\"M189.5,-64C205.08,-64 222.06,-64 237.43,-64\"/>\n",
       "<polygon fill=\"black\" stroke=\"black\" points=\"237.77,-67.5 247.77,-64 237.77,-60.5 237.77,-67.5\"/>\n",
       "<text text-anchor=\"middle\" x=\"222\" y=\"-67.2\" font-family=\"Times,serif\" font-size=\"11.00\" fill=\"#4c4c4c\">1.0</text>\n",
       "</g>\n",
       "</g>\n",
       "</svg>\n"
      ],
      "text/plain": [
       "<decaylanguage.decay.viewer.DecayChainViewer at 0x7fe6408e78c0>"
      ]
     },
     "execution_count": 77,
     "metadata": {},
     "output_type": "execute_result"
    }
   ],
   "source": [
    "d = dfp.build_decay_chains('Xi_cc+sig')\n",
    "DecayChainViewer(d)"
   ]
  },
  {
   "cell_type": "markdown",
   "metadata": {
    "slideshow": {
     "slide_type": "subslide"
    }
   },
   "source": [
    "As said in the warning, the information provided is not enough for the anti-Xi_cc-sig to make sense:"
   ]
  },
  {
   "cell_type": "code",
   "execution_count": 78,
   "metadata": {},
   "outputs": [
    {
     "name": "stdout",
     "output_type": "stream",
     "text": [
      "Decays of particle 'anti-Xi_cc-sig' not found in .dec file!\n"
     ]
    }
   ],
   "source": [
    "from decaylanguage.dec.dec import DecayNotFound\n",
    "\n",
    "try:\n",
    "    d = dfp.build_decay_chains('anti-Xi_cc-sig')\n",
    "except DecayNotFound:\n",
    "    print(\"Decays of particle 'anti-Xi_cc-sig' not found in .dec file!\")"
   ]
  },
  {
   "cell_type": "markdown",
   "metadata": {},
   "source": [
    "But the missing information is easily providing **parsing two files simultaneously ...!** (Any number of files is allowed.)"
   ]
  },
  {
   "cell_type": "code",
   "execution_count": 79,
   "metadata": {
    "slideshow": {
     "slide_type": "subslide"
    }
   },
   "outputs": [],
   "source": [
    "from tempfile import NamedTemporaryFile\n",
    "\n",
    "with NamedTemporaryFile(delete=False) as tf:\n",
    "    tf.write(s.encode('utf-8'))\n",
    "    \n",
    "dfp = DecFileParser(tf.name, 'data/DECAY_LHCB.DEC')\n",
    "dfp.parse()"
   ]
  },
  {
   "cell_type": "code",
   "execution_count": 80,
   "metadata": {
    "slideshow": {
     "slide_type": "subslide"
    }
   },
   "outputs": [
    {
     "data": {
      "image/svg+xml": [
       "<?xml version=\"1.0\" encoding=\"UTF-8\" standalone=\"no\"?>\n",
       "<!DOCTYPE svg PUBLIC \"-//W3C//DTD SVG 1.1//EN\"\n",
       " \"http://www.w3.org/Graphics/SVG/1.1/DTD/svg11.dtd\">\n",
       "<!-- Generated by graphviz version 2.42.3 (20191010.1750)\n",
       " -->\n",
       "<!-- Title: DecayChainGraph Pages: 1 -->\n",
       "<svg width=\"336pt\" height=\"90pt\"\n",
       " viewBox=\"0.00 0.00 336.50 90.00\" xmlns=\"http://www.w3.org/2000/svg\" xmlns:xlink=\"http://www.w3.org/1999/xlink\">\n",
       "<g id=\"graph0\" class=\"graph\" transform=\"scale(1 1) rotate(0) translate(4 86)\">\n",
       "<title>DecayChainGraph</title>\n",
       "<polygon fill=\"white\" stroke=\"transparent\" points=\"-4,4 -4,-86 332.5,-86 332.5,4 -4,4\"/>\n",
       "<!-- mother -->\n",
       "<g id=\"node1\" class=\"node\">\n",
       "<title>mother</title>\n",
       "<polygon fill=\"#568dba\" stroke=\"transparent\" points=\"8,-28 8,-52 69,-52 69,-28 8,-28\"/>\n",
       "<polygon fill=\"none\" stroke=\"black\" points=\"8.5,-28 8.5,-52 69.5,-52 69.5,-28 8.5,-28\"/>\n",
       "<text text-anchor=\"start\" x=\"14.5\" y=\"-37.2\" font-family=\"Helvetica,sans-Serif\" font-size=\"11.00\">Xi_cc+sig</text>\n",
       "</g>\n",
       "<!-- dec31 -->\n",
       "<g id=\"node2\" class=\"node\">\n",
       "<title>dec31</title>\n",
       "<polygon fill=\"#9abad6\" stroke=\"transparent\" points=\"137,-4 137,-76 188,-76 188,-4 137,-4\"/>\n",
       "<polygon fill=\"none\" stroke=\"black\" points=\"137.5,-52 137.5,-76 188.5,-76 188.5,-52 137.5,-52\"/>\n",
       "<text text-anchor=\"start\" x=\"143.5\" y=\"-61.2\" font-family=\"Helvetica,sans-Serif\" font-size=\"11.00\">MyXic+</text>\n",
       "<polygon fill=\"none\" stroke=\"black\" points=\"137.5,-28 137.5,-52 188.5,-52 188.5,-28 137.5,-28\"/>\n",
       "<text text-anchor=\"start\" x=\"157.5\" y=\"-38.2\" font-family=\"Helvetica,sans-Serif\" font-size=\"11.00\">π</text>\n",
       "<text text-anchor=\"start\" x=\"164.5\" y=\"-38.2\" font-family=\"Helvetica,sans-Serif\" baseline-shift=\"super\" font-size=\"11.00\">&#45;</text>\n",
       "<polygon fill=\"none\" stroke=\"black\" points=\"137.5,-4 137.5,-28 188.5,-28 188.5,-4 137.5,-4\"/>\n",
       "<text text-anchor=\"start\" x=\"156.5\" y=\"-14.2\" font-family=\"Helvetica,sans-Serif\" font-size=\"11.00\">π</text>\n",
       "<text text-anchor=\"start\" x=\"163.5\" y=\"-14.2\" font-family=\"Helvetica,sans-Serif\" baseline-shift=\"super\" font-size=\"11.00\">+</text>\n",
       "</g>\n",
       "<!-- mother&#45;&gt;dec31 -->\n",
       "<g id=\"edge1\" class=\"edge\">\n",
       "<title>mother&#45;&gt;dec31</title>\n",
       "<path fill=\"none\" stroke=\"black\" d=\"M77.1,-40C90.27,-40 105.15,-40 118.71,-40\"/>\n",
       "<polygon fill=\"black\" stroke=\"black\" points=\"118.77,-43.5 128.77,-40 118.77,-36.5 118.77,-43.5\"/>\n",
       "<text text-anchor=\"middle\" x=\"103\" y=\"-43.2\" font-family=\"Times,serif\" font-size=\"11.00\" fill=\"#4c4c4c\">1.0</text>\n",
       "</g>\n",
       "<!-- dec32 -->\n",
       "<g id=\"node3\" class=\"node\">\n",
       "<title>dec32</title>\n",
       "<ellipse fill=\"#eef3f8\" stroke=\"black\" cx=\"288.25\" cy=\"-64\" rx=\"40.5\" ry=\"18\"/>\n",
       "<polygon fill=\"#eef3f8\" stroke=\"transparent\" points=\"266.25,-56 266.25,-72 310.25,-72 310.25,-56 266.25,-56\"/>\n",
       "<text text-anchor=\"start\" x=\"268.25\" y=\"-61.2\" font-family=\"Helvetica,sans-Serif\" font-size=\"11.00\">p</text>\n",
       "<text text-anchor=\"start\" x=\"279.25\" y=\"-62.2\" font-family=\"Helvetica,sans-Serif\" font-size=\"11.00\">K</text>\n",
       "<text text-anchor=\"start\" x=\"287.25\" y=\"-62.2\" font-family=\"Helvetica,sans-Serif\" baseline-shift=\"super\" font-size=\"11.00\">&#45;</text>\n",
       "<text text-anchor=\"start\" x=\"295.25\" y=\"-62.2\" font-family=\"Helvetica,sans-Serif\" font-size=\"11.00\">π</text>\n",
       "<text text-anchor=\"start\" x=\"302.25\" y=\"-62.2\" font-family=\"Helvetica,sans-Serif\" baseline-shift=\"super\" font-size=\"11.00\">+</text>\n",
       "</g>\n",
       "<!-- dec31&#45;&gt;dec32 -->\n",
       "<g id=\"edge2\" class=\"edge\">\n",
       "<title>dec31:p0&#45;&gt;dec32</title>\n",
       "<path fill=\"none\" stroke=\"black\" d=\"M189.5,-64C205.08,-64 222.06,-64 237.43,-64\"/>\n",
       "<polygon fill=\"black\" stroke=\"black\" points=\"237.77,-67.5 247.77,-64 237.77,-60.5 237.77,-67.5\"/>\n",
       "<text text-anchor=\"middle\" x=\"222\" y=\"-67.2\" font-family=\"Times,serif\" font-size=\"11.00\" fill=\"#4c4c4c\">1.0</text>\n",
       "</g>\n",
       "</g>\n",
       "</svg>\n"
      ],
      "text/plain": [
       "<decaylanguage.decay.viewer.DecayChainViewer at 0x7fe6408050f0>"
      ]
     },
     "execution_count": 80,
     "metadata": {},
     "output_type": "execute_result"
    }
   ],
   "source": [
    "dc = dfp.build_decay_chains('Xi_cc+sig')\n",
    "\n",
    "DecayChainViewer(dc)"
   ]
  },
  {
   "cell_type": "code",
   "execution_count": 81,
   "metadata": {
    "slideshow": {
     "slide_type": "subslide"
    }
   },
   "outputs": [
    {
     "data": {
      "image/svg+xml": [
       "<?xml version=\"1.0\" encoding=\"UTF-8\" standalone=\"no\"?>\n",
       "<!DOCTYPE svg PUBLIC \"-//W3C//DTD SVG 1.1//EN\"\n",
       " \"http://www.w3.org/Graphics/SVG/1.1/DTD/svg11.dtd\">\n",
       "<!-- Generated by graphviz version 2.42.3 (20191010.1750)\n",
       " -->\n",
       "<!-- Title: DecayChainGraph Pages: 1 -->\n",
       "<svg width=\"368pt\" height=\"90pt\"\n",
       " viewBox=\"0.00 0.00 368.50 90.00\" xmlns=\"http://www.w3.org/2000/svg\" xmlns:xlink=\"http://www.w3.org/1999/xlink\">\n",
       "<g id=\"graph0\" class=\"graph\" transform=\"scale(1 1) rotate(0) translate(4 86)\">\n",
       "<title>DecayChainGraph</title>\n",
       "<polygon fill=\"white\" stroke=\"transparent\" points=\"-4,4 -4,-86 364.5,-86 364.5,4 -4,4\"/>\n",
       "<!-- mother -->\n",
       "<g id=\"node1\" class=\"node\">\n",
       "<title>mother</title>\n",
       "<polygon fill=\"#568dba\" stroke=\"transparent\" points=\"8,-28 8,-52 87,-52 87,-28 8,-28\"/>\n",
       "<polygon fill=\"none\" stroke=\"black\" points=\"8.5,-28 8.5,-52 87.5,-52 87.5,-28 8.5,-28\"/>\n",
       "<text text-anchor=\"start\" x=\"14.5\" y=\"-37.2\" font-family=\"Helvetica,sans-Serif\" font-size=\"11.00\">anti&#45;Xi_cc&#45;sig</text>\n",
       "</g>\n",
       "<!-- dec33 -->\n",
       "<g id=\"node2\" class=\"node\">\n",
       "<title>dec33</title>\n",
       "<polygon fill=\"#9abad6\" stroke=\"transparent\" points=\"155,-4 155,-76 220,-76 220,-4 155,-4\"/>\n",
       "<polygon fill=\"none\" stroke=\"black\" points=\"155.5,-52 155.5,-76 220.5,-76 220.5,-52 155.5,-52\"/>\n",
       "<text text-anchor=\"start\" x=\"161.5\" y=\"-61.2\" font-family=\"Helvetica,sans-Serif\" font-size=\"11.00\">MyantiXic&#45;</text>\n",
       "<polygon fill=\"none\" stroke=\"black\" points=\"155.5,-28 155.5,-52 220.5,-52 220.5,-28 155.5,-28\"/>\n",
       "<text text-anchor=\"start\" x=\"181.5\" y=\"-38.2\" font-family=\"Helvetica,sans-Serif\" font-size=\"11.00\">π</text>\n",
       "<text text-anchor=\"start\" x=\"188.5\" y=\"-38.2\" font-family=\"Helvetica,sans-Serif\" baseline-shift=\"super\" font-size=\"11.00\">+</text>\n",
       "<polygon fill=\"none\" stroke=\"black\" points=\"155.5,-4 155.5,-28 220.5,-28 220.5,-4 155.5,-4\"/>\n",
       "<text text-anchor=\"start\" x=\"182.5\" y=\"-14.2\" font-family=\"Helvetica,sans-Serif\" font-size=\"11.00\">π</text>\n",
       "<text text-anchor=\"start\" x=\"189.5\" y=\"-14.2\" font-family=\"Helvetica,sans-Serif\" baseline-shift=\"super\" font-size=\"11.00\">&#45;</text>\n",
       "</g>\n",
       "<!-- mother&#45;&gt;dec33 -->\n",
       "<g id=\"edge1\" class=\"edge\">\n",
       "<title>mother&#45;&gt;dec33</title>\n",
       "<path fill=\"none\" stroke=\"black\" d=\"M95.22,-40C108.55,-40 123.13,-40 136.65,-40\"/>\n",
       "<polygon fill=\"black\" stroke=\"black\" points=\"136.74,-43.5 146.74,-40 136.74,-36.5 136.74,-43.5\"/>\n",
       "<text text-anchor=\"middle\" x=\"121\" y=\"-43.2\" font-family=\"Times,serif\" font-size=\"11.00\" fill=\"#4c4c4c\">1.0</text>\n",
       "</g>\n",
       "<!-- dec34 -->\n",
       "<g id=\"node3\" class=\"node\">\n",
       "<title>dec34</title>\n",
       "<ellipse fill=\"#eef3f8\" stroke=\"black\" cx=\"320.25\" cy=\"-64\" rx=\"40.5\" ry=\"18\"/>\n",
       "<polygon fill=\"#eef3f8\" stroke=\"transparent\" points=\"298.25,-56 298.25,-72 342.25,-72 342.25,-56 298.25,-56\"/>\n",
       "<text text-anchor=\"start\" x=\"300.25\" y=\"-61.2\" font-family=\"Helvetica,sans-Serif\" font-size=\"11.00\">p̅</text>\n",
       "<text text-anchor=\"start\" x=\"311.25\" y=\"-62.2\" font-family=\"Helvetica,sans-Serif\" font-size=\"11.00\">K</text>\n",
       "<text text-anchor=\"start\" x=\"319.25\" y=\"-62.2\" font-family=\"Helvetica,sans-Serif\" baseline-shift=\"super\" font-size=\"11.00\">+</text>\n",
       "<text text-anchor=\"start\" x=\"329.25\" y=\"-62.2\" font-family=\"Helvetica,sans-Serif\" font-size=\"11.00\">π</text>\n",
       "<text text-anchor=\"start\" x=\"336.25\" y=\"-62.2\" font-family=\"Helvetica,sans-Serif\" baseline-shift=\"super\" font-size=\"11.00\">&#45;</text>\n",
       "</g>\n",
       "<!-- dec33&#45;&gt;dec34 -->\n",
       "<g id=\"edge2\" class=\"edge\">\n",
       "<title>dec33:p0&#45;&gt;dec34</title>\n",
       "<path fill=\"none\" stroke=\"black\" d=\"M221.5,-64C237.08,-64 254.06,-64 269.43,-64\"/>\n",
       "<polygon fill=\"black\" stroke=\"black\" points=\"269.77,-67.5 279.77,-64 269.77,-60.5 269.77,-67.5\"/>\n",
       "<text text-anchor=\"middle\" x=\"254\" y=\"-67.2\" font-family=\"Times,serif\" font-size=\"11.00\" fill=\"#4c4c4c\">1.0</text>\n",
       "</g>\n",
       "</g>\n",
       "</svg>\n"
      ],
      "text/plain": [
       "<decaylanguage.decay.viewer.DecayChainViewer at 0x7fe65cad0c80>"
      ]
     },
     "execution_count": 81,
     "metadata": {},
     "output_type": "execute_result"
    }
   ],
   "source": [
    "dc_cc = dfp.build_decay_chains('anti-Xi_cc-sig')\n",
    "\n",
    "DecayChainViewer(dc_cc)"
   ]
  },
  {
   "cell_type": "markdown",
   "metadata": {},
   "source": [
    "Want to save a graph? Try for example \n",
    "```\n",
    "dcv = DecayChainViewer(...)\n",
    "dcv.graph.write_pdf('test.pdf')\n",
    "```"
   ]
  },
  {
   "cell_type": "markdown",
   "metadata": {
    "slideshow": {
     "slide_type": "slide"
    }
   },
   "source": [
    "### **4. Representation of decay chains**\n",
    "\n",
    "<span style=\"color:green\">The universal (and digital) representation of decay chains is of interest well outside the context of decay file parsing!</span>"
   ]
  },
  {
   "cell_type": "markdown",
   "metadata": {
    "slideshow": {
     "slide_type": "subslide"
    }
   },
   "source": [
    "#### Building blocks\n",
    "\n",
    "- A <span style=\"color:green\">daughters list</span> - list of final-state particles.\n",
    "- A <span style=\"color:green\">decay mode</span> - typically a branching fraction and a list of final-state particles (may also contain _any_ metadata such as decay model and optional decay-model parameters, as defined for example in .dec decay files).\n",
    "- A <span style=\"color:green\">decay chain</span> - can be seen as a mother particle and a list of decay modes."
   ]
  },
  {
   "cell_type": "code",
   "execution_count": 82,
   "metadata": {
    "slideshow": {
     "slide_type": "subslide"
    }
   },
   "outputs": [],
   "source": [
    "from decaylanguage.decay.decay import DaughtersDict, DecayMode, DecayChain"
   ]
  },
  {
   "cell_type": "markdown",
   "metadata": {},
   "source": [
    "**Daughters list** (actually a ``Counter`` dictionary, internally):"
   ]
  },
  {
   "cell_type": "code",
   "execution_count": 83,
   "metadata": {
    "slideshow": {
     "slide_type": "subslide"
    }
   },
   "outputs": [
    {
     "data": {
      "text/plain": [
       "<DaughtersDict: ['K+', 'K-', 'pi0']>"
      ]
     },
     "execution_count": 83,
     "metadata": {},
     "output_type": "execute_result"
    }
   ],
   "source": [
    "# Constructor from a dictionary\n",
    "dd = DaughtersDict({'K+': 1, 'K-': 2, 'pi+': 1, 'pi0': 1})\n",
    "\n",
    "# Constructor from a list of particle names\n",
    "dd = DaughtersDict(['K+', 'K-', 'K-', 'pi+', 'pi0'])\n",
    "\n",
    "# Constructor from a string representing the final state\n",
    "dd = DaughtersDict('K+ K- pi0')\n",
    "dd"
   ]
  },
  {
   "cell_type": "markdown",
   "metadata": {},
   "source": [
    "#### Decay Modes"
   ]
  },
  {
   "cell_type": "code",
   "execution_count": 84,
   "metadata": {
    "slideshow": {
     "slide_type": "subslide"
    }
   },
   "outputs": [
    {
     "data": {
      "text/plain": [
       "<DecayMode: daughters=nu_tau pi- pi0, BF=0.2551>"
      ]
     },
     "execution_count": 84,
     "metadata": {},
     "output_type": "execute_result"
    }
   ],
   "source": [
    "# A 'default' and hence empty, decay mode\n",
    "dm = DecayMode()\n",
    "\n",
    "# Decay mode with minimal input information\n",
    "dd = DaughtersDict('K+ K-')\n",
    "dm = DecayMode(0.5, dd)\n",
    "\n",
    "# Decay mode with decay model information and user metadata\n",
    "dm = DecayMode(0.2551,                                              # branching fraction\n",
    "               'pi- pi0 nu_tau',                                    # final-state particles\n",
    "               model='TAUHADNU',                                    # decay model\n",
    "               model_params=[-0.108, 0.775, 0.149, 1.364, 0.400],   # decay-model parameters\n",
    "               study='toy', year=2019                               # user metadata\n",
    "              )\n",
    "dm"
   ]
  },
  {
   "cell_type": "code",
   "execution_count": 85,
   "metadata": {
    "slideshow": {
     "slide_type": "subslide"
    }
   },
   "outputs": [
    {
     "name": "stdout",
     "output_type": "stream",
     "text": [
      "Daughters: pi- pi0 nu_tau , BF: 0.2551         \n",
      "    Decay model: TAUHADNU [-0.108, 0.775, 0.149, 1.364, 0.4]\n",
      "    Extra info:\n",
      "        study: toy\n",
      "        year: 2019\n",
      "\n"
     ]
    }
   ],
   "source": [
    "print(dm.describe())"
   ]
  },
  {
   "cell_type": "markdown",
   "metadata": {
    "slideshow": {
     "slide_type": "subslide"
    }
   },
   "source": [
    "Various manipulations are available:"
   ]
  },
  {
   "cell_type": "code",
   "execution_count": 86,
   "metadata": {},
   "outputs": [
    {
     "name": "stdout",
     "output_type": "stream",
     "text": [
      "<DecayMode: daughters=K+ K-, BF=0.5>\n"
     ]
    },
    {
     "data": {
      "text/plain": [
       "<DecayMode: daughters=K- K- pi+, BF=1.0>"
      ]
     },
     "execution_count": 86,
     "metadata": {},
     "output_type": "execute_result"
    }
   ],
   "source": [
    "dm = DecayMode.from_pdgids(0.5, [321, -321])\n",
    "print(dm)\n",
    "\n",
    "dm = DecayMode(1.0, 'K+ K+ pi-')\n",
    "dm.charge_conjugate()"
   ]
  },
  {
   "cell_type": "markdown",
   "metadata": {
    "slideshow": {
     "slide_type": "subslide"
    }
   },
   "source": [
    "#### Decay chains "
   ]
  },
  {
   "cell_type": "code",
   "execution_count": 87,
   "metadata": {},
   "outputs": [
    {
     "data": {
      "text/plain": [
       "<DecayChain: D0 -> K_S0 pi0 (2 sub-decays), BF=0.0124>"
      ]
     },
     "execution_count": 87,
     "metadata": {},
     "output_type": "execute_result"
    }
   ],
   "source": [
    "dm1 = DecayMode(0.0124, 'K_S0 pi0', model='PHSP')\n",
    "dm2 = DecayMode(0.692, 'pi+ pi-')\n",
    "dm3 = DecayMode(0.98823, 'gamma gamma')\n",
    "dc = DecayChain('D0', {'D0':dm1, 'K_S0':dm2, 'pi0':dm3})\n",
    "\n",
    "dc"
   ]
  },
  {
   "cell_type": "code",
   "execution_count": 88,
   "metadata": {},
   "outputs": [
    {
     "data": {
      "text/plain": [
       "{'D0': <DecayMode: daughters=K_S0 pi0, BF=0.0124>,\n",
       " 'K_S0': <DecayMode: daughters=pi+ pi-, BF=0.692>,\n",
       " 'pi0': <DecayMode: daughters=gamma gamma, BF=0.98823>}"
      ]
     },
     "execution_count": 88,
     "metadata": {},
     "output_type": "execute_result"
    }
   ],
   "source": [
    "dc.decays"
   ]
  },
  {
   "cell_type": "markdown",
   "metadata": {
    "slideshow": {
     "slide_type": "subslide"
    }
   },
   "source": [
    "Flatten the decay chain, i.e. replace all intermediate, decaying particles, with their final states:\n",
    "- The BF is now the *visible BF*"
   ]
  },
  {
   "cell_type": "code",
   "execution_count": 89,
   "metadata": {
    "slideshow": {
     "slide_type": "-"
    }
   },
   "outputs": [
    {
     "data": {
      "text/plain": [
       "<DecayChain: D0 -> gamma gamma pi+ pi- (0 sub-decays), BF=0.008479803984>"
      ]
     },
     "execution_count": 89,
     "metadata": {},
     "output_type": "execute_result"
    }
   ],
   "source": [
    "dc.flatten()"
   ]
  },
  {
   "cell_type": "markdown",
   "metadata": {},
   "source": [
    "Of course you can sill just as easily visualise decays defined via this `DecayChain` class:"
   ]
  },
  {
   "cell_type": "code",
   "execution_count": 90,
   "metadata": {
    "slideshow": {
     "slide_type": "subslide"
    }
   },
   "outputs": [
    {
     "data": {
      "image/svg+xml": [
       "<?xml version=\"1.0\" encoding=\"UTF-8\" standalone=\"no\"?>\n",
       "<!DOCTYPE svg PUBLIC \"-//W3C//DTD SVG 1.1//EN\"\n",
       " \"http://www.w3.org/Graphics/SVG/1.1/DTD/svg11.dtd\">\n",
       "<!-- Generated by graphviz version 2.42.3 (20191010.1750)\n",
       " -->\n",
       "<!-- Title: DecayChainGraph Pages: 1 -->\n",
       "<svg width=\"326pt\" height=\"98pt\"\n",
       " viewBox=\"0.00 0.00 326.40 98.00\" xmlns=\"http://www.w3.org/2000/svg\" xmlns:xlink=\"http://www.w3.org/1999/xlink\">\n",
       "<g id=\"graph0\" class=\"graph\" transform=\"scale(1 1) rotate(0) translate(4 94)\">\n",
       "<title>DecayChainGraph</title>\n",
       "<polygon fill=\"white\" stroke=\"transparent\" points=\"-4,4 -4,-94 322.4,-94 322.4,4 -4,4\"/>\n",
       "<!-- mother -->\n",
       "<g id=\"node1\" class=\"node\">\n",
       "<title>mother</title>\n",
       "<polygon fill=\"#568dba\" stroke=\"transparent\" points=\"13.5,-33 13.5,-57 40.5,-57 40.5,-33 13.5,-33\"/>\n",
       "<polygon fill=\"none\" stroke=\"black\" points=\"14,-33 14,-57 41,-57 41,-33 14,-33\"/>\n",
       "<text text-anchor=\"start\" x=\"20\" y=\"-43.2\" font-family=\"Helvetica,sans-Serif\" font-size=\"11.00\">D</text>\n",
       "<text text-anchor=\"start\" x=\"29\" y=\"-43.2\" font-family=\"Helvetica,sans-Serif\" baseline-shift=\"super\" font-size=\"11.00\">0</text>\n",
       "</g>\n",
       "<!-- dec35 -->\n",
       "<g id=\"node2\" class=\"node\">\n",
       "<title>dec35</title>\n",
       "<polygon fill=\"#9abad6\" stroke=\"transparent\" points=\"134.5,-21 134.5,-69 167.5,-69 167.5,-21 134.5,-21\"/>\n",
       "<polygon fill=\"none\" stroke=\"black\" points=\"135,-45 135,-69 168,-69 168,-45 135,-45\"/>\n",
       "<text text-anchor=\"start\" x=\"141\" y=\"-55.2\" font-family=\"Helvetica,sans-Serif\" font-size=\"11.00\">K</text>\n",
       "<text text-anchor=\"start\" x=\"149\" y=\"-55.2\" font-family=\"Helvetica,sans-Serif\" baseline-shift=\"sub\" font-size=\"11.00\">S</text>\n",
       "<text text-anchor=\"start\" x=\"156\" y=\"-55.2\" font-family=\"Helvetica,sans-Serif\" baseline-shift=\"super\" font-size=\"11.00\">0</text>\n",
       "<polygon fill=\"none\" stroke=\"black\" points=\"135,-21 135,-45 168,-45 168,-21 135,-21\"/>\n",
       "<text text-anchor=\"start\" x=\"145\" y=\"-31.2\" font-family=\"Helvetica,sans-Serif\" font-size=\"11.00\">π</text>\n",
       "<text text-anchor=\"start\" x=\"152\" y=\"-31.2\" font-family=\"Helvetica,sans-Serif\" baseline-shift=\"super\" font-size=\"11.00\">0</text>\n",
       "</g>\n",
       "<!-- mother&#45;&gt;dec35 -->\n",
       "<g id=\"edge1\" class=\"edge\">\n",
       "<title>mother&#45;&gt;dec35</title>\n",
       "<path fill=\"none\" stroke=\"black\" d=\"M54.17,-45C71.54,-45 94.57,-45 113.7,-45\"/>\n",
       "<polygon fill=\"black\" stroke=\"black\" points=\"113.87,-48.5 123.87,-45 113.87,-41.5 113.87,-48.5\"/>\n",
       "<text text-anchor=\"middle\" x=\"89\" y=\"-48.2\" font-family=\"Times,serif\" font-size=\"11.00\" fill=\"#4c4c4c\">0.0124</text>\n",
       "</g>\n",
       "<!-- dec36 -->\n",
       "<g id=\"node3\" class=\"node\">\n",
       "<title>dec36</title>\n",
       "<ellipse fill=\"#eef3f8\" stroke=\"black\" cx=\"286.2\" cy=\"-72\" rx=\"32.4\" ry=\"18\"/>\n",
       "<polygon fill=\"#eef3f8\" stroke=\"transparent\" points=\"270.2,-64 270.2,-80 302.2,-80 302.2,-64 270.2,-64\"/>\n",
       "<text text-anchor=\"start\" x=\"272.2\" y=\"-70.2\" font-family=\"Helvetica,sans-Serif\" font-size=\"11.00\">π</text>\n",
       "<text text-anchor=\"start\" x=\"279.2\" y=\"-70.2\" font-family=\"Helvetica,sans-Serif\" baseline-shift=\"super\" font-size=\"11.00\">+</text>\n",
       "<text text-anchor=\"start\" x=\"289.2\" y=\"-70.2\" font-family=\"Helvetica,sans-Serif\" font-size=\"11.00\">π</text>\n",
       "<text text-anchor=\"start\" x=\"296.2\" y=\"-70.2\" font-family=\"Helvetica,sans-Serif\" baseline-shift=\"super\" font-size=\"11.00\">&#45;</text>\n",
       "</g>\n",
       "<!-- dec35&#45;&gt;dec36 -->\n",
       "<g id=\"edge2\" class=\"edge\">\n",
       "<title>dec35:p0&#45;&gt;dec36</title>\n",
       "<path fill=\"none\" stroke=\"black\" d=\"M169,-57C194.64,-57 223.2,-60.64 245.59,-64.33\"/>\n",
       "<polygon fill=\"black\" stroke=\"black\" points=\"245.28,-67.83 255.72,-66.07 246.46,-60.93 245.28,-67.83\"/>\n",
       "<text text-anchor=\"middle\" x=\"216\" y=\"-65.2\" font-family=\"Times,serif\" font-size=\"11.00\" fill=\"#4c4c4c\">0.692</text>\n",
       "</g>\n",
       "<!-- dec37 -->\n",
       "<g id=\"node4\" class=\"node\">\n",
       "<title>dec37</title>\n",
       "<ellipse fill=\"#eef3f8\" stroke=\"black\" cx=\"286.2\" cy=\"-18\" rx=\"27\" ry=\"18\"/>\n",
       "<polygon fill=\"#eef3f8\" stroke=\"transparent\" points=\"275.2,-10 275.2,-26 297.2,-26 297.2,-10 275.2,-10\"/>\n",
       "<text text-anchor=\"start\" x=\"277.2\" y=\"-15.2\" font-family=\"Helvetica,sans-Serif\" font-size=\"11.00\">γ</text>\n",
       "<text text-anchor=\"start\" x=\"288.2\" y=\"-15.2\" font-family=\"Helvetica,sans-Serif\" font-size=\"11.00\">γ</text>\n",
       "</g>\n",
       "<!-- dec35&#45;&gt;dec37 -->\n",
       "<g id=\"edge3\" class=\"edge\">\n",
       "<title>dec35:p1&#45;&gt;dec37</title>\n",
       "<path fill=\"none\" stroke=\"black\" d=\"M169,-33C196.34,-33 227.01,-28.86 249.97,-24.94\"/>\n",
       "<polygon fill=\"black\" stroke=\"black\" points=\"250.7,-28.36 259.93,-23.16 249.47,-21.47 250.7,-28.36\"/>\n",
       "<text text-anchor=\"middle\" x=\"216\" y=\"-34.2\" font-family=\"Times,serif\" font-size=\"11.00\" fill=\"#4c4c4c\">0.98823</text>\n",
       "</g>\n",
       "</g>\n",
       "</svg>\n"
      ],
      "text/plain": [
       "<decaylanguage.decay.viewer.DecayChainViewer at 0x7fe64081af50>"
      ]
     },
     "execution_count": 90,
     "metadata": {},
     "output_type": "execute_result"
    }
   ],
   "source": [
    "DecayChainViewer(dc.to_dict())"
   ]
  },
  {
   "cell_type": "markdown",
   "metadata": {},
   "source": [
    "### **Feeling nostalgic of an $e^+ e^-$ example?**\n",
    "Try out the following:"
   ]
  },
  {
   "cell_type": "code",
   "execution_count": 91,
   "metadata": {},
   "outputs": [
    {
     "data": {
      "text/plain": [
       "<DecFileParser: decfile(s)=<dec file input as a string>, n_decays=7>"
      ]
     },
     "execution_count": 91,
     "metadata": {},
     "output_type": "execute_result"
    }
   ],
   "source": [
    "from decaylanguage import DecFileParser\n",
    "\n",
    "s = \"\"\"\n",
    "Alias B0sig       B0\n",
    "Alias anti-B0sig  anti-B0\n",
    "\n",
    "Define dm 0.507e12\n",
    "Define PKHplus  0.159\n",
    "Define PKHzero  0.775\n",
    "Define PKHminus 0.612\n",
    "Define PKphHplus  1.563\n",
    "Define PKphHzero  0.0\n",
    "Define PKphHminus 2.712\n",
    "\n",
    "Decay Upsilon(4S)\n",
    "0.483122645 B0sig    anti-B0sig   VSS_BMIX dm;\n",
    "Enddecay\n",
    "\n",
    "Decay B0sig\n",
    "0.001330000 J/psi   K*0       SVV_HELAMP PKHplus PKphHplus PKHzero PKphHzero PKHminus PKphHminus;\n",
    "Enddecay\n",
    "\n",
    "Decay anti-B0sig\n",
    "0.000024000 D_s-    pi+    PHSP;\n",
    "Enddecay\n",
    "\n",
    "Decay J/psi\n",
    "0.0593 mu+     mu-   PHOTOS   VLL;\n",
    "Enddecay\n",
    "\n",
    "Decay K*0\n",
    "0.6657      K+  pi-         VSS;\n",
    "0.3323      K0  pi0         VSS;\n",
    "0.0020      K0  gamma       VSP_PWAVE;\n",
    "Enddecay\n",
    "\n",
    "Decay D_s-\n",
    "0.001200000 K_S0    pi-   PHSP;\n",
    "Enddecay\n",
    "\n",
    "Decay K_S0\n",
    "0.69 pi+     pi-     PHSP;\n",
    "0.31 pi0     pi0     PHSP;\n",
    "Enddecay\n",
    "\"\"\"\n",
    "\n",
    "dfp = DecFileParser.from_string(s)\n",
    "dfp.parse()\n",
    "dfp"
   ]
  },
  {
   "cell_type": "code",
   "execution_count": 92,
   "metadata": {},
   "outputs": [
    {
     "name": "stdout",
     "output_type": "stream",
     "text": [
      "Upsilon(4S):\n",
      "- bf: 0.483122645\n",
      "  fs:\n",
      "  - B0sig:\n",
      "    - bf: 0.00133\n",
      "      fs:\n",
      "      - J/psi:\n",
      "        - bf: 0.0593\n",
      "          fs:\n",
      "          - mu+\n",
      "          - mu-\n",
      "          model: VLL\n",
      "          model_params: ''\n",
      "      - K*0:\n",
      "        - bf: 0.6657\n",
      "          fs:\n",
      "          - K+\n",
      "          - pi-\n",
      "          model: VSS\n",
      "          model_params: ''\n",
      "        - bf: 0.3323\n",
      "          fs:\n",
      "          - K0\n",
      "          - pi0\n",
      "          model: VSS\n",
      "          model_params: ''\n",
      "        - bf: 0.002\n",
      "          fs:\n",
      "          - K0\n",
      "          - gamma\n",
      "          model: VSP_PWAVE\n",
      "          model_params: ''\n",
      "      model: SVV_HELAMP\n",
      "      model_params:\n",
      "      - 0.159\n",
      "      - 1.563\n",
      "      - 0.775\n",
      "      - 0.0\n",
      "      - 0.612\n",
      "      - 2.712\n",
      "  - anti-B0sig:\n",
      "    - bf: 2.4e-05\n",
      "      fs:\n",
      "      - D_s-:\n",
      "        - bf: 0.0012\n",
      "          fs:\n",
      "          - K_S0:\n",
      "            - bf: 0.69\n",
      "              fs:\n",
      "              - pi+\n",
      "              - pi-\n",
      "              model: PHSP\n",
      "              model_params: ''\n",
      "            - bf: 0.31\n",
      "              fs:\n",
      "              - pi0\n",
      "              - pi0\n",
      "              model: PHSP\n",
      "              model_params: ''\n",
      "          - pi-\n",
      "          model: PHSP\n",
      "          model_params: ''\n",
      "      - pi+\n",
      "      model: PHSP\n",
      "      model_params: ''\n",
      "  model: VSS_BMIX\n",
      "  model_params:\n",
      "  - 507000000000.0\n",
      "\n"
     ]
    }
   ],
   "source": [
    "dc = dfp.build_decay_chains('Upsilon(4S)')\n",
    "\n",
    "import yaml\n",
    "print(yaml.dump(dc))"
   ]
  },
  {
   "cell_type": "code",
   "execution_count": 93,
   "metadata": {},
   "outputs": [
    {
     "data": {
      "image/svg+xml": [
       "<?xml version=\"1.0\" encoding=\"UTF-8\" standalone=\"no\"?>\n",
       "<!DOCTYPE svg PUBLIC \"-//W3C//DTD SVG 1.1//EN\"\n",
       " \"http://www.w3.org/Graphics/SVG/1.1/DTD/svg11.dtd\">\n",
       "<!-- Generated by graphviz version 2.42.3 (20191010.1750)\n",
       " -->\n",
       "<!-- Title: DecayChainGraph Pages: 1 -->\n",
       "<svg width=\"653pt\" height=\"285pt\"\n",
       " viewBox=\"0.00 0.00 652.51 285.00\" xmlns=\"http://www.w3.org/2000/svg\" xmlns:xlink=\"http://www.w3.org/1999/xlink\">\n",
       "<g id=\"graph0\" class=\"graph\" transform=\"scale(1 1) rotate(0) translate(4 281)\">\n",
       "<title>DecayChainGraph</title>\n",
       "<polygon fill=\"white\" stroke=\"transparent\" points=\"-4,4 -4,-281 648.51,-281 648.51,4 -4,4\"/>\n",
       "<!-- mother -->\n",
       "<g id=\"node1\" class=\"node\">\n",
       "<title>mother</title>\n",
       "<polygon fill=\"#568dba\" stroke=\"transparent\" points=\"8,-92 8,-116 48,-116 48,-92 8,-92\"/>\n",
       "<polygon fill=\"none\" stroke=\"black\" points=\"8,-92 8,-116 48,-116 48,-92 8,-92\"/>\n",
       "<text text-anchor=\"start\" x=\"14\" y=\"-101.2\" font-family=\"Helvetica,sans-Serif\" font-size=\"11.00\">Υ(4S)</text>\n",
       "</g>\n",
       "<!-- dec38 -->\n",
       "<g id=\"node2\" class=\"node\">\n",
       "<title>dec38</title>\n",
       "<polygon fill=\"#9abad6\" stroke=\"transparent\" points=\"164,-80 164,-128 225,-128 225,-80 164,-80\"/>\n",
       "<polygon fill=\"none\" stroke=\"black\" points=\"164.5,-104 164.5,-128 225.5,-128 225.5,-104 164.5,-104\"/>\n",
       "<text text-anchor=\"start\" x=\"181\" y=\"-113.2\" font-family=\"Helvetica,sans-Serif\" font-size=\"11.00\">B0sig</text>\n",
       "<polygon fill=\"none\" stroke=\"black\" points=\"164.5,-80 164.5,-104 225.5,-104 225.5,-80 164.5,-80\"/>\n",
       "<text text-anchor=\"start\" x=\"170.5\" y=\"-89.2\" font-family=\"Helvetica,sans-Serif\" font-size=\"11.00\">anti&#45;B0sig</text>\n",
       "</g>\n",
       "<!-- mother&#45;&gt;dec38 -->\n",
       "<g id=\"edge1\" class=\"edge\">\n",
       "<title>mother&#45;&gt;dec38</title>\n",
       "<path fill=\"none\" stroke=\"black\" d=\"M56.16,-104C80.38,-104 116.4,-104 145.47,-104\"/>\n",
       "<polygon fill=\"black\" stroke=\"black\" points=\"145.83,-107.5 155.83,-104 145.83,-100.5 145.83,-107.5\"/>\n",
       "<text text-anchor=\"middle\" x=\"106\" y=\"-107.2\" font-family=\"Times,serif\" font-size=\"11.00\" fill=\"#4c4c4c\">0.483122645</text>\n",
       "</g>\n",
       "<!-- dec39 -->\n",
       "<g id=\"node3\" class=\"node\">\n",
       "<title>dec39</title>\n",
       "<polygon fill=\"#9abad6\" stroke=\"transparent\" points=\"317,-139 317,-187 373,-187 373,-139 317,-139\"/>\n",
       "<polygon fill=\"none\" stroke=\"black\" points=\"317,-163 317,-187 373,-187 373,-163 317,-163\"/>\n",
       "<text text-anchor=\"start\" x=\"326\" y=\"-172.2\" font-family=\"Helvetica,sans-Serif\" font-size=\"11.00\">J/ψ(1S)</text>\n",
       "<polygon fill=\"none\" stroke=\"black\" points=\"317,-139 317,-163 373,-163 373,-139 317,-139\"/>\n",
       "<text text-anchor=\"start\" x=\"323\" y=\"-149.2\" font-family=\"Helvetica,sans-Serif\" font-size=\"11.00\">K</text>\n",
       "<text text-anchor=\"start\" x=\"331\" y=\"-149.2\" font-family=\"Helvetica,sans-Serif\" baseline-shift=\"super\" font-size=\"11.00\">*</text>\n",
       "<text text-anchor=\"start\" x=\"335\" y=\"-149.2\" font-family=\"Helvetica,sans-Serif\" font-size=\"11.00\">(892)</text>\n",
       "<text text-anchor=\"start\" x=\"361\" y=\"-149.2\" font-family=\"Helvetica,sans-Serif\" baseline-shift=\"super\" font-size=\"11.00\">0</text>\n",
       "</g>\n",
       "<!-- dec38&#45;&gt;dec39 -->\n",
       "<g id=\"edge2\" class=\"edge\">\n",
       "<title>dec38:p0&#45;&gt;dec39</title>\n",
       "<path fill=\"none\" stroke=\"black\" d=\"M226.5,-116C251.95,-116 278.43,-125.63 299.8,-136.17\"/>\n",
       "<polygon fill=\"black\" stroke=\"black\" points=\"298.44,-139.4 308.93,-140.88 301.65,-133.18 298.44,-139.4\"/>\n",
       "<text text-anchor=\"middle\" x=\"271\" y=\"-134.2\" font-family=\"Times,serif\" font-size=\"11.00\" fill=\"#4c4c4c\">0.00133</text>\n",
       "</g>\n",
       "<!-- dec44 -->\n",
       "<g id=\"node8\" class=\"node\">\n",
       "<title>dec44</title>\n",
       "<polygon fill=\"#9abad6\" stroke=\"transparent\" points=\"330,-39 330,-87 360,-87 360,-39 330,-39\"/>\n",
       "<polygon fill=\"none\" stroke=\"black\" points=\"330,-63 330,-87 360,-87 360,-63 330,-63\"/>\n",
       "<text text-anchor=\"start\" x=\"336\" y=\"-73.2\" font-family=\"Helvetica,sans-Serif\" font-size=\"11.00\">D</text>\n",
       "<text text-anchor=\"start\" x=\"345\" y=\"-73.2\" font-family=\"Helvetica,sans-Serif\" baseline-shift=\"sub\" font-size=\"11.00\">s</text>\n",
       "<text text-anchor=\"start\" x=\"350\" y=\"-73.2\" font-family=\"Helvetica,sans-Serif\" baseline-shift=\"super\" font-size=\"11.00\">&#45;</text>\n",
       "<polygon fill=\"none\" stroke=\"black\" points=\"330,-39 330,-63 360,-63 360,-39 330,-39\"/>\n",
       "<text text-anchor=\"start\" x=\"338.5\" y=\"-49.2\" font-family=\"Helvetica,sans-Serif\" font-size=\"11.00\">π</text>\n",
       "<text text-anchor=\"start\" x=\"345.5\" y=\"-49.2\" font-family=\"Helvetica,sans-Serif\" baseline-shift=\"super\" font-size=\"11.00\">+</text>\n",
       "</g>\n",
       "<!-- dec38&#45;&gt;dec44 -->\n",
       "<g id=\"edge7\" class=\"edge\">\n",
       "<title>dec38:p1&#45;&gt;dec44</title>\n",
       "<path fill=\"none\" stroke=\"black\" d=\"M226.5,-92C254.5,-92 285.2,-84.14 308.19,-76.6\"/>\n",
       "<polygon fill=\"black\" stroke=\"black\" points=\"309.52,-79.85 317.86,-73.31 307.26,-73.22 309.52,-79.85\"/>\n",
       "<text text-anchor=\"middle\" x=\"271\" y=\"-93.2\" font-family=\"Times,serif\" font-size=\"11.00\" fill=\"#4c4c4c\">2.4e&#45;05</text>\n",
       "</g>\n",
       "<!-- dec40 -->\n",
       "<g id=\"node4\" class=\"node\">\n",
       "<title>dec40</title>\n",
       "<ellipse fill=\"#eef3f8\" stroke=\"black\" cx=\"485.21\" cy=\"-259\" rx=\"33.58\" ry=\"18\"/>\n",
       "<polygon fill=\"#eef3f8\" stroke=\"transparent\" points=\"468.21,-251 468.21,-267 502.21,-267 502.21,-251 468.21,-251\"/>\n",
       "<text text-anchor=\"start\" x=\"470.21\" y=\"-257.2\" font-family=\"Helvetica,sans-Serif\" font-size=\"11.00\">μ</text>\n",
       "<text text-anchor=\"start\" x=\"478.21\" y=\"-257.2\" font-family=\"Helvetica,sans-Serif\" baseline-shift=\"super\" font-size=\"11.00\">+</text>\n",
       "<text text-anchor=\"start\" x=\"488.21\" y=\"-257.2\" font-family=\"Helvetica,sans-Serif\" font-size=\"11.00\">μ</text>\n",
       "<text text-anchor=\"start\" x=\"496.21\" y=\"-257.2\" font-family=\"Helvetica,sans-Serif\" baseline-shift=\"super\" font-size=\"11.00\">&#45;</text>\n",
       "</g>\n",
       "<!-- dec39&#45;&gt;dec40 -->\n",
       "<g id=\"edge3\" class=\"edge\">\n",
       "<title>dec39:p0&#45;&gt;dec40</title>\n",
       "<path fill=\"none\" stroke=\"black\" d=\"M374,-175C389.1,-175 387.28,-188.48 399,-198 417.03,-212.66 438.29,-227.88 455.05,-239.44\"/>\n",
       "<polygon fill=\"black\" stroke=\"black\" points=\"453.15,-242.38 463.37,-245.14 457.1,-236.6 453.15,-242.38\"/>\n",
       "<text text-anchor=\"middle\" x=\"416\" y=\"-225.2\" font-family=\"Times,serif\" font-size=\"11.00\" fill=\"#4c4c4c\">0.0593</text>\n",
       "</g>\n",
       "<!-- dec41 -->\n",
       "<g id=\"node5\" class=\"node\">\n",
       "<title>dec41</title>\n",
       "<ellipse fill=\"#eef3f8\" stroke=\"black\" cx=\"485.21\" cy=\"-205\" rx=\"32.74\" ry=\"18\"/>\n",
       "<polygon fill=\"#eef3f8\" stroke=\"transparent\" points=\"468.71,-197 468.71,-213 501.71,-213 501.71,-197 468.71,-197\"/>\n",
       "<text text-anchor=\"start\" x=\"471.21\" y=\"-203.2\" font-family=\"Helvetica,sans-Serif\" font-size=\"11.00\">K</text>\n",
       "<text text-anchor=\"start\" x=\"479.21\" y=\"-203.2\" font-family=\"Helvetica,sans-Serif\" baseline-shift=\"super\" font-size=\"11.00\">+</text>\n",
       "<text text-anchor=\"start\" x=\"489.21\" y=\"-203.2\" font-family=\"Helvetica,sans-Serif\" font-size=\"11.00\">π</text>\n",
       "<text text-anchor=\"start\" x=\"496.21\" y=\"-203.2\" font-family=\"Helvetica,sans-Serif\" baseline-shift=\"super\" font-size=\"11.00\">&#45;</text>\n",
       "</g>\n",
       "<!-- dec39&#45;&gt;dec41 -->\n",
       "<g id=\"edge4\" class=\"edge\">\n",
       "<title>dec39:p1&#45;&gt;dec41</title>\n",
       "<path fill=\"none\" stroke=\"black\" d=\"M374,-151C387.19,-151 387.39,-160.74 399,-167 414.94,-175.59 433.21,-183.93 448.73,-190.59\"/>\n",
       "<polygon fill=\"black\" stroke=\"black\" points=\"447.42,-193.84 458,-194.51 450.15,-187.39 447.42,-193.84\"/>\n",
       "<text text-anchor=\"middle\" x=\"416\" y=\"-185.2\" font-family=\"Times,serif\" font-size=\"11.00\" fill=\"#4c4c4c\">0.6657</text>\n",
       "</g>\n",
       "<!-- dec42 -->\n",
       "<g id=\"node6\" class=\"node\">\n",
       "<title>dec42</title>\n",
       "<ellipse fill=\"#eef3f8\" stroke=\"black\" cx=\"485.21\" cy=\"-151\" rx=\"34.42\" ry=\"18\"/>\n",
       "<polygon fill=\"#eef3f8\" stroke=\"transparent\" points=\"467.71,-143 467.71,-159 502.71,-159 502.71,-143 467.71,-143\"/>\n",
       "<text text-anchor=\"start\" x=\"470.21\" y=\"-149.2\" font-family=\"Helvetica,sans-Serif\" font-size=\"11.00\">K</text>\n",
       "<text text-anchor=\"start\" x=\"478.21\" y=\"-149.2\" font-family=\"Helvetica,sans-Serif\" baseline-shift=\"super\" font-size=\"11.00\">0</text>\n",
       "<text text-anchor=\"start\" x=\"488.21\" y=\"-149.2\" font-family=\"Helvetica,sans-Serif\" font-size=\"11.00\">π</text>\n",
       "<text text-anchor=\"start\" x=\"495.21\" y=\"-149.2\" font-family=\"Helvetica,sans-Serif\" baseline-shift=\"super\" font-size=\"11.00\">0</text>\n",
       "</g>\n",
       "<!-- dec39&#45;&gt;dec42 -->\n",
       "<g id=\"edge5\" class=\"edge\">\n",
       "<title>dec39:p1&#45;&gt;dec42</title>\n",
       "<path fill=\"none\" stroke=\"black\" d=\"M374,-151C396,-151 420.46,-151 440.74,-151\"/>\n",
       "<polygon fill=\"black\" stroke=\"black\" points=\"440.93,-154.5 450.93,-151 440.93,-147.5 440.93,-154.5\"/>\n",
       "<text text-anchor=\"middle\" x=\"416\" y=\"-154.2\" font-family=\"Times,serif\" font-size=\"11.00\" fill=\"#4c4c4c\">0.3323</text>\n",
       "</g>\n",
       "<!-- dec43 -->\n",
       "<g id=\"node7\" class=\"node\">\n",
       "<title>dec43</title>\n",
       "<ellipse fill=\"#eef3f8\" stroke=\"black\" cx=\"485.21\" cy=\"-97\" rx=\"30.38\" ry=\"18\"/>\n",
       "<polygon fill=\"#eef3f8\" stroke=\"transparent\" points=\"470.71,-89 470.71,-105 499.71,-105 499.71,-89 470.71,-89\"/>\n",
       "<text text-anchor=\"start\" x=\"473.21\" y=\"-95.2\" font-family=\"Helvetica,sans-Serif\" font-size=\"11.00\">K</text>\n",
       "<text text-anchor=\"start\" x=\"481.21\" y=\"-95.2\" font-family=\"Helvetica,sans-Serif\" baseline-shift=\"super\" font-size=\"11.00\">0</text>\n",
       "<text text-anchor=\"start\" x=\"491.21\" y=\"-94.2\" font-family=\"Helvetica,sans-Serif\" font-size=\"11.00\">γ</text>\n",
       "</g>\n",
       "<!-- dec39&#45;&gt;dec43 -->\n",
       "<g id=\"edge6\" class=\"edge\">\n",
       "<title>dec39:p1&#45;&gt;dec43</title>\n",
       "<path fill=\"none\" stroke=\"black\" d=\"M374,-151C387.19,-151 387.39,-141.26 399,-135 415.41,-126.15 434.29,-117.58 450.11,-110.82\"/>\n",
       "<polygon fill=\"black\" stroke=\"black\" points=\"451.65,-113.97 459.5,-106.86 448.93,-107.52 451.65,-113.97\"/>\n",
       "<text text-anchor=\"middle\" x=\"416\" y=\"-138.2\" font-family=\"Times,serif\" font-size=\"11.00\" fill=\"#4c4c4c\">0.002</text>\n",
       "</g>\n",
       "<!-- dec45 -->\n",
       "<g id=\"node9\" class=\"node\">\n",
       "<title>dec45</title>\n",
       "<polygon fill=\"#9abad6\" stroke=\"transparent\" points=\"468.71,-9 468.71,-57 501.71,-57 501.71,-9 468.71,-9\"/>\n",
       "<polygon fill=\"none\" stroke=\"black\" points=\"469.21,-33 469.21,-57 502.21,-57 502.21,-33 469.21,-33\"/>\n",
       "<text text-anchor=\"start\" x=\"475.21\" y=\"-43.2\" font-family=\"Helvetica,sans-Serif\" font-size=\"11.00\">K</text>\n",
       "<text text-anchor=\"start\" x=\"483.21\" y=\"-43.2\" font-family=\"Helvetica,sans-Serif\" baseline-shift=\"sub\" font-size=\"11.00\">S</text>\n",
       "<text text-anchor=\"start\" x=\"490.21\" y=\"-43.2\" font-family=\"Helvetica,sans-Serif\" baseline-shift=\"super\" font-size=\"11.00\">0</text>\n",
       "<polygon fill=\"none\" stroke=\"black\" points=\"469.21,-9 469.21,-33 502.21,-33 502.21,-9 469.21,-9\"/>\n",
       "<text text-anchor=\"start\" x=\"480.21\" y=\"-19.2\" font-family=\"Helvetica,sans-Serif\" font-size=\"11.00\">π</text>\n",
       "<text text-anchor=\"start\" x=\"487.21\" y=\"-19.2\" font-family=\"Helvetica,sans-Serif\" baseline-shift=\"super\" font-size=\"11.00\">&#45;</text>\n",
       "</g>\n",
       "<!-- dec44&#45;&gt;dec45 -->\n",
       "<g id=\"edge8\" class=\"edge\">\n",
       "<title>dec44:p0&#45;&gt;dec45</title>\n",
       "<path fill=\"none\" stroke=\"black\" d=\"M361,-75C363.31,-75 413,-57.84 448.56,-45.46\"/>\n",
       "<polygon fill=\"black\" stroke=\"black\" points=\"449.87,-48.71 458.16,-42.11 447.57,-42.1 449.87,-48.71\"/>\n",
       "<text text-anchor=\"middle\" x=\"416\" y=\"-65.2\" font-family=\"Times,serif\" font-size=\"11.00\" fill=\"#4c4c4c\">0.0012</text>\n",
       "</g>\n",
       "<!-- dec46 -->\n",
       "<g id=\"node10\" class=\"node\">\n",
       "<title>dec46</title>\n",
       "<ellipse fill=\"#eef3f8\" stroke=\"black\" cx=\"610.96\" cy=\"-72\" rx=\"32.4\" ry=\"18\"/>\n",
       "<polygon fill=\"#eef3f8\" stroke=\"transparent\" points=\"594.96,-64 594.96,-80 626.96,-80 626.96,-64 594.96,-64\"/>\n",
       "<text text-anchor=\"start\" x=\"596.96\" y=\"-70.2\" font-family=\"Helvetica,sans-Serif\" font-size=\"11.00\">π</text>\n",
       "<text text-anchor=\"start\" x=\"603.96\" y=\"-70.2\" font-family=\"Helvetica,sans-Serif\" baseline-shift=\"super\" font-size=\"11.00\">+</text>\n",
       "<text text-anchor=\"start\" x=\"613.96\" y=\"-70.2\" font-family=\"Helvetica,sans-Serif\" font-size=\"11.00\">π</text>\n",
       "<text text-anchor=\"start\" x=\"620.96\" y=\"-70.2\" font-family=\"Helvetica,sans-Serif\" baseline-shift=\"super\" font-size=\"11.00\">&#45;</text>\n",
       "</g>\n",
       "<!-- dec45&#45;&gt;dec46 -->\n",
       "<g id=\"edge9\" class=\"edge\">\n",
       "<title>dec45:p0&#45;&gt;dec46</title>\n",
       "<path fill=\"none\" stroke=\"black\" d=\"M503.21,-45C516.63,-45 547.43,-53.12 572.51,-60.45\"/>\n",
       "<polygon fill=\"black\" stroke=\"black\" points=\"571.56,-63.82 582.15,-63.31 573.55,-57.11 571.56,-63.82\"/>\n",
       "<text text-anchor=\"middle\" x=\"548.42\" y=\"-59.2\" font-family=\"Times,serif\" font-size=\"11.00\" fill=\"#4c4c4c\">0.69</text>\n",
       "</g>\n",
       "<!-- dec47 -->\n",
       "<g id=\"node11\" class=\"node\">\n",
       "<title>dec47</title>\n",
       "<ellipse fill=\"#eef3f8\" stroke=\"black\" cx=\"610.96\" cy=\"-18\" rx=\"33.58\" ry=\"18\"/>\n",
       "<polygon fill=\"#eef3f8\" stroke=\"transparent\" points=\"593.96,-10 593.96,-26 627.96,-26 627.96,-10 593.96,-10\"/>\n",
       "<text text-anchor=\"start\" x=\"595.96\" y=\"-16.2\" font-family=\"Helvetica,sans-Serif\" font-size=\"11.00\">π</text>\n",
       "<text text-anchor=\"start\" x=\"602.96\" y=\"-16.2\" font-family=\"Helvetica,sans-Serif\" baseline-shift=\"super\" font-size=\"11.00\">0</text>\n",
       "<text text-anchor=\"start\" x=\"612.96\" y=\"-16.2\" font-family=\"Helvetica,sans-Serif\" font-size=\"11.00\">π</text>\n",
       "<text text-anchor=\"start\" x=\"619.96\" y=\"-16.2\" font-family=\"Helvetica,sans-Serif\" baseline-shift=\"super\" font-size=\"11.00\">0</text>\n",
       "</g>\n",
       "<!-- dec45&#45;&gt;dec47 -->\n",
       "<g id=\"edge10\" class=\"edge\">\n",
       "<title>dec45:p0&#45;&gt;dec47</title>\n",
       "<path fill=\"none\" stroke=\"black\" d=\"M503.21,-45C510.13,-45 543.34,-36.37 570.91,-28.87\"/>\n",
       "<polygon fill=\"black\" stroke=\"black\" points=\"572.03,-32.19 580.75,-26.17 570.18,-25.44 572.03,-32.19\"/>\n",
       "<text text-anchor=\"middle\" x=\"548.42\" y=\"-40.2\" font-family=\"Times,serif\" font-size=\"11.00\" fill=\"#4c4c4c\">0.31</text>\n",
       "</g>\n",
       "</g>\n",
       "</svg>\n"
      ],
      "text/plain": [
       "<decaylanguage.decay.viewer.DecayChainViewer at 0x7fe63ce3b460>"
      ]
     },
     "execution_count": 93,
     "metadata": {},
     "output_type": "execute_result"
    }
   ],
   "source": [
    "from decaylanguage import DecayChainViewer\n",
    "\n",
    "DecayChainViewer(dc)"
   ]
  }
 ],
 "metadata": {
  "kernelspec": {
   "display_name": "Python 3",
   "language": "python",
   "name": "python3"
  },
  "language_info": {
   "codemirror_mode": {
    "name": "ipython",
    "version": 3
   },
   "file_extension": ".py",
   "mimetype": "text/x-python",
   "name": "python",
   "nbconvert_exporter": "python",
   "pygments_lexer": "ipython3",
   "version": "3.7.6"
  }
 },
 "nbformat": 4,
 "nbformat_minor": 4
}
