{
 "cells": [
  {
   "cell_type": "markdown",
   "metadata": {},
   "source": [
    "<h1><center><span style=\"color:blue\">Hands-on introduction to the<br>Scikit-HEP project</span></center></h1>\n",
    "\n",
    "<center>\n",
    "<h2>Eduardo Rodrigues</h2><h3>University of Liverpool</h3>\n",
    "</center>\n",
    "\n",
    "<h3><center><span style=\"color:gray\">DESY Hands-On, Hamburg, 4 March 2020</span></center></h3>\n",
    "\n",
    "Notebook: https://github.com/eduardo-rodrigues/2020-03-04_DESY_Scikit-HEP_HandsOn"
   ]
  },
  {
   "cell_type": "markdown",
   "metadata": {},
   "source": [
    "Many of the tools showcased here aim to make it easy to perform HEP analysis in the Numpy ecosystem."
   ]
  },
  {
   "cell_type": "code",
   "execution_count": null,
   "metadata": {},
   "outputs": [],
   "source": []
  }
 ],
 "metadata": {
  "kernelspec": {
   "display_name": "Python 3",
   "language": "python",
   "name": "python3"
  },
  "language_info": {
   "codemirror_mode": {
    "name": "ipython",
    "version": 3
   },
   "file_extension": ".py",
   "mimetype": "text/x-python",
   "name": "python",
   "nbconvert_exporter": "python",
   "pygments_lexer": "ipython3",
   "version": "3.7.4"
  }
 },
 "nbformat": 4,
 "nbformat_minor": 4
}
