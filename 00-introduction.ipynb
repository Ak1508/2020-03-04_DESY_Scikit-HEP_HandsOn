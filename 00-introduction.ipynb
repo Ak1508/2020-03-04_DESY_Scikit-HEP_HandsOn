{
 "cells": [
  {
   "cell_type": "markdown",
   "metadata": {},
   "source": [
    "<center>\n",
    "<h1><b><span style=\"color:blue\">Hands-on introduction to the<br>Scikit-HEP project</span></b></h1>\n",
    "\n",
    "<h2>Eduardo Rodrigues</h2><h3>University of Liverpool</h3>\n",
    "\n",
    "<h3><span style=\"color:gray\">DESY Hands-On, Hamburg, 4 March 2020</span></h3>\n",
    "</center>\n",
    "\n",
    "&nbsp;<br>&nbsp;<br>\n",
    "Notebook: https://github.com/eduardo-rodrigues/2020-03-04_DESY_Scikit-HEP_HandsOn"
   ]
  },
  {
   "cell_type": "markdown",
   "metadata": {},
   "source": [
    "&nbsp;<br>\n",
    "Many of the tools showcased here aim to make it easy to perform HEP analysis in the scientific Python ecosystem."
   ]
  },
  {
   "cell_type": "markdown",
   "metadata": {},
   "source": [
    "## **Scikit-HEP project package dependencies**"
   ]
  },
  {
   "cell_type": "markdown",
   "metadata": {},
   "source": [
    "<center><img src=\"images/scikit-hep_pkg_dependencies.png\" alt=\"Scikit-HEP project package dependencies\"/></center>"
   ]
  },
  {
   "cell_type": "markdown",
   "metadata": {},
   "source": [
    "<div class=\"alert alert-warning\">\n",
    "\n",
    "**Disclaimer and goal of the tutorial:**\n",
    "- I am *no* expert on all packages!\n",
    "- Grand plan is to showcase some key points and provide you a bit of time to explore.\n",
    "\n",
    "</div>"
   ]
  },
  {
   "cell_type": "markdown",
   "metadata": {},
   "source": [
    "## **Tutorial outline**\n",
    "\n",
    "- **`00-introduction.ipynb`**:<br>\n",
    "this little notebook ;-).\n",
    "- **`01-particles-decays-units.ipynb`**:<br>\n",
    "having fun with the HEP system of units (`hepunits`), particle data information (`Particle`),\n",
    "and decay chains (`DecayLanguage`).\n",
    "- **`02-files-data-eventprocessing.ipynb`**:<br>\n",
    "pure Python I/O for ROOT files (`uproot`) and manipulation of tree structures so much cherried in HEP (`awkward-array`).\n",
    "- **`03-histogramming-visualisation.ipynb`**:<br>\n",
    "modern histogramming utilities(`boost-histogram`) and HEP-specific enhancements (`mplhep`) atop `matplotlib`.\n",
    "- **`04-fitting.ipynb`**:<br>\n",
    "quick intro to the highly useful and used Python bindings for Minuit2 (`iminuit`).\n",
    "- **`05-statistics.ipynb`**:<br>\n",
    "notebook on statistics tools (`hepstats`).\n",
    "- **`06-ecosystem-example.ipynb`**:<br>\n",
    "wraping it all up - let's play together with several packages, also beyond Scikit-HEP project packages."
   ]
  },
  {
   "cell_type": "markdown",
   "metadata": {},
   "source": [
    "## Some useful links:\n",
    "\n",
    "#### Scikit-HEP project\n",
    "- Website: https://scikit-hep.org/\n",
    "- GitHub: https://github.com/scikit-hep/\n",
    "\n",
    "#### HSF PyHEP Working Group\n",
    "- Webpage: https://hepsoftwarefoundation.org/workinggroups/pyhep.html\n",
    "- Gitter channel: https://gitter.im/HSF/PyHEP\n"
   ]
  }
 ],
 "metadata": {
  "kernelspec": {
   "display_name": "Python 3",
   "language": "python",
   "name": "python3"
  },
  "language_info": {
   "codemirror_mode": {
    "name": "ipython",
    "version": 3
   },
   "file_extension": ".py",
   "mimetype": "text/x-python",
   "name": "python",
   "nbconvert_exporter": "python",
   "pygments_lexer": "ipython3",
   "version": "3.7.4"
  }
 },
 "nbformat": 4,
 "nbformat_minor": 4
}
