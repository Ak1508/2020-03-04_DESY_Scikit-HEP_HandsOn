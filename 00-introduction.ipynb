{
 "cells": [
  {
   "cell_type": "markdown",
   "metadata": {},
   "source": [
    "<center>\n",
    "<h1><b><span style=\"color:blue\">Hands-on introduction to the<br>Scikit-HEP project</span></b></h1>\n",
    "\n",
    "<h2>Eduardo Rodrigues</h2><h3>University of Liverpool</h3>\n",
    "\n",
    "<h3><span style=\"color:gray\">DESY Hands-On, Hamburg, 4 March 2020</span></h3>\n",
    "</center>\n",
    "\n",
    "&nbsp;<br>&nbsp;<br>\n",
    "**Tutorial material:**<br>\n",
    "- Notebooks GitHub repository https://github.com/eduardo-rodrigues/2020-03-04_DESY_Scikit-HEP_HandsOn.\n",
    "- Can be nicely viewed [with nbviewer](https://nbviewer.jupyter.org/github/eduardo-rodrigues/2020-03-04_DESY_Scikit-HEP_HandsOn/tree/master/).\n",
    "\n",
    "Please be patient - the repository takes 5 minutes to load completely on Binder ..."
   ]
  },
  {
   "cell_type": "markdown",
   "metadata": {},
   "source": [
    "## **Scikit-HEP project - quick intro**"
   ]
  },
  {
   "cell_type": "markdown",
   "metadata": {},
   "source": [
    "### Motivation\n",
    "\n",
    "The scientific Python ecosystem can be organised, schematically, as a layered set of libraries and packages ever more specialised, atop a series of building blocks:"
   ]
  },
  {
   "cell_type": "markdown",
   "metadata": {},
   "source": [
    "<center><img src=\"images/Scikit-HEP_motivation.png\" alt=\"Scikit-HEP project motivation\" width=\"75%\"/></center>"
   ]
  },
  {
   "cell_type": "markdown",
   "metadata": {},
   "source": [
    "But where are the HEP domain-specific projects? (Note that this question is no longer timely, as shown by this tutorial ;-).)"
   ]
  },
  {
   "cell_type": "markdown",
   "metadata": {},
   "source": [
    "### The grand picture\n",
    "\n",
    "The [Scikit-HEP project](https://scikit-hep.org) has had from the onset clearly-defined goals, and it cherishes a few core values:"
   ]
  },
  {
   "cell_type": "markdown",
   "metadata": {},
   "source": [
    "<center><img src=\"images/Scikit-HEP_grand_picture.png\" alt=\"Scikit-HEP project grand picture\" width=\"75%\"/></center>"
   ]
  },
  {
   "cell_type": "markdown",
   "metadata": {},
   "source": [
    "As a result, many of the tools showcased here aim to make it easy to perform HEP analysis in the scientific Python ecosystem."
   ]
  },
  {
   "cell_type": "markdown",
   "metadata": {},
   "source": [
    "### Project package dependencies\n",
    "\n",
    "Very many topics are addressed within the project!"
   ]
  },
  {
   "cell_type": "markdown",
   "metadata": {},
   "source": [
    "<center><img src=\"images/Scikit-HEP_pkg_dependencies.png\" alt=\"Scikit-HEP project package dependencies\"/></center>"
   ]
  },
  {
   "cell_type": "markdown",
   "metadata": {},
   "source": [
    "## **Tutorial outline**\n",
    "\n",
    "<div class=\"alert alert-warning\">\n",
    "\n",
    "<b>Disclaimer and goal of the tutorial:</b>\n",
    "1. I am <i>no</i> expert on all packages!\n",
    "2. Grand plan is to showcase some key points and provide you a bit of time to explore.\n",
    "3. Understandably, there is not enough time to present <i>all</i> packages in this 3-hour tutorial.\n",
    "\n",
    "</div>"
   ]
  },
  {
   "cell_type": "markdown",
   "metadata": {},
   "source": [
    "### Notebooks\n",
    "\n",
    "\n",
    "- **`00-introduction.ipynb`**:<br>\n",
    "this little notebook ;-).\n",
    "- **`01-particles-decays-units.ipynb`**:<br>\n",
    "having fun with the HEP system of units (`hepunits`), particle data information (`Particle`),\n",
    "and decay chains (`DecayLanguage`).\n",
    "- **`02-histogramming-visualisation.ipynb`**:<br>\n",
    "modern histogramming utilities (`boost-histogram` and `aghast`) and HEP-specific enhancements (`mplhep`) atop `matplotlib`.\n",
    "- **`03-files-data-eventprocessing.ipynb`**:<br>\n",
    "pure Python I/O for ROOT files (`uproot`) and manipulation of tree structures so much cherried in HEP (`awkward-array`).\n",
    "- **`04-fitting.ipynb`**:<br>\n",
    "quick intro to the highly useful and used Python bindings for Minuit2 (`iminuit`).\n",
    "- **`05-statistics.ipynb`**:<br>\n",
    "notebook on statistics tools (`hepstats`).\n",
    "- **`06-ecosystem-example.ipynb`**:<br>\n",
    "wraping it all up - let's play together with several packages, especially beyond Scikit-HEP project packages (`zfit`)."
   ]
  },
  {
   "cell_type": "markdown",
   "metadata": {},
   "source": [
    "<div class=\"alert alert-success\">\n",
    "<b>THANK YOU</b>\n",
    "\n",
    "to Hans Dembinski, Henry Schreiner, Jim Pivarski, Jonas Eschle for knowingly (or unknowingly) providing material and/or inspiration for this tutorial!\n",
    "</div>"
   ]
  },
  {
   "cell_type": "markdown",
   "metadata": {},
   "source": [
    "## **Some useful links:**\n",
    "\n",
    "#### Scikit-HEP project\n",
    "- Website: https://scikit-hep.org/\n",
    "- GitHub: https://github.com/scikit-hep/\n",
    "\n",
    "#### HSF PyHEP Working Group\n",
    "Information on the [HEP Software Foundation](hepsoftwarefoundation.org/) PyHEP (\"Python in HEP\") Working Group.\n",
    "- Webpage: https://hepsoftwarefoundation.org/workinggroups/pyhep.html\n",
    "- Gitter channel: https://gitter.im/HSF/PyHEP\n"
   ]
  }
 ],
 "metadata": {
  "kernelspec": {
   "display_name": "Python 3",
   "language": "python",
   "name": "python3"
  },
  "language_info": {
   "codemirror_mode": {
    "name": "ipython",
    "version": 3
   },
   "file_extension": ".py",
   "mimetype": "text/x-python",
   "name": "python",
   "nbconvert_exporter": "python",
   "pygments_lexer": "ipython3",
   "version": "3.7.4"
  }
 },
 "nbformat": 4,
 "nbformat_minor": 4
}
