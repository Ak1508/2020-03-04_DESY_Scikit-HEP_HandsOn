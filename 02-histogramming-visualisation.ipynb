{
 "cells": [
  {
   "cell_type": "markdown",
   "metadata": {},
   "source": [
    "<center><h1><b><span style=\"color:blue\">Histogramming & visualisation</span></b></h1></center>\n",
    "\n",
    "#### **Quick intro to the following packages**\n",
    "- `boost-histogram`.\n",
    "- `aghast`.\n",
    "- `mplhep`."
   ]
  },
  {
   "cell_type": "markdown",
   "metadata": {},
   "source": [
    "&nbsp;<br><center><img src=\"images/logo_boost_histogram.png\" alt=\"boost-histogram package logo\" style=\"width: 200px;\"/></center>\n",
    "\n",
    "<center><h2><b><span style=\"color:green\">Fast and flexible multi-dimensional histograms and profiles</span></b></h2></center>"
   ]
  },
  {
   "cell_type": "markdown",
   "metadata": {},
   "source": [
    "* Python bindings for the C++14 Boost.Histogram library\n",
    "* No external dependency\n",
    "* Very fast and feature-rich\n",
    "* Multi-dimensional histograms and profiles\n",
    "* Supports weighted and unweighted data\n",
    "* And much much more, see docs"
   ]
  },
  {
   "cell_type": "markdown",
   "metadata": {},
   "source": [
    "### **1. Basic 1D histogram**"
   ]
  },
  {
   "cell_type": "code",
   "execution_count": null,
   "metadata": {},
   "outputs": [],
   "source": [
    "import boost_histogram as bh\n",
    "\n",
    "import numpy as np\n",
    "import matplotlib.pyplot as plt"
   ]
  },
  {
   "cell_type": "markdown",
   "metadata": {},
   "source": [
    "Let's generate some data and create a histogram:"
   ]
  },
  {
   "cell_type": "code",
   "execution_count": null,
   "metadata": {},
   "outputs": [],
   "source": [
    "data1 = np.random.normal(3.5, 2.5, size=1_000_000)\n",
    "\n",
    "h1 = bh.Histogram(bh.axis.Regular(40, -2, 10))"
   ]
  },
  {
   "cell_type": "code",
   "execution_count": null,
   "metadata": {},
   "outputs": [],
   "source": [
    "h1.fill(data1)"
   ]
  },
  {
   "cell_type": "markdown",
   "metadata": {},
   "source": [
    "Let's explicitly check to see how many entries are in the histogram:"
   ]
  },
  {
   "cell_type": "code",
   "execution_count": null,
   "metadata": {},
   "outputs": [],
   "source": [
    "h1.sum()"
   ]
  },
  {
   "cell_type": "markdown",
   "metadata": {},
   "source": [
    "What happened to the missing items? They are in the underflow and overflow bins ;-):"
   ]
  },
  {
   "cell_type": "code",
   "execution_count": null,
   "metadata": {},
   "outputs": [],
   "source": [
    "h1.sum(flow=True)"
   ]
  },
  {
   "cell_type": "markdown",
   "metadata": {},
   "source": [
    "As is ROOT, overflow bins are on by default. We can turn them off, but they enable some powerful things like projections.\n",
    "\n",
    "Make sure things visually look OK:"
   ]
  },
  {
   "cell_type": "code",
   "execution_count": null,
   "metadata": {},
   "outputs": [],
   "source": [
    "plt.bar(h1.axes[0].centers, h1, width=h1.axes[0].widths);"
   ]
  },
  {
   "cell_type": "markdown",
   "metadata": {},
   "source": [
    "From now on, let's be lazy"
   ]
  },
  {
   "cell_type": "code",
   "execution_count": null,
   "metadata": {},
   "outputs": [],
   "source": [
    "plothist = lambda h: plt.bar(h.axes[0].centers, h, width=h.axes[0].widths);"
   ]
  },
  {
   "cell_type": "markdown",
   "metadata": {},
   "source": [
    "### **2. Drop-in replacement for NumPy**"
   ]
  },
  {
   "cell_type": "code",
   "execution_count": null,
   "metadata": {},
   "outputs": [],
   "source": [
    "bins2, edges2 = bh.numpy.histogram(data1, bins=10)"
   ]
  },
  {
   "cell_type": "markdown",
   "metadata": {},
   "source": [
    "### **3. \"Extra dimensions\"**\n",
    "The same API works for multiple dimensions."
   ]
  },
  {
   "cell_type": "code",
   "execution_count": null,
   "metadata": {},
   "outputs": [],
   "source": [
    "h2 = bh.Histogram(\n",
    "    bh.axis.Regular(150, -1.5, 1.5),\n",
    "    bh.axis.Regular(100, -1, 1)\n",
    ")\n",
    "\n",
    "h2"
   ]
  },
  {
   "cell_type": "code",
   "execution_count": null,
   "metadata": {},
   "outputs": [],
   "source": [
    "def make_2D_data(*, mean=(0,0), widths=(1,1), size=1_000_000):\n",
    "    cov = np.asarray(widths) * np.eye(2)\n",
    "    return np.random.multivariate_normal(mean, cov, size=size).T"
   ]
  },
  {
   "cell_type": "code",
   "execution_count": null,
   "metadata": {},
   "outputs": [],
   "source": [
    "data3x = make_2D_data(mean=[-.75, .5], widths=[.2, 0.02])\n",
    "data3y = make_2D_data(mean=[.75, .5], widths=[.2, 0.02])"
   ]
  },
  {
   "cell_type": "markdown",
   "metadata": {},
   "source": [
    "From here on out, I will be using `.reset()` before a `.fill()`, just to make sure each cell in the notebook can be rerun."
   ]
  },
  {
   "cell_type": "code",
   "execution_count": null,
   "metadata": {},
   "outputs": [],
   "source": [
    "h2.reset()\n",
    "h2.fill(*data3x)\n",
    "h2.fill(*data3y)"
   ]
  },
  {
   "cell_type": "markdown",
   "metadata": {},
   "source": [
    "Again, let's make plotting a little function:"
   ]
  },
  {
   "cell_type": "code",
   "execution_count": null,
   "metadata": {},
   "outputs": [],
   "source": [
    "def plothist2d(h):\n",
    "    X, Y = h.axes.edges\n",
    "    X, Y = np.broadcast_arrays(X, Y)\n",
    "\n",
    "    return plt.pcolormesh(X, Y, h)"
   ]
  },
  {
   "cell_type": "markdown",
   "metadata": {},
   "source": [
    "> The above code is the same as doing:\n",
    "> \n",
    "> ```python\n",
    "X, Y = np.meshgrid(*(a.edges for a in h.axes, indexing='ij')\n",
    "```"
   ]
  },
  {
   "cell_type": "code",
   "execution_count": null,
   "metadata": {},
   "outputs": [],
   "source": [
    "plothist2d(h2);"
   ]
  },
  {
   "cell_type": "markdown",
   "metadata": {},
   "source": [
    "Let's try a 3D histogram"
   ]
  },
  {
   "cell_type": "code",
   "execution_count": null,
   "metadata": {},
   "outputs": [],
   "source": [
    "data3d = [np.random.normal(size=1_000_000) for _ in range(3)]\n",
    "\n",
    "h3d = bh.Histogram(\n",
    "    bh.axis.Regular(150, -5, 5),\n",
    "    bh.axis.Regular(100, -5, 5),\n",
    "    bh.axis.Regular(100, -5, 5)\n",
    ")\n",
    "\n",
    "h3d.fill(*data3d)"
   ]
  },
  {
   "cell_type": "markdown",
   "metadata": {},
   "source": [
    "Let's project to the first two axes:"
   ]
  },
  {
   "cell_type": "code",
   "execution_count": null,
   "metadata": {},
   "outputs": [],
   "source": [
    "plothist2d(h3d.project(0,1));"
   ]
  },
  {
   "cell_type": "markdown",
   "metadata": {},
   "source": [
    "### **4. Unified Histogram Indexing**\n",
    "\n",
    "Let's explore the boost-histogram UHI syntax. We will reuse the previous 2D histogram from part 3:"
   ]
  },
  {
   "cell_type": "code",
   "execution_count": null,
   "metadata": {},
   "outputs": [],
   "source": [
    "plothist2d(h2);"
   ]
  },
  {
   "cell_type": "markdown",
   "metadata": {},
   "source": [
    "I can see that I want y from 0.25 to 0.75, in data coordinates:"
   ]
  },
  {
   "cell_type": "code",
   "execution_count": null,
   "metadata": {},
   "outputs": [],
   "source": [
    "plothist2d(h2[:, bh.loc(.25):bh.loc(.75)]);"
   ]
  },
  {
   "cell_type": "markdown",
   "metadata": {},
   "source": [
    "What's the contents of a bin?"
   ]
  },
  {
   "cell_type": "code",
   "execution_count": null,
   "metadata": {},
   "outputs": [],
   "source": [
    "h2[100,87]"
   ]
  },
  {
   "cell_type": "markdown",
   "metadata": {},
   "source": [
    "How about in data coordinates?"
   ]
  },
  {
   "cell_type": "code",
   "execution_count": null,
   "metadata": {},
   "outputs": [],
   "source": [
    "h2[bh.loc(.5), bh.loc(.75)]"
   ]
  },
  {
   "cell_type": "markdown",
   "metadata": {},
   "source": [
    "> Note: to get the coordinates manually:\n",
    "> \n",
    "> ```python\n",
    "h2.axes[0].index(.5) == 100\n",
    "h2.axes[1].index(.75) == 87\n",
    "```"
   ]
  },
  {
   "cell_type": "code",
   "execution_count": null,
   "metadata": {},
   "outputs": [],
   "source": [
    "plothist(h2[:, ::bh.project]);\n",
    "plothist(h2[::bh.project, :]);"
   ]
  },
  {
   "cell_type": "markdown",
   "metadata": {},
   "source": [
    "Let's look at one part and rebin:"
   ]
  },
  {
   "cell_type": "code",
   "execution_count": null,
   "metadata": {},
   "outputs": [],
   "source": [
    "plothist2d(h2[:50:bh.rebin(2), 50::bh.rebin(2)]);"
   ]
  },
  {
   "cell_type": "markdown",
   "metadata": {},
   "source": [
    "What is the value at `(-.75, .5)`?"
   ]
  },
  {
   "cell_type": "code",
   "execution_count": null,
   "metadata": {},
   "outputs": [],
   "source": [
    "h2[bh.loc(-.75), bh.loc(.5)]"
   ]
  },
  {
   "cell_type": "markdown",
   "metadata": {},
   "source": [
    "### **5. Fancier axis types - a circular axis example**"
   ]
  },
  {
   "cell_type": "code",
   "execution_count": null,
   "metadata": {},
   "outputs": [],
   "source": [
    "h = bh.Histogram(bh.axis.Regular(30, 0, 2*np.pi, circular=True))\n",
    "h.fill(np.random.uniform(0, np.pi*4, size=300))"
   ]
  },
  {
   "cell_type": "code",
   "execution_count": null,
   "metadata": {},
   "outputs": [],
   "source": [
    "ax = plt.subplot(111, polar=True)\n",
    "\n",
    "plothist = lambda h: plt.bar(h.axes[0].centers, h, width=h.axes[0].widths)\n",
    "plothist(h);"
   ]
  },
  {
   "cell_type": "markdown",
   "metadata": {},
   "source": [
    "### **6. Storage and accumulators**"
   ]
  },
  {
   "cell_type": "code",
   "execution_count": null,
   "metadata": {},
   "outputs": [],
   "source": [
    "hist6 = bh.Histogram(bh.axis.Regular(10,0,10), storage=bh.storage.Mean())"
   ]
  },
  {
   "cell_type": "code",
   "execution_count": null,
   "metadata": {},
   "outputs": [],
   "source": [
    "hist6.fill([0.5]*3, sample=[.3, .4, .5])"
   ]
  },
  {
   "cell_type": "code",
   "execution_count": null,
   "metadata": {},
   "outputs": [],
   "source": [
    "hist6[0]"
   ]
  },
  {
   "cell_type": "markdown",
   "metadata": {},
   "source": [
    "Boost-histogram has several different storages; storages store accumulators. Let's try making a profile."
   ]
  },
  {
   "cell_type": "code",
   "execution_count": null,
   "metadata": {},
   "outputs": [],
   "source": [
    "mean = bh.accumulators.Mean()\n",
    "mean.fill([.3, .4, .5])"
   ]
  },
  {
   "cell_type": "markdown",
   "metadata": {},
   "source": [
    "Here's a quick example accessing the values:"
   ]
  },
  {
   "cell_type": "code",
   "execution_count": null,
   "metadata": {},
   "outputs": [],
   "source": [
    "print(f\"mean.count={mean.count} mean.value={mean.value} mean.variance={mean.variance}\")\n",
    "\n",
    "# Python 3.8:\n",
    "# print(f\"{mean.count=} {mean.value=} {mean.variance=}\")"
   ]
  },
  {
   "cell_type": "markdown",
   "metadata": {},
   "source": [
    "&nbsp;<br><center><img src=\"images/logo_aghast.png\" alt=\"aghast package logo\" style=\"width: 200px;\"/></center>\n",
    "\n",
    "<center><h2><b><span style=\"color:green\">Aggregated, histogram-like statistics, sharable as Flatbuffers</span></b></h2></center>"
   ]
  },
  {
   "cell_type": "markdown",
   "metadata": {},
   "source": [
    "As the package README says:\n",
    "\n",
    "- *Aghast is a histogramming library that does not fill histograms and does not plot them. Its role is behind the scenes, to provide better communication between histogramming libraries.*!\n",
    "\n",
    "- *The purpose of aghast is to be an intermediate when converting ROOT histograms into NumPy, or vice-versa, or both of these into Boost.Histogram, Physt, Pandas, etc. Without an intermediate representation, converting between N libraries (to get the advantages of all) would equire N(N ‒ 1)/2 conversion routines; with an intermediate representation, we only need N, and the mapping of feature to feature can be made explicit in terms of a common language.*\n",
    "\n",
    "**In other words, `aghast` is designed to move aggregated, histogram-like statistics (called \"ghasts\") from one framework to the next.**\n",
    "\n",
    "A very brief intro follows below. See the [GitHub repository](https://github.com/scikit-hep/aghast) for full documentation and a more comprehensive tutorial. "
   ]
  },
  {
   "cell_type": "code",
   "execution_count": null,
   "metadata": {},
   "outputs": [],
   "source": [
    "import aghast\n",
    "\n",
    "import numpy"
   ]
  },
  {
   "cell_type": "code",
   "execution_count": null,
   "metadata": {},
   "outputs": [],
   "source": [
    "h_numpy = numpy.histogram(numpy.random.normal(0, 1, 100000), bins=20, range=(-5, 5))\n",
    "h_numpy"
   ]
  },
  {
   "cell_type": "markdown",
   "metadata": {},
   "source": [
    "Conversion are done via `from_XXX` and `to_XXX`connections. Let's get the \"aghast equivalent\":"
   ]
  },
  {
   "cell_type": "code",
   "execution_count": null,
   "metadata": {},
   "outputs": [],
   "source": [
    "h_aghast = aghast.from_numpy(h_numpy)\n",
    "\n",
    "h_aghast.dump()"
   ]
  },
  {
   "cell_type": "code",
   "execution_count": null,
   "metadata": {},
   "outputs": [],
   "source": [
    "h_pandas = aghast.to_pandas(h_aghast)\n",
    "\n",
    "h_pandas"
   ]
  },
  {
   "cell_type": "markdown",
   "metadata": {},
   "source": [
    "**Interoperability with ROOT** uses yet another connector:"
   ]
  },
  {
   "cell_type": "code",
   "execution_count": null,
   "metadata": {},
   "outputs": [],
   "source": [
    "h_root = aghast.to_root(h_aghast,name='test')\n",
    "\n",
    "import ROOT\n",
    "\n",
    "c = ROOT.TCanvas()\n",
    "h_root.Draw()\n",
    "c.Draw()"
   ]
  },
  {
   "cell_type": "markdown",
   "metadata": {},
   "source": [
    "Serialization of the \"ghast\"  produces a *Flatbuffers* object, which has a random-access and small footprint:"
   ]
  },
  {
   "cell_type": "code",
   "execution_count": null,
   "metadata": {},
   "outputs": [],
   "source": [
    "print(\"Numpy size: \", h_numpy[0].nbytes + h_numpy[1].nbytes)\n",
    "\n",
    "tmessage = ROOT.TMessage()\n",
    "tmessage.WriteObject(h_root)\n",
    "print(\"ROOT size:  \", tmessage.Length())\n",
    "\n",
    "import pickle\n",
    "print(\"Pandas size:\", len(pickle.dumps(h_pandas)))\n",
    "\n",
    "print(\"Aghast size: \", len(h_aghast.tobuffer()))"
   ]
  },
  {
   "cell_type": "markdown",
   "metadata": {},
   "source": [
    "&nbsp;<br><center><img src=\"images/logo_mplhep.png\" alt=\"mplhep package logo\" style=\"width: 200px;\"/></center>\n",
    "\n",
    "<center><h2><b><span style=\"color:green\">HEP domain-specific add-ons to matplotlib</span></b></h2></center>"
   ]
  },
  {
   "cell_type": "code",
   "execution_count": null,
   "metadata": {},
   "outputs": [],
   "source": [
    "import mplhep\n",
    "\n",
    "import numpy as np\n",
    "import matplotlib.pyplot as plt"
   ]
  },
  {
   "cell_type": "markdown",
   "metadata": {},
   "source": [
    "### **1. Some basics**\n",
    "\n",
    "\"Standard\" 1D histograms:"
   ]
  },
  {
   "cell_type": "code",
   "execution_count": null,
   "metadata": {},
   "outputs": [],
   "source": [
    "h, bins = np.histogram(np.random.normal(10,3,400), bins = 10)\n",
    "\n",
    "f, axs = plt.subplots(2,2, sharex=True, sharey=True)\n",
    "axs = axs.flatten()\n",
    "\n",
    "axs[0].set_title(\"Default\", fontsize=18)\n",
    "mplhep.histplot(h, bins, ax=axs[0])\n",
    "\n",
    "axs[1].set_title(\"Plot Edges\", fontsize=18)\n",
    "mplhep.histplot(h, bins, edges=True, ax=axs[1])\n",
    "\n",
    "axs[2].set_title(\"Plot Errorbars\", fontsize=18)\n",
    "mplhep.histplot(h, bins, yerr=np.sqrt(h), ax=axs[2])\n",
    "\n",
    "axs[3].set_title(\"Filled Histogram\", fontsize=18)\n",
    "mplhep.histplot(h, bins, histtype='fill', ax=axs[3])\n",
    "\n",
    "\n",
    "plt.tight_layout()\n",
    "plt.show()"
   ]
  },
  {
   "cell_type": "markdown",
   "metadata": {},
   "source": [
    "1D histograms with overlay:"
   ]
  },
  {
   "cell_type": "code",
   "execution_count": null,
   "metadata": {},
   "outputs": [],
   "source": [
    "h, bins = np.histogram(np.random.normal(10,3,400), bins = 10)\n",
    "\n",
    "f, axs = plt.subplots(2,2, sharex=True, sharey=True)\n",
    "axs = axs.flatten()\n",
    "\n",
    "axs[0].set_title(\"Default Overlay\", fontsize=18)\n",
    "mplhep.histplot([h, 1.5*h], bins, ax=axs[0])\n",
    "\n",
    "axs[1].set_title(\"Default Overlay w/ Errorbars\", fontsize=18)\n",
    "mplhep.histplot([h, 1.5*h], bins, yerr=[np.sqrt(h), np.sqrt(1.5*h)], ax=axs[1])\n",
    "\n",
    "\n",
    "axs[2].set_title(\"Automatic Errorbars\", fontsize=18)\n",
    "mplhep.histplot([h, 1.5*h], bins, yerr=True, ax=axs[2])\n",
    "\n",
    "axs[3].set_title(\"With Labels\", fontsize=18)\n",
    "mplhep.histplot([h, 1.5*h], bins, yerr=True, ax=axs[3], label=[\"First\", \"Second\"])\n",
    "\n",
    "axs[3].legend(fontsize=16)\n",
    "\n",
    "plt.tight_layout()\n",
    "plt.show()"
   ]
  },
  {
   "cell_type": "markdown",
   "metadata": {},
   "source": [
    "Stacked 1D histogram:"
   ]
  },
  {
   "cell_type": "code",
   "execution_count": null,
   "metadata": {},
   "outputs": [],
   "source": [
    "f, axs = plt.subplots(2,2, sharex=True, sharey=True)#, figsize=(10, 5))\n",
    "axs = axs.flatten()\n",
    "\n",
    "axs[0].set_title(\"Default\", fontsize=18)\n",
    "mplhep.histplot([h, 1.5*h], bins, stack=True, ax=axs[0])\n",
    "\n",
    "axs[1].set_title(\"Plot Edges\", fontsize=18)\n",
    "mplhep.histplot([h, 1.5*h], bins, edges=True, stack=True,ax=axs[1])\n",
    "\n",
    "axs[2].set_title(\"Plot Errorbars\", fontsize=18)\n",
    "mplhep.histplot([h, 1.5*h], bins, yerr=np.sqrt(h), stack=True, ax=axs[2])\n",
    "\n",
    "axs[3].set_title(\"Filled Histogram\", fontsize=18)\n",
    "mplhep.histplot([1.5*h, h], bins, histtype='fill', stack=True, ax=axs[3])\n",
    "\n",
    "plt.tight_layout()\n",
    "plt.show()"
   ]
  },
  {
   "cell_type": "markdown",
   "metadata": {},
   "source": [
    "### **2. Fancier plots**"
   ]
  },
  {
   "cell_type": "code",
   "execution_count": null,
   "metadata": {},
   "outputs": [],
   "source": [
    "fig, ax = plt.subplots()\n",
    "\n",
    "xedges = [0, 1, 3, 5]\n",
    "yedges = [0, 2, 3, 4, 6,7]\n",
    "x = np.random.normal(2, 1, 100)\n",
    "y = np.random.normal(4, 1, 100)\n",
    "\n",
    "mplhep.hist2dplot(*np.histogram2d(x, y, bins=(xedges, yedges)));"
   ]
  },
  {
   "cell_type": "markdown",
   "metadata": {},
   "source": [
    "Starting from a `boost-histogram` histogram? Just do the following:"
   ]
  },
  {
   "cell_type": "code",
   "execution_count": null,
   "metadata": {},
   "outputs": [],
   "source": [
    "h2 = bh.Histogram(\n",
    "    bh.axis.Variable(xedges),\n",
    "    bh.axis.Variable(yedges)\n",
    ")\n",
    "h2.fill(x,y)\n",
    "\n",
    "mplhep.hist2dplot(*h2.to_numpy());"
   ]
  },
  {
   "cell_type": "markdown",
   "metadata": {},
   "source": [
    "### **3. Styling**"
   ]
  },
  {
   "cell_type": "code",
   "execution_count": null,
   "metadata": {},
   "outputs": [],
   "source": [
    "x = np.random.uniform(0, 10, 240)\n",
    "y = np.random.normal(512, 112, 240)\n",
    "z = np.random.normal(0.5, 0.1, 240)\n",
    "\n",
    "plt.style.use([mplhep.style.ROOT, mplhep.style.firamath])\n",
    "\n",
    "f, ax = plt.subplots()\n",
    "ax.scatter(x,y, c=z, label='XSX')\n",
    "mplhep.cms.cmslabel(loc=0)\n",
    "\n",
    "plt.show()"
   ]
  },
  {
   "cell_type": "markdown",
   "metadata": {},
   "source": [
    "A more complicated example:"
   ]
  },
  {
   "cell_type": "code",
   "execution_count": null,
   "metadata": {},
   "outputs": [],
   "source": [
    "import matplotlib as mpl\n",
    "import matplotlib.pyplot as plt\n",
    "\n",
    "import numpy as np\n",
    "C = ['darkorange', 'steelblue', 'firebrick', 'purple']\n",
    "\n",
    "# Figure\n",
    "f, ax = plt.subplots()\n",
    "\n",
    "# Make some data\n",
    "x = np.linspace(0,10,101)\n",
    "y0 = x**(1.2)\n",
    "y1 = x**(1.5)\n",
    "y2 = x**(1.8)\n",
    "y3 = x**(2)\n",
    "\n",
    "ax.plot(x, y0, lw=4, label=r\"Q - tail strikethrough (Arial/Helvetica) \", c=C[0])\n",
    "ax.plot(x, y1, lw=3, label=r\"& - ampersand, two full loops (Arial/Helvetica)\", c=C[1])\n",
    "ax.plot(x, y2, lw=2, label=r\"$\\mathrm{l, M}$ - not straight (Fira)\", c=C[2])\n",
    "ax.plot(x, y3, lw=1, label=r\"t - slanted top, G - sharp bottom edge\" \"\\n\" r\"Straight M (Arial)\", c=C[3])\n",
    "\n",
    "# Set limits and labels\n",
    "ax.set_xlim(0,10)\n",
    "ax.set_ylim(0.01,100000)\n",
    "ax.set_xlabel(r'$\\mathrm{X \\rightarrow\\ b\\bar{b}}$ or $\\mathrm{p_T [GeV]}$', ha='right', x=1.0)\n",
    "ax.set_ylabel('y-label', ha='right', y=1.0)\n",
    "\n",
    "# Legend\n",
    "leg = ax.legend(borderpad=0.5, frameon=False, loc=2)\n",
    "leg.set_title('How to tell you are using the right font:')\n",
    "leg._legend_box.align = \"left\" # Align legend title\n",
    "\n",
    "# Annotationg and math examples\n",
    "math_desc =  r\"$\\mathbf{Math:}$\" \\\n",
    "      + \"\\n\" +r\"Straight (rm) : $\\mathrm{10GeVtlM&\\omega\\Psi\\Lambda}$\" \\\n",
    "      + \"\\n\" +r\"Bold (bf) : $\\mathbf{10GeVtlM\\omega\\Psi\\eta}$\" \\\n",
    "      + \"\\n\" +r\"Tilted (it) : $\\mathit{10GeVtl&M\\omega\\Psi\\eta}$ - no FiraMath Italics\" \n",
    "ax.annotate(math_desc, xy=(0.12, 0.05), xycoords='axes fraction', fontsize = \"small\",\n",
    "             ha='left', annotation_clip=False)\n",
    "\n",
    "# Apply CMS labels and ticks\n",
    "#ax = cms_annot(ax, data=True, lumi=2.5)\n",
    "mplhep.cms.cmslabel()\n",
    "\n",
    "ax.grid()\n",
    "ax.semilogy()\n",
    "\n",
    "ax;"
   ]
  }
 ],
 "metadata": {
  "kernelspec": {
   "display_name": "Python 3",
   "language": "python",
   "name": "python3"
  },
  "language_info": {
   "codemirror_mode": {
    "name": "ipython",
    "version": 3
   },
   "file_extension": ".py",
   "mimetype": "text/x-python",
   "name": "python",
   "nbconvert_exporter": "python",
   "pygments_lexer": "ipython3",
   "version": "3.7.4"
  }
 },
 "nbformat": 4,
 "nbformat_minor": 4
}
